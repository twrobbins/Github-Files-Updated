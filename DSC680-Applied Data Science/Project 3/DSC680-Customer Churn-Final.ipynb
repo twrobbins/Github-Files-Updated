{
 "cells": [
  {
   "cell_type": "code",
   "execution_count": 1,
   "metadata": {},
   "outputs": [
    {
     "name": "stderr",
     "output_type": "stream",
     "text": [
      "\n",
      "Attaching package: 'dplyr'\n",
      "\n",
      "\n",
      "The following objects are masked from 'package:stats':\n",
      "\n",
      "    filter, lag\n",
      "\n",
      "\n",
      "The following objects are masked from 'package:base':\n",
      "\n",
      "    intersect, setdiff, setequal, union\n",
      "\n",
      "\n",
      "Loading required package: lattice\n",
      "\n",
      "Loading required package: ggplot2\n",
      "\n",
      "corrplot 0.84 loaded\n",
      "\n",
      "For binary classification, the first factor level is assumed to be the event.\n",
      "Use the argument `event_level = \"second\"` to alter this as needed.\n",
      "\n",
      "\n",
      "Attaching package: 'yardstick'\n",
      "\n",
      "\n",
      "The following objects are masked from 'package:caret':\n",
      "\n",
      "    precision, recall, sensitivity, specificity\n",
      "\n",
      "\n"
     ]
    }
   ],
   "source": [
    "library(dplyr)\n",
    "library(caret)\n",
    "library(corrplot)\n",
    "library(ROCR)\n",
    "library(yardstick)\n"
   ]
  },
  {
   "cell_type": "code",
   "execution_count": 2,
   "metadata": {},
   "outputs": [
    {
     "data": {
      "text/html": [
       "<table>\n",
       "<caption>A data.frame: 6 × 20</caption>\n",
       "<thead>\n",
       "\t<tr><th></th><th scope=col>State</th><th scope=col>Account.length</th><th scope=col>Area.code</th><th scope=col>International.plan</th><th scope=col>Voice.mail.plan</th><th scope=col>Number.vmail.messages</th><th scope=col>Total.day.minutes</th><th scope=col>Total.day.calls</th><th scope=col>Total.day.charge</th><th scope=col>Total.eve.minutes</th><th scope=col>Total.eve.calls</th><th scope=col>Total.eve.charge</th><th scope=col>Total.night.minutes</th><th scope=col>Total.night.calls</th><th scope=col>Total.night.charge</th><th scope=col>Total.intl.minutes</th><th scope=col>Total.intl.calls</th><th scope=col>Total.intl.charge</th><th scope=col>Customer.service.calls</th><th scope=col>Churn</th></tr>\n",
       "\t<tr><th></th><th scope=col>&lt;chr&gt;</th><th scope=col>&lt;int&gt;</th><th scope=col>&lt;int&gt;</th><th scope=col>&lt;chr&gt;</th><th scope=col>&lt;chr&gt;</th><th scope=col>&lt;int&gt;</th><th scope=col>&lt;dbl&gt;</th><th scope=col>&lt;int&gt;</th><th scope=col>&lt;dbl&gt;</th><th scope=col>&lt;dbl&gt;</th><th scope=col>&lt;int&gt;</th><th scope=col>&lt;dbl&gt;</th><th scope=col>&lt;dbl&gt;</th><th scope=col>&lt;int&gt;</th><th scope=col>&lt;dbl&gt;</th><th scope=col>&lt;dbl&gt;</th><th scope=col>&lt;int&gt;</th><th scope=col>&lt;dbl&gt;</th><th scope=col>&lt;int&gt;</th><th scope=col>&lt;lgl&gt;</th></tr>\n",
       "</thead>\n",
       "<tbody>\n",
       "\t<tr><th scope=row>1</th><td>KS</td><td>128</td><td>415</td><td>No </td><td>Yes</td><td>25</td><td>265.1</td><td>110</td><td>45.07</td><td>197.4</td><td> 99</td><td>16.78</td><td>244.7</td><td> 91</td><td>11.01</td><td>10.0</td><td>3</td><td>2.70</td><td>1</td><td>FALSE</td></tr>\n",
       "\t<tr><th scope=row>2</th><td>OH</td><td>107</td><td>415</td><td>No </td><td>Yes</td><td>26</td><td>161.6</td><td>123</td><td>27.47</td><td>195.5</td><td>103</td><td>16.62</td><td>254.4</td><td>103</td><td>11.45</td><td>13.7</td><td>3</td><td>3.70</td><td>1</td><td>FALSE</td></tr>\n",
       "\t<tr><th scope=row>3</th><td>NJ</td><td>137</td><td>415</td><td>No </td><td>No </td><td> 0</td><td>243.4</td><td>114</td><td>41.38</td><td>121.2</td><td>110</td><td>10.30</td><td>162.6</td><td>104</td><td> 7.32</td><td>12.2</td><td>5</td><td>3.29</td><td>0</td><td>FALSE</td></tr>\n",
       "\t<tr><th scope=row>4</th><td>OH</td><td> 84</td><td>408</td><td>Yes</td><td>No </td><td> 0</td><td>299.4</td><td> 71</td><td>50.90</td><td> 61.9</td><td> 88</td><td> 5.26</td><td>196.9</td><td> 89</td><td> 8.86</td><td> 6.6</td><td>7</td><td>1.78</td><td>2</td><td>FALSE</td></tr>\n",
       "\t<tr><th scope=row>5</th><td>OK</td><td> 75</td><td>415</td><td>Yes</td><td>No </td><td> 0</td><td>166.7</td><td>113</td><td>28.34</td><td>148.3</td><td>122</td><td>12.61</td><td>186.9</td><td>121</td><td> 8.41</td><td>10.1</td><td>3</td><td>2.73</td><td>3</td><td>FALSE</td></tr>\n",
       "\t<tr><th scope=row>6</th><td>AL</td><td>118</td><td>510</td><td>Yes</td><td>No </td><td> 0</td><td>223.4</td><td> 98</td><td>37.98</td><td>220.6</td><td>101</td><td>18.75</td><td>203.9</td><td>118</td><td> 9.18</td><td> 6.3</td><td>6</td><td>1.70</td><td>0</td><td>FALSE</td></tr>\n",
       "</tbody>\n",
       "</table>\n"
      ],
      "text/latex": [
       "A data.frame: 6 × 20\n",
       "\\begin{tabular}{r|llllllllllllllllllll}\n",
       "  & State & Account.length & Area.code & International.plan & Voice.mail.plan & Number.vmail.messages & Total.day.minutes & Total.day.calls & Total.day.charge & Total.eve.minutes & Total.eve.calls & Total.eve.charge & Total.night.minutes & Total.night.calls & Total.night.charge & Total.intl.minutes & Total.intl.calls & Total.intl.charge & Customer.service.calls & Churn\\\\\n",
       "  & <chr> & <int> & <int> & <chr> & <chr> & <int> & <dbl> & <int> & <dbl> & <dbl> & <int> & <dbl> & <dbl> & <int> & <dbl> & <dbl> & <int> & <dbl> & <int> & <lgl>\\\\\n",
       "\\hline\n",
       "\t1 & KS & 128 & 415 & No  & Yes & 25 & 265.1 & 110 & 45.07 & 197.4 &  99 & 16.78 & 244.7 &  91 & 11.01 & 10.0 & 3 & 2.70 & 1 & FALSE\\\\\n",
       "\t2 & OH & 107 & 415 & No  & Yes & 26 & 161.6 & 123 & 27.47 & 195.5 & 103 & 16.62 & 254.4 & 103 & 11.45 & 13.7 & 3 & 3.70 & 1 & FALSE\\\\\n",
       "\t3 & NJ & 137 & 415 & No  & No  &  0 & 243.4 & 114 & 41.38 & 121.2 & 110 & 10.30 & 162.6 & 104 &  7.32 & 12.2 & 5 & 3.29 & 0 & FALSE\\\\\n",
       "\t4 & OH &  84 & 408 & Yes & No  &  0 & 299.4 &  71 & 50.90 &  61.9 &  88 &  5.26 & 196.9 &  89 &  8.86 &  6.6 & 7 & 1.78 & 2 & FALSE\\\\\n",
       "\t5 & OK &  75 & 415 & Yes & No  &  0 & 166.7 & 113 & 28.34 & 148.3 & 122 & 12.61 & 186.9 & 121 &  8.41 & 10.1 & 3 & 2.73 & 3 & FALSE\\\\\n",
       "\t6 & AL & 118 & 510 & Yes & No  &  0 & 223.4 &  98 & 37.98 & 220.6 & 101 & 18.75 & 203.9 & 118 &  9.18 &  6.3 & 6 & 1.70 & 0 & FALSE\\\\\n",
       "\\end{tabular}\n"
      ],
      "text/markdown": [
       "\n",
       "A data.frame: 6 × 20\n",
       "\n",
       "| <!--/--> | State &lt;chr&gt; | Account.length &lt;int&gt; | Area.code &lt;int&gt; | International.plan &lt;chr&gt; | Voice.mail.plan &lt;chr&gt; | Number.vmail.messages &lt;int&gt; | Total.day.minutes &lt;dbl&gt; | Total.day.calls &lt;int&gt; | Total.day.charge &lt;dbl&gt; | Total.eve.minutes &lt;dbl&gt; | Total.eve.calls &lt;int&gt; | Total.eve.charge &lt;dbl&gt; | Total.night.minutes &lt;dbl&gt; | Total.night.calls &lt;int&gt; | Total.night.charge &lt;dbl&gt; | Total.intl.minutes &lt;dbl&gt; | Total.intl.calls &lt;int&gt; | Total.intl.charge &lt;dbl&gt; | Customer.service.calls &lt;int&gt; | Churn &lt;lgl&gt; |\n",
       "|---|---|---|---|---|---|---|---|---|---|---|---|---|---|---|---|---|---|---|---|---|\n",
       "| 1 | KS | 128 | 415 | No  | Yes | 25 | 265.1 | 110 | 45.07 | 197.4 |  99 | 16.78 | 244.7 |  91 | 11.01 | 10.0 | 3 | 2.70 | 1 | FALSE |\n",
       "| 2 | OH | 107 | 415 | No  | Yes | 26 | 161.6 | 123 | 27.47 | 195.5 | 103 | 16.62 | 254.4 | 103 | 11.45 | 13.7 | 3 | 3.70 | 1 | FALSE |\n",
       "| 3 | NJ | 137 | 415 | No  | No  |  0 | 243.4 | 114 | 41.38 | 121.2 | 110 | 10.30 | 162.6 | 104 |  7.32 | 12.2 | 5 | 3.29 | 0 | FALSE |\n",
       "| 4 | OH |  84 | 408 | Yes | No  |  0 | 299.4 |  71 | 50.90 |  61.9 |  88 |  5.26 | 196.9 |  89 |  8.86 |  6.6 | 7 | 1.78 | 2 | FALSE |\n",
       "| 5 | OK |  75 | 415 | Yes | No  |  0 | 166.7 | 113 | 28.34 | 148.3 | 122 | 12.61 | 186.9 | 121 |  8.41 | 10.1 | 3 | 2.73 | 3 | FALSE |\n",
       "| 6 | AL | 118 | 510 | Yes | No  |  0 | 223.4 |  98 | 37.98 | 220.6 | 101 | 18.75 | 203.9 | 118 |  9.18 |  6.3 | 6 | 1.70 | 0 | FALSE |\n",
       "\n"
      ],
      "text/plain": [
       "  State Account.length Area.code International.plan Voice.mail.plan\n",
       "1 KS    128            415       No                 Yes            \n",
       "2 OH    107            415       No                 Yes            \n",
       "3 NJ    137            415       No                 No             \n",
       "4 OH     84            408       Yes                No             \n",
       "5 OK     75            415       Yes                No             \n",
       "6 AL    118            510       Yes                No             \n",
       "  Number.vmail.messages Total.day.minutes Total.day.calls Total.day.charge\n",
       "1 25                    265.1             110             45.07           \n",
       "2 26                    161.6             123             27.47           \n",
       "3  0                    243.4             114             41.38           \n",
       "4  0                    299.4              71             50.90           \n",
       "5  0                    166.7             113             28.34           \n",
       "6  0                    223.4              98             37.98           \n",
       "  Total.eve.minutes Total.eve.calls Total.eve.charge Total.night.minutes\n",
       "1 197.4              99             16.78            244.7              \n",
       "2 195.5             103             16.62            254.4              \n",
       "3 121.2             110             10.30            162.6              \n",
       "4  61.9              88              5.26            196.9              \n",
       "5 148.3             122             12.61            186.9              \n",
       "6 220.6             101             18.75            203.9              \n",
       "  Total.night.calls Total.night.charge Total.intl.minutes Total.intl.calls\n",
       "1  91               11.01              10.0               3               \n",
       "2 103               11.45              13.7               3               \n",
       "3 104                7.32              12.2               5               \n",
       "4  89                8.86               6.6               7               \n",
       "5 121                8.41              10.1               3               \n",
       "6 118                9.18               6.3               6               \n",
       "  Total.intl.charge Customer.service.calls Churn\n",
       "1 2.70              1                      FALSE\n",
       "2 3.70              1                      FALSE\n",
       "3 3.29              0                      FALSE\n",
       "4 1.78              2                      FALSE\n",
       "5 2.73              3                      FALSE\n",
       "6 1.70              0                      FALSE"
      ]
     },
     "metadata": {},
     "output_type": "display_data"
    }
   ],
   "source": [
    "# read training dataset\n",
    "churn <- read.csv('churn-bigml-80.csv')\n",
    "\n",
    "head(churn)"
   ]
  },
  {
   "cell_type": "markdown",
   "metadata": {},
   "source": [
    "# EDA"
   ]
  },
  {
   "cell_type": "code",
   "execution_count": 3,
   "metadata": {},
   "outputs": [
    {
     "data": {
      "text/html": [
       "<style>\n",
       ".list-inline {list-style: none; margin:0; padding: 0}\n",
       ".list-inline>li {display: inline-block}\n",
       ".list-inline>li:not(:last-child)::after {content: \"\\00b7\"; padding: 0 .5ex}\n",
       "</style>\n",
       "<ol class=list-inline><li>'State'</li><li>'Account.length'</li><li>'Area.code'</li><li>'International.plan'</li><li>'Voice.mail.plan'</li><li>'Number.vmail.messages'</li><li>'Total.day.minutes'</li><li>'Total.day.calls'</li><li>'Total.day.charge'</li><li>'Total.eve.minutes'</li><li>'Total.eve.calls'</li><li>'Total.eve.charge'</li><li>'Total.night.minutes'</li><li>'Total.night.calls'</li><li>'Total.night.charge'</li><li>'Total.intl.minutes'</li><li>'Total.intl.calls'</li><li>'Total.intl.charge'</li><li>'Customer.service.calls'</li><li>'Churn'</li></ol>\n"
      ],
      "text/latex": [
       "\\begin{enumerate*}\n",
       "\\item 'State'\n",
       "\\item 'Account.length'\n",
       "\\item 'Area.code'\n",
       "\\item 'International.plan'\n",
       "\\item 'Voice.mail.plan'\n",
       "\\item 'Number.vmail.messages'\n",
       "\\item 'Total.day.minutes'\n",
       "\\item 'Total.day.calls'\n",
       "\\item 'Total.day.charge'\n",
       "\\item 'Total.eve.minutes'\n",
       "\\item 'Total.eve.calls'\n",
       "\\item 'Total.eve.charge'\n",
       "\\item 'Total.night.minutes'\n",
       "\\item 'Total.night.calls'\n",
       "\\item 'Total.night.charge'\n",
       "\\item 'Total.intl.minutes'\n",
       "\\item 'Total.intl.calls'\n",
       "\\item 'Total.intl.charge'\n",
       "\\item 'Customer.service.calls'\n",
       "\\item 'Churn'\n",
       "\\end{enumerate*}\n"
      ],
      "text/markdown": [
       "1. 'State'\n",
       "2. 'Account.length'\n",
       "3. 'Area.code'\n",
       "4. 'International.plan'\n",
       "5. 'Voice.mail.plan'\n",
       "6. 'Number.vmail.messages'\n",
       "7. 'Total.day.minutes'\n",
       "8. 'Total.day.calls'\n",
       "9. 'Total.day.charge'\n",
       "10. 'Total.eve.minutes'\n",
       "11. 'Total.eve.calls'\n",
       "12. 'Total.eve.charge'\n",
       "13. 'Total.night.minutes'\n",
       "14. 'Total.night.calls'\n",
       "15. 'Total.night.charge'\n",
       "16. 'Total.intl.minutes'\n",
       "17. 'Total.intl.calls'\n",
       "18. 'Total.intl.charge'\n",
       "19. 'Customer.service.calls'\n",
       "20. 'Churn'\n",
       "\n",
       "\n"
      ],
      "text/plain": [
       " [1] \"State\"                  \"Account.length\"         \"Area.code\"             \n",
       " [4] \"International.plan\"     \"Voice.mail.plan\"        \"Number.vmail.messages\" \n",
       " [7] \"Total.day.minutes\"      \"Total.day.calls\"        \"Total.day.charge\"      \n",
       "[10] \"Total.eve.minutes\"      \"Total.eve.calls\"        \"Total.eve.charge\"      \n",
       "[13] \"Total.night.minutes\"    \"Total.night.calls\"      \"Total.night.charge\"    \n",
       "[16] \"Total.intl.minutes\"     \"Total.intl.calls\"       \"Total.intl.charge\"     \n",
       "[19] \"Customer.service.calls\" \"Churn\"                 "
      ]
     },
     "metadata": {},
     "output_type": "display_data"
    }
   ],
   "source": [
    "names(churn)"
   ]
  },
  {
   "cell_type": "code",
   "execution_count": 4,
   "metadata": {},
   "outputs": [
    {
     "name": "stdout",
     "output_type": "stream",
     "text": [
      "Rows: 2,666\n",
      "Columns: 20\n",
      "$ State                  \u001b[3m\u001b[90m<chr>\u001b[39m\u001b[23m \"KS\", \"OH\", \"NJ\", \"OH\", \"OK\", \"AL\", \"MA\", \"M...\n",
      "$ Account.length         \u001b[3m\u001b[90m<int>\u001b[39m\u001b[23m 128, 107, 137, 84, 75, 118, 121, 147, 141, 7...\n",
      "$ Area.code              \u001b[3m\u001b[90m<int>\u001b[39m\u001b[23m 415, 415, 415, 408, 415, 510, 510, 415, 415,...\n",
      "$ International.plan     \u001b[3m\u001b[90m<chr>\u001b[39m\u001b[23m \"No\", \"No\", \"No\", \"Yes\", \"Yes\", \"Yes\", \"No\",...\n",
      "$ Voice.mail.plan        \u001b[3m\u001b[90m<chr>\u001b[39m\u001b[23m \"Yes\", \"Yes\", \"No\", \"No\", \"No\", \"No\", \"Yes\",...\n",
      "$ Number.vmail.messages  \u001b[3m\u001b[90m<int>\u001b[39m\u001b[23m 25, 26, 0, 0, 0, 0, 24, 0, 37, 0, 0, 0, 0, 2...\n",
      "$ Total.day.minutes      \u001b[3m\u001b[90m<dbl>\u001b[39m\u001b[23m 265.1, 161.6, 243.4, 299.4, 166.7, 223.4, 21...\n",
      "$ Total.day.calls        \u001b[3m\u001b[90m<int>\u001b[39m\u001b[23m 110, 123, 114, 71, 113, 98, 88, 79, 84, 127,...\n",
      "$ Total.day.charge       \u001b[3m\u001b[90m<dbl>\u001b[39m\u001b[23m 45.07, 27.47, 41.38, 50.90, 28.34, 37.98, 37...\n",
      "$ Total.eve.minutes      \u001b[3m\u001b[90m<dbl>\u001b[39m\u001b[23m 197.4, 195.5, 121.2, 61.9, 148.3, 220.6, 348...\n",
      "$ Total.eve.calls        \u001b[3m\u001b[90m<int>\u001b[39m\u001b[23m 99, 103, 110, 88, 122, 101, 108, 94, 111, 14...\n",
      "$ Total.eve.charge       \u001b[3m\u001b[90m<dbl>\u001b[39m\u001b[23m 16.78, 16.62, 10.30, 5.26, 12.61, 18.75, 29....\n",
      "$ Total.night.minutes    \u001b[3m\u001b[90m<dbl>\u001b[39m\u001b[23m 244.7, 254.4, 162.6, 196.9, 186.9, 203.9, 21...\n",
      "$ Total.night.calls      \u001b[3m\u001b[90m<int>\u001b[39m\u001b[23m 91, 103, 104, 89, 121, 118, 118, 96, 97, 94,...\n",
      "$ Total.night.charge     \u001b[3m\u001b[90m<dbl>\u001b[39m\u001b[23m 11.01, 11.45, 7.32, 8.86, 8.41, 9.18, 9.57, ...\n",
      "$ Total.intl.minutes     \u001b[3m\u001b[90m<dbl>\u001b[39m\u001b[23m 10.0, 13.7, 12.2, 6.6, 10.1, 6.3, 7.5, 7.1, ...\n",
      "$ Total.intl.calls       \u001b[3m\u001b[90m<int>\u001b[39m\u001b[23m 3, 3, 5, 7, 3, 6, 7, 6, 5, 5, 2, 5, 6, 4, 3,...\n",
      "$ Total.intl.charge      \u001b[3m\u001b[90m<dbl>\u001b[39m\u001b[23m 2.70, 3.70, 3.29, 1.78, 2.73, 1.70, 2.03, 1....\n",
      "$ Customer.service.calls \u001b[3m\u001b[90m<int>\u001b[39m\u001b[23m 1, 1, 0, 2, 3, 0, 3, 0, 0, 0, 1, 3, 4, 1, 3,...\n",
      "$ Churn                  \u001b[3m\u001b[90m<lgl>\u001b[39m\u001b[23m FALSE, FALSE, FALSE, FALSE, FALSE, FALSE, FA...\n"
     ]
    }
   ],
   "source": [
    "# look at structure of dataset\n",
    "glimpse(churn)"
   ]
  },
  {
   "cell_type": "code",
   "execution_count": 5,
   "metadata": {},
   "outputs": [
    {
     "data": {
      "text/plain": [
       "    State           Account.length    Area.code     International.plan\n",
       " Length:2666        Min.   :  1.0   Min.   :408.0   Length:2666       \n",
       " Class :character   1st Qu.: 73.0   1st Qu.:408.0   Class :character  \n",
       " Mode  :character   Median :100.0   Median :415.0   Mode  :character  \n",
       "                    Mean   :100.6   Mean   :437.4                     \n",
       "                    3rd Qu.:127.0   3rd Qu.:510.0                     \n",
       "                    Max.   :243.0   Max.   :510.0                     \n",
       " Voice.mail.plan    Number.vmail.messages Total.day.minutes Total.day.calls\n",
       " Length:2666        Min.   : 0.000        Min.   :  0.0     Min.   :  0.0  \n",
       " Class :character   1st Qu.: 0.000        1st Qu.:143.4     1st Qu.: 87.0  \n",
       " Mode  :character   Median : 0.000        Median :179.9     Median :101.0  \n",
       "                    Mean   : 8.022        Mean   :179.5     Mean   :100.3  \n",
       "                    3rd Qu.:19.000        3rd Qu.:215.9     3rd Qu.:114.0  \n",
       "                    Max.   :50.000        Max.   :350.8     Max.   :160.0  \n",
       " Total.day.charge Total.eve.minutes Total.eve.calls Total.eve.charge\n",
       " Min.   : 0.00    Min.   :  0.0     Min.   :  0     Min.   : 0.00   \n",
       " 1st Qu.:24.38    1st Qu.:165.3     1st Qu.: 87     1st Qu.:14.05   \n",
       " Median :30.59    Median :200.9     Median :100     Median :17.08   \n",
       " Mean   :30.51    Mean   :200.4     Mean   :100     Mean   :17.03   \n",
       " 3rd Qu.:36.70    3rd Qu.:235.1     3rd Qu.:114     3rd Qu.:19.98   \n",
       " Max.   :59.64    Max.   :363.7     Max.   :170     Max.   :30.91   \n",
       " Total.night.minutes Total.night.calls Total.night.charge Total.intl.minutes\n",
       " Min.   : 43.7       Min.   : 33.0     Min.   : 1.970     Min.   : 0.00     \n",
       " 1st Qu.:166.9       1st Qu.: 87.0     1st Qu.: 7.513     1st Qu.: 8.50     \n",
       " Median :201.2       Median :100.0     Median : 9.050     Median :10.20     \n",
       " Mean   :201.2       Mean   :100.1     Mean   : 9.053     Mean   :10.24     \n",
       " 3rd Qu.:236.5       3rd Qu.:113.0     3rd Qu.:10.640     3rd Qu.:12.10     \n",
       " Max.   :395.0       Max.   :166.0     Max.   :17.770     Max.   :20.00     \n",
       " Total.intl.calls Total.intl.charge Customer.service.calls   Churn        \n",
       " Min.   : 0.000   Min.   :0.000     Min.   :0.000          Mode :logical  \n",
       " 1st Qu.: 3.000   1st Qu.:2.300     1st Qu.:1.000          FALSE:2278     \n",
       " Median : 4.000   Median :2.750     Median :1.000          TRUE :388      \n",
       " Mean   : 4.467   Mean   :2.764     Mean   :1.563                         \n",
       " 3rd Qu.: 6.000   3rd Qu.:3.270     3rd Qu.:2.000                         \n",
       " Max.   :20.000   Max.   :5.400     Max.   :9.000                         "
      ]
     },
     "metadata": {},
     "output_type": "display_data"
    }
   ],
   "source": [
    "# look at variable stats\n",
    "summary(churn)"
   ]
  },
  {
   "cell_type": "code",
   "execution_count": 6,
   "metadata": {},
   "outputs": [
    {
     "name": "stderr",
     "output_type": "stream",
     "text": [
      "Loading required package: survival\n",
      "\n",
      "\n",
      "Attaching package: 'survival'\n",
      "\n",
      "\n",
      "The following object is masked from 'package:caret':\n",
      "\n",
      "    cluster\n",
      "\n",
      "\n",
      "Loading required package: Formula\n",
      "\n",
      "\n",
      "Attaching package: 'Hmisc'\n",
      "\n",
      "\n",
      "The following objects are masked from 'package:dplyr':\n",
      "\n",
      "    src, summarize\n",
      "\n",
      "\n",
      "The following objects are masked from 'package:base':\n",
      "\n",
      "    format.pval, units\n",
      "\n",
      "\n"
     ]
    },
    {
     "data": {
      "text/plain": [
       "churn \n",
       "\n",
       " 20  Variables      2666  Observations\n",
       "--------------------------------------------------------------------------------\n",
       "State \n",
       "       n  missing distinct \n",
       "    2666        0       51 \n",
       "\n",
       "lowest : AK AL AR AZ CA, highest: VT WA WI WV WY\n",
       "--------------------------------------------------------------------------------\n",
       "Account.length \n",
       "       n  missing distinct     Info     Mean      Gmd      .05      .10 \n",
       "    2666        0      205        1    100.6    44.77       36       50 \n",
       "     .25      .50      .75      .90      .95 \n",
       "      73      100      127      151      166 \n",
       "\n",
       "lowest :   1   2   3   4   5, highest: 217 221 224 225 243\n",
       "--------------------------------------------------------------------------------\n",
       "Area.code \n",
       "       n  missing distinct     Info     Mean      Gmd \n",
       "    2666        0        3    0.847    437.4    38.71 \n",
       "                            \n",
       "Value        408   415   510\n",
       "Frequency    669  1318   679\n",
       "Proportion 0.251 0.494 0.255\n",
       "--------------------------------------------------------------------------------\n",
       "International.plan \n",
       "       n  missing distinct \n",
       "    2666        0        2 \n",
       "                      \n",
       "Value         No   Yes\n",
       "Frequency   2396   270\n",
       "Proportion 0.899 0.101\n",
       "--------------------------------------------------------------------------------\n",
       "Voice.mail.plan \n",
       "       n  missing distinct \n",
       "    2666        0        2 \n",
       "                      \n",
       "Value         No   Yes\n",
       "Frequency   1933   733\n",
       "Proportion 0.725 0.275\n",
       "--------------------------------------------------------------------------------\n",
       "Number.vmail.messages \n",
       "       n  missing distinct     Info     Mean      Gmd      .05      .10 \n",
       "    2666        0       42    0.619    8.022    12.28        0        0 \n",
       "     .25      .50      .75      .90      .95 \n",
       "       0        0       19       32       36 \n",
       "\n",
       "lowest :  0  4  8  9 10, highest: 44 45 46 47 50\n",
       "--------------------------------------------------------------------------------\n",
       "Total.day.minutes \n",
       "       n  missing distinct     Info     Mean      Gmd      .05      .10 \n",
       "    2666        0     1489        1    179.5    61.13    90.43   110.40 \n",
       "     .25      .50      .75      .90      .95 \n",
       "  143.40   179.95   215.90   248.85   269.78 \n",
       "\n",
       "lowest :   0.0   2.6   7.8   7.9  12.5, highest: 335.5 337.4 345.3 346.8 350.8\n",
       "--------------------------------------------------------------------------------\n",
       "Total.day.calls \n",
       "       n  missing distinct     Info     Mean      Gmd      .05      .10 \n",
       "    2666        0      115        1    100.3    22.48     67.0     74.5 \n",
       "     .25      .50      .75      .90      .95 \n",
       "    87.0    101.0    114.0    125.0    133.0 \n",
       "\n",
       "lowest :   0  36  40  42  44, highest: 152 156 157 158 160\n",
       "--------------------------------------------------------------------------------\n",
       "Total.day.charge \n",
       "       n  missing distinct     Info     Mean      Gmd      .05      .10 \n",
       "    2666        0     1489        1    30.51    10.39    15.38    18.77 \n",
       "     .25      .50      .75      .90      .95 \n",
       "   24.38    30.59    36.70    42.30    45.86 \n",
       "\n",
       "lowest :  0.00  0.44  1.33  1.34  2.13, highest: 57.04 57.36 58.70 58.96 59.64\n",
       "--------------------------------------------------------------------------------\n",
       "Total.eve.minutes \n",
       "       n  missing distinct     Info     Mean      Gmd      .05      .10 \n",
       "    2666        0     1442        1    200.4    57.56    118.7    135.9 \n",
       "     .25      .50      .75      .90      .95 \n",
       "   165.3    200.9    235.1    265.8    285.0 \n",
       "\n",
       "lowest :   0.0  31.2  42.2  42.5  43.9, highest: 347.3 348.5 350.9 354.2 363.7\n",
       "--------------------------------------------------------------------------------\n",
       "Total.eve.calls \n",
       "       n  missing distinct     Info     Mean      Gmd      .05      .10 \n",
       "    2666        0      120        1      100     22.7       67       74 \n",
       "     .25      .50      .75      .90      .95 \n",
       "      87      100      114      125      133 \n",
       "\n",
       "lowest :   0  12  36  42  43, highest: 155 156 157 159 170\n",
       "--------------------------------------------------------------------------------\n",
       "Total.eve.charge \n",
       "       n  missing distinct     Info     Mean      Gmd      .05      .10 \n",
       "    2666        0     1301        1    17.03    4.892    10.09    11.55 \n",
       "     .25      .50      .75      .90      .95 \n",
       "   14.05    17.08    19.98    22.59    24.23 \n",
       "\n",
       "lowest :  0.00  2.65  3.59  3.61  3.73, highest: 29.52 29.62 29.83 30.11 30.91\n",
       "--------------------------------------------------------------------------------\n",
       "Total.night.minutes \n",
       "       n  missing distinct     Info     Mean      Gmd      .05      .10 \n",
       "    2666        0     1444        1    201.2    57.29    117.9    136.6 \n",
       "     .25      .50      .75      .90      .95 \n",
       "   166.9    201.1    236.5    264.8    283.7 \n",
       "\n",
       "lowest :  43.7  45.0  47.4  50.1  53.3, highest: 364.3 364.9 377.5 381.9 395.0\n",
       "--------------------------------------------------------------------------------\n",
       "Total.night.calls \n",
       "       n  missing distinct     Info     Mean      Gmd      .05      .10 \n",
       "    2666        0      118        1    100.1    21.94       68       75 \n",
       "     .25      .50      .75      .90      .95 \n",
       "      87      100      113      124      131 \n",
       "\n",
       "lowest :  33  36  38  42  44, highest: 156 157 158 164 166\n",
       "--------------------------------------------------------------------------------\n",
       "Total.night.charge \n",
       "       n  missing distinct     Info     Mean      Gmd      .05      .10 \n",
       "    2666        0      885        1    9.053    2.578    5.310    6.145 \n",
       "     .25      .50      .75      .90      .95 \n",
       "   7.513    9.050   10.640   11.915   12.768 \n",
       "\n",
       "lowest :  1.97  2.03  2.13  2.25  2.40, highest: 16.39 16.42 16.99 17.19 17.77\n",
       "--------------------------------------------------------------------------------\n",
       "Total.intl.minutes \n",
       "       n  missing distinct     Info     Mean      Gmd      .05      .10 \n",
       "    2666        0      158        1    10.24    3.112      5.8      6.7 \n",
       "     .25      .50      .75      .90      .95 \n",
       "     8.5     10.2     12.1     13.7     14.7 \n",
       "\n",
       "lowest :  0.0  1.1  1.3  2.1  2.2, highest: 18.0 18.2 18.4 18.9 20.0\n",
       "--------------------------------------------------------------------------------\n",
       "Total.intl.calls \n",
       "       n  missing distinct     Info     Mean      Gmd      .05      .10 \n",
       "    2666        0       21    0.977    4.467     2.59        1        2 \n",
       "     .25      .50      .75      .90      .95 \n",
       "       3        4        6        8        9 \n",
       "\n",
       "lowest :  0  1  2  3  4, highest: 16 17 18 19 20\n",
       "--------------------------------------------------------------------------------\n",
       "Total.intl.charge \n",
       "       n  missing distinct     Info     Mean      Gmd      .05      .10 \n",
       "    2666        0      158        1    2.764   0.8402     1.57     1.81 \n",
       "     .25      .50      .75      .90      .95 \n",
       "    2.30     2.75     3.27     3.70     3.97 \n",
       "\n",
       "lowest : 0.00 0.30 0.35 0.57 0.59, highest: 4.86 4.91 4.97 5.10 5.40\n",
       "--------------------------------------------------------------------------------\n",
       "Customer.service.calls \n",
       "       n  missing distinct     Info     Mean      Gmd      .05      .10 \n",
       "    2666        0       10    0.932    1.563    1.387        0        0 \n",
       "     .25      .50      .75      .90      .95 \n",
       "       1        1        2        3        4 \n",
       "\n",
       "lowest : 0 1 2 3 4, highest: 5 6 7 8 9\n",
       "                                                                      \n",
       "Value          0     1     2     3     4     5     6     7     8     9\n",
       "Frequency    555   945   608   348   133    49    17     8     1     2\n",
       "Proportion 0.208 0.354 0.228 0.131 0.050 0.018 0.006 0.003 0.000 0.001\n",
       "--------------------------------------------------------------------------------\n",
       "Churn \n",
       "       n  missing distinct \n",
       "    2666        0        2 \n",
       "                      \n",
       "Value      FALSE  TRUE\n",
       "Frequency   2278   388\n",
       "Proportion 0.854 0.146\n",
       "--------------------------------------------------------------------------------"
      ]
     },
     "metadata": {},
     "output_type": "display_data"
    }
   ],
   "source": [
    "# look at variable stats\n",
    "library(Hmisc)\n",
    "\n",
    "describe(churn)"
   ]
  },
  {
   "cell_type": "code",
   "execution_count": 7,
   "metadata": {},
   "outputs": [
    {
     "data": {
      "text/html": [
       "<style>\n",
       ".dl-inline {width: auto; margin:0; padding: 0}\n",
       ".dl-inline>dt, .dl-inline>dd {float: none; width: auto; display: inline-block}\n",
       ".dl-inline>dt::after {content: \":\\0020\"; padding-right: .5ex}\n",
       ".dl-inline>dt:not(:first-of-type) {padding-left: .5ex}\n",
       "</style><dl class=dl-inline><dt>State</dt><dd>0</dd><dt>Account.length</dt><dd>0</dd><dt>Area.code</dt><dd>0</dd><dt>International.plan</dt><dd>0</dd><dt>Voice.mail.plan</dt><dd>0</dd><dt>Number.vmail.messages</dt><dd>0</dd><dt>Total.day.minutes</dt><dd>0</dd><dt>Total.day.calls</dt><dd>0</dd><dt>Total.day.charge</dt><dd>0</dd><dt>Total.eve.minutes</dt><dd>0</dd><dt>Total.eve.calls</dt><dd>0</dd><dt>Total.eve.charge</dt><dd>0</dd><dt>Total.night.minutes</dt><dd>0</dd><dt>Total.night.calls</dt><dd>0</dd><dt>Total.night.charge</dt><dd>0</dd><dt>Total.intl.minutes</dt><dd>0</dd><dt>Total.intl.calls</dt><dd>0</dd><dt>Total.intl.charge</dt><dd>0</dd><dt>Customer.service.calls</dt><dd>0</dd><dt>Churn</dt><dd>0</dd></dl>\n"
      ],
      "text/latex": [
       "\\begin{description*}\n",
       "\\item[State] 0\n",
       "\\item[Account.length] 0\n",
       "\\item[Area.code] 0\n",
       "\\item[International.plan] 0\n",
       "\\item[Voice.mail.plan] 0\n",
       "\\item[Number.vmail.messages] 0\n",
       "\\item[Total.day.minutes] 0\n",
       "\\item[Total.day.calls] 0\n",
       "\\item[Total.day.charge] 0\n",
       "\\item[Total.eve.minutes] 0\n",
       "\\item[Total.eve.calls] 0\n",
       "\\item[Total.eve.charge] 0\n",
       "\\item[Total.night.minutes] 0\n",
       "\\item[Total.night.calls] 0\n",
       "\\item[Total.night.charge] 0\n",
       "\\item[Total.intl.minutes] 0\n",
       "\\item[Total.intl.calls] 0\n",
       "\\item[Total.intl.charge] 0\n",
       "\\item[Customer.service.calls] 0\n",
       "\\item[Churn] 0\n",
       "\\end{description*}\n"
      ],
      "text/markdown": [
       "State\n",
       ":   0Account.length\n",
       ":   0Area.code\n",
       ":   0International.plan\n",
       ":   0Voice.mail.plan\n",
       ":   0Number.vmail.messages\n",
       ":   0Total.day.minutes\n",
       ":   0Total.day.calls\n",
       ":   0Total.day.charge\n",
       ":   0Total.eve.minutes\n",
       ":   0Total.eve.calls\n",
       ":   0Total.eve.charge\n",
       ":   0Total.night.minutes\n",
       ":   0Total.night.calls\n",
       ":   0Total.night.charge\n",
       ":   0Total.intl.minutes\n",
       ":   0Total.intl.calls\n",
       ":   0Total.intl.charge\n",
       ":   0Customer.service.calls\n",
       ":   0Churn\n",
       ":   0\n",
       "\n"
      ],
      "text/plain": [
       "                 State         Account.length              Area.code \n",
       "                     0                      0                      0 \n",
       "    International.plan        Voice.mail.plan  Number.vmail.messages \n",
       "                     0                      0                      0 \n",
       "     Total.day.minutes        Total.day.calls       Total.day.charge \n",
       "                     0                      0                      0 \n",
       "     Total.eve.minutes        Total.eve.calls       Total.eve.charge \n",
       "                     0                      0                      0 \n",
       "   Total.night.minutes      Total.night.calls     Total.night.charge \n",
       "                     0                      0                      0 \n",
       "    Total.intl.minutes       Total.intl.calls      Total.intl.charge \n",
       "                     0                      0                      0 \n",
       "Customer.service.calls                  Churn \n",
       "                     0                      0 "
      ]
     },
     "metadata": {},
     "output_type": "display_data"
    }
   ],
   "source": [
    "# check for missing values\n",
    "unlist(lapply(churn,function(x) sum(is.na(x))))"
   ]
  },
  {
   "cell_type": "code",
   "execution_count": 140,
   "metadata": {},
   "outputs": [
    {
     "name": "stderr",
     "output_type": "stream",
     "text": [
      "Warning message:\n",
      "\"Ignoring unknown parameters: binwidth, bins, pad\"\n"
     ]
    },
    {
     "data": {
      "image/png": "[encoded data removed]",
      "text/plain": [
       "plot without title"
      ]
     },
     "metadata": {
      "image/png": {
       "height": 420,
       "width": 420
      }
     },
     "output_type": "display_data"
    }
   ],
   "source": [
    "ggplot(churn, aes(Churn), color='Blue') + geom_histogram(stat='count', color=\"black\", \n",
    "                                                         fill='light blue') + \n",
    "  ggtitle('Churn Distribution') +\n",
    "  theme(plot.title = element_text(size=22))\n"
   ]
  },
  {
   "cell_type": "code",
   "execution_count": 125,
   "metadata": {},
   "outputs": [
    {
     "name": "stderr",
     "output_type": "stream",
     "text": [
      "`stat_bin()` using `bins = 30`. Pick better value with `binwidth`.\n",
      "\n"
     ]
    },
    {
     "data": {
      "image/png": "[encoded data removed]",
      "text/plain": [
       "plot without title"
      ]
     },
     "metadata": {
      "image/png": {
       "height": 420,
       "width": 420
      }
     },
     "output_type": "display_data"
    }
   ],
   "source": [
    "ggplot(churn, aes(Total.day.charge)) + geom_histogram(color='black', fill='light blue')"
   ]
  },
  {
   "cell_type": "code",
   "execution_count": 156,
   "metadata": {},
   "outputs": [
    {
     "data": {
      "image/png": "[encoded data removed]",
      "text/plain": [
       "plot without title"
      ]
     },
     "metadata": {
      "image/png": {
       "height": 420,
       "width": 420
      }
     },
     "output_type": "display_data"
    }
   ],
   "source": [
    "ggplot(churn, aes(Customer.service.calls, fill=Churn)) + geom_bar() +\n",
    "  ggtitle('Bar Plot of Churn by Customer Service Calls') +\n",
    "  theme(plot.title = element_text(size=22))\n",
    "\n"
   ]
  },
  {
   "cell_type": "code",
   "execution_count": 136,
   "metadata": {},
   "outputs": [
    {
     "data": {
      "image/png": "[encoded data removed]",
      "text/plain": [
       "plot without title"
      ]
     },
     "metadata": {
      "image/png": {
       "height": 420,
       "width": 420
      }
     },
     "output_type": "display_data"
    }
   ],
   "source": [
    "ggplot(churn, aes(Customer.service.calls, fill=Churn)) + \n",
    "  geom_bar(position='fill') +\n",
    "  ggtitle('Proportion of Churn by Customer Service Calls by Churn') +\n",
    "  theme(plot.title = element_text(size=22))\n",
    "\n",
    "# churn increases as a proportion of number of calls increaes"
   ]
  },
  {
   "cell_type": "code",
   "execution_count": 15,
   "metadata": {},
   "outputs": [
    {
     "data": {
      "text/plain": [
       "       \n",
       "        AK AL AR AZ CA CO CT DC DE FL GA HI IA ID IL IN KS KY LA MA MD ME MI MN\n",
       "  FALSE 40 59 36 42 19 52 48 40 43 47 41 42 35 51 41 48 42 37 32 44 46 38 45 57\n",
       "  TRUE   3  7 11  3  5  7 11  5  8  7  8  2  3  5  4  6 10  6  3  8 14 11 13 13\n",
       "       \n",
       "        MO MS MT NC ND NE NH NJ NM NV NY OH OK OR PA RI SC SD TN TX UT VA VT WA\n",
       "  FALSE 46 37 43 47 40 41 34 36 40 48 56 56 45 55 28 45 38 43 36 39 52 63 51 38\n",
       "  TRUE   5 11 10  9  4  4  9 14  4 13 12 10  7  7  8  3 11  6  5 16  8  4  6 10\n",
       "       \n",
       "        WI WV WY\n",
       "  FALSE 57 81 58\n",
       "  TRUE   4  7  8"
      ]
     },
     "metadata": {},
     "output_type": "display_data"
    }
   ],
   "source": [
    "x <- table(churn$Churn, churn$State)\n",
    "\n",
    "x"
   ]
  },
  {
   "cell_type": "code",
   "execution_count": 16,
   "metadata": {},
   "outputs": [
    {
     "data": {
      "text/plain": [
       "       \n",
       "                 AK          AL          AR          AZ          CA          CO\n",
       "  FALSE 0.017559263 0.025899912 0.015803336 0.018437226 0.008340650 0.022827041\n",
       "  TRUE  0.007731959 0.018041237 0.028350515 0.007731959 0.012886598 0.018041237\n",
       "       \n",
       "                 CT          DC          DE          FL          GA          HI\n",
       "  FALSE 0.021071115 0.017559263 0.018876207 0.020632133 0.017998244 0.018437226\n",
       "  TRUE  0.028350515 0.012886598 0.020618557 0.018041237 0.020618557 0.005154639\n",
       "       \n",
       "                 IA          ID          IL          IN          KS          KY\n",
       "  FALSE 0.015364355 0.022388060 0.017998244 0.021071115 0.018437226 0.016242318\n",
       "  TRUE  0.007731959 0.012886598 0.010309278 0.015463918 0.025773196 0.015463918\n",
       "       \n",
       "                 LA          MA          MD          ME          MI          MN\n",
       "  FALSE 0.014047410 0.019315189 0.020193152 0.016681299 0.019754170 0.025021949\n",
       "  TRUE  0.007731959 0.020618557 0.036082474 0.028350515 0.033505155 0.033505155\n",
       "       \n",
       "                 MO          MS          MT          NC          ND          NE\n",
       "  FALSE 0.020193152 0.016242318 0.018876207 0.020632133 0.017559263 0.017998244\n",
       "  TRUE  0.012886598 0.028350515 0.025773196 0.023195876 0.010309278 0.010309278\n",
       "       \n",
       "                 NH          NJ          NM          NV          NY          OH\n",
       "  FALSE 0.014925373 0.015803336 0.017559263 0.021071115 0.024582968 0.024582968\n",
       "  TRUE  0.023195876 0.036082474 0.010309278 0.033505155 0.030927835 0.025773196\n",
       "       \n",
       "                 OK          OR          PA          RI          SC          SD\n",
       "  FALSE 0.019754170 0.024143986 0.012291484 0.019754170 0.016681299 0.018876207\n",
       "  TRUE  0.018041237 0.018041237 0.020618557 0.007731959 0.028350515 0.015463918\n",
       "       \n",
       "                 TN          TX          UT          VA          VT          WA\n",
       "  FALSE 0.015803336 0.017120281 0.022827041 0.027655838 0.022388060 0.016681299\n",
       "  TRUE  0.012886598 0.041237113 0.020618557 0.010309278 0.015463918 0.025773196\n",
       "       \n",
       "                 WI          WV          WY\n",
       "  FALSE 0.025021949 0.035557507 0.025460931\n",
       "  TRUE  0.010309278 0.018041237 0.020618557"
      ]
     },
     "metadata": {},
     "output_type": "display_data"
    }
   ],
   "source": [
    "y <- prop.table(x, 1)\n",
    "\n",
    "y"
   ]
  },
  {
   "cell_type": "code",
   "execution_count": 142,
   "metadata": {},
   "outputs": [
    {
     "data": {
      "image/png": "[encoded data removed]",
      "text/plain": [
       "plot without title"
      ]
     },
     "metadata": {
      "image/png": {
       "height": 420,
       "width": 420
      }
     },
     "output_type": "display_data"
    }
   ],
   "source": [
    "ggplot(churn, aes(State, Churn=TRUE, fill=as.factor(International.plan))) + geom_bar() +\n",
    "  theme(axis.text.x = element_text(angle = 90, vjust = 0.5, hjust=1)) +\n",
    "  ggtitle('Churn by State') +\n",
    "  theme(plot.title = element_text(size=22))\n"
   ]
  },
  {
   "cell_type": "code",
   "execution_count": 157,
   "metadata": {},
   "outputs": [
    {
     "data": {
      "image/png": "[encoded data removed]",
      "text/plain": [
       "plot without title"
      ]
     },
     "metadata": {
      "image/png": {
       "height": 420,
       "width": 420
      }
     },
     "output_type": "display_data"
    }
   ],
   "source": [
    "ggplot(churn, aes(International.plan, fill = Churn)) + geom_bar(position='stack') +\n",
    "  ggtitle('Bar Plot of Churn by International Plan') +\n",
    "  theme(plot.title = element_text(size=22))\n",
    "\n",
    "\n",
    "#  higher percentage churn with international plan"
   ]
  },
  {
   "cell_type": "code",
   "execution_count": 145,
   "metadata": {},
   "outputs": [
    {
     "data": {
      "image/png": "[encoded data removed]",
      "text/plain": [
       "plot without title"
      ]
     },
     "metadata": {
      "image/png": {
       "height": 420,
       "width": 420
      }
     },
     "output_type": "display_data"
    }
   ],
   "source": [
    "ggplot(churn, aes(International.plan, fill = Churn)) + geom_bar(position='fill') +\n",
    "  ggtitle('Proportion of Churn by International Plan') +\n",
    "  theme(plot.title = element_text(size=22))\n",
    "\n",
    "# note: higher percentage churn with international plan"
   ]
  },
  {
   "cell_type": "code",
   "execution_count": 33,
   "metadata": {},
   "outputs": [
    {
     "data": {
      "image/png": "[encoded data removed]",
      "text/plain": [
       "plot without title"
      ]
     },
     "metadata": {
      "image/png": {
       "height": 420,
       "width": 420
      }
     },
     "output_type": "display_data"
    }
   ],
   "source": [
    "ggplot(churn, aes(Voice.mail.plan, fill = Churn)) + geom_bar(position='stack')\n",
    "\n",
    "# customer without a voicemail plan tend to have a higher proportion of churn"
   ]
  },
  {
   "cell_type": "code",
   "execution_count": 34,
   "metadata": {},
   "outputs": [
    {
     "data": {
      "image/png": "[encoded data removed]",
      "text/plain": [
       "plot without title"
      ]
     },
     "metadata": {
      "image/png": {
       "height": 420,
       "width": 420
      }
     },
     "output_type": "display_data"
    }
   ],
   "source": [
    "ggplot(churn, aes(Voice.mail.plan, fill = Churn)) + geom_bar(position='fill')\n",
    "\n",
    "# customer without a voicemail plan tend to have a higher proportion of churn"
   ]
  },
  {
   "cell_type": "code",
   "execution_count": 63,
   "metadata": {},
   "outputs": [
    {
     "data": {
      "image/png": "[encoded data removed]",
      "text/plain": [
       "plot without title"
      ]
     },
     "metadata": {
      "image/png": {
       "height": 420,
       "width": 420
      }
     },
     "output_type": "display_data"
    }
   ],
   "source": [
    "ggplot(churn, aes(Total.day.minutes, Total.day.charge)) + geom_point()"
   ]
  },
  {
   "cell_type": "code",
   "execution_count": 65,
   "metadata": {},
   "outputs": [
    {
     "data": {
      "image/png": "[encoded data removed]",
      "text/plain": [
       "plot without title"
      ]
     },
     "metadata": {
      "image/png": {
       "height": 420,
       "width": 420
      }
     },
     "output_type": "display_data"
    }
   ],
   "source": [
    "ggplot(churn, aes(Total.day.charge, Total.day.calls)) + geom_point()"
   ]
  },
  {
   "cell_type": "code",
   "execution_count": 35,
   "metadata": {},
   "outputs": [],
   "source": [
    "# create separate datasets for numeric and character\n",
    "churn_int<-churn[,unlist(lapply(churn,is.numeric))]\n",
    "churn_char<-churn[,sapply(churn,is.character)]"
   ]
  },
  {
   "cell_type": "code",
   "execution_count": 36,
   "metadata": {},
   "outputs": [
    {
     "data": {
      "text/html": [
       "<table>\n",
       "<caption>A matrix: 16 × 16 of type dbl</caption>\n",
       "<thead>\n",
       "\t<tr><th></th><th scope=col>Account.length</th><th scope=col>Area.code</th><th scope=col>Number.vmail.messages</th><th scope=col>Total.day.minutes</th><th scope=col>Total.day.calls</th><th scope=col>Total.day.charge</th><th scope=col>Total.eve.minutes</th><th scope=col>Total.eve.calls</th><th scope=col>Total.eve.charge</th><th scope=col>Total.night.minutes</th><th scope=col>Total.night.calls</th><th scope=col>Total.night.charge</th><th scope=col>Total.intl.minutes</th><th scope=col>Total.intl.calls</th><th scope=col>Total.intl.charge</th><th scope=col>Customer.service.calls</th></tr>\n",
       "</thead>\n",
       "<tbody>\n",
       "\t<tr><th scope=row>Account.length</th><td> 1.000000000</td><td>-0.0086203488</td><td>-0.0029959799</td><td> 0.002847460</td><td> 0.038861909</td><td> 0.002843487</td><td>-0.0159227511</td><td> 0.0185517188</td><td>-0.0159093139</td><td>-0.0089936038</td><td>-0.0240072954</td><td>-0.0089989318</td><td> 0.011369014</td><td> 0.017627003</td><td> 0.011383356</td><td> 0.002454845</td></tr>\n",
       "\t<tr><th scope=row>Area.code</th><td>-0.008620349</td><td> 1.0000000000</td><td>-0.0005837539</td><td>-0.023133543</td><td>-0.009628989</td><td>-0.023129789</td><td> 0.0006793495</td><td>-0.0186021358</td><td> 0.0007065587</td><td>-0.0033531433</td><td> 0.0114551859</td><td>-0.0033820003</td><td>-0.013418347</td><td>-0.027423399</td><td>-0.013534127</td><td> 0.034442452</td></tr>\n",
       "\t<tr><th scope=row>Number.vmail.messages</th><td>-0.002995980</td><td>-0.0005837539</td><td> 1.0000000000</td><td> 0.019027036</td><td>-0.009622044</td><td> 0.019027448</td><td> 0.0114010658</td><td> 0.0051308111</td><td> 0.0114182234</td><td>-0.0002239232</td><td> 0.0081239848</td><td>-0.0002290320</td><td>-0.004155595</td><td> 0.027012571</td><td>-0.004135565</td><td>-0.018786700</td></tr>\n",
       "\t<tr><th scope=row>Total.day.minutes</th><td> 0.002847460</td><td>-0.0231335433</td><td> 0.0190270356</td><td> 1.000000000</td><td> 0.016780301</td><td> 0.999999952</td><td> 0.0039986267</td><td> 0.0090590291</td><td> 0.0039924780</td><td> 0.0134909530</td><td> 0.0150537753</td><td> 0.0134637914</td><td>-0.011041973</td><td> 0.005686664</td><td>-0.010934027</td><td>-0.024543145</td></tr>\n",
       "\t<tr><th scope=row>Total.day.calls</th><td> 0.038861909</td><td>-0.0096289887</td><td>-0.0096220443</td><td> 0.016780301</td><td> 1.000000000</td><td> 0.016786841</td><td>-0.0260025557</td><td> 0.0064726797</td><td>-0.0260056409</td><td> 0.0089859082</td><td>-0.0167758453</td><td> 0.0089723379</td><td> 0.031035828</td><td> 0.006928337</td><td> 0.031133456</td><td>-0.011944648</td></tr>\n",
       "\t<tr><th scope=row>Total.day.charge</th><td> 0.002843487</td><td>-0.0231297893</td><td> 0.0190274476</td><td> 0.999999952</td><td> 0.016786841</td><td> 1.000000000</td><td> 0.0040083313</td><td> 0.0090564374</td><td> 0.0040021854</td><td> 0.0134949311</td><td> 0.0150572855</td><td> 0.0134677588</td><td>-0.011046118</td><td> 0.005688190</td><td>-0.010938194</td><td>-0.024547884</td></tr>\n",
       "\t<tr><th scope=row>Total.eve.minutes</th><td>-0.015922751</td><td> 0.0006793495</td><td> 0.0114010658</td><td> 0.003998627</td><td>-0.026002556</td><td> 0.004008331</td><td> 1.0000000000</td><td>-0.0076537987</td><td> 0.9999997812</td><td>-0.0134140744</td><td> 0.0090173929</td><td>-0.0134496195</td><td>-0.006914656</td><td> 0.002160451</td><td>-0.006947487</td><td>-0.013192226</td></tr>\n",
       "\t<tr><th scope=row>Total.eve.calls</th><td> 0.018551719</td><td>-0.0186021358</td><td> 0.0051308111</td><td> 0.009059029</td><td> 0.006472680</td><td> 0.009056437</td><td>-0.0076537987</td><td> 1.0000000000</td><td>-0.0076418806</td><td>-0.0001751710</td><td> 0.0007967658</td><td>-0.0001349522</td><td> 0.011011763</td><td> 0.003709544</td><td> 0.010999766</td><td> 0.001058203</td></tr>\n",
       "\t<tr><th scope=row>Total.eve.charge</th><td>-0.015909314</td><td> 0.0007065587</td><td> 0.0114182234</td><td> 0.003992478</td><td>-0.026005641</td><td> 0.004002185</td><td> 0.9999997812</td><td>-0.0076418806</td><td> 1.0000000000</td><td>-0.0134280257</td><td> 0.0090297745</td><td>-0.0134635697</td><td>-0.006922572</td><td> 0.002169484</td><td>-0.006955434</td><td>-0.013196020</td></tr>\n",
       "\t<tr><th scope=row>Total.night.minutes</th><td>-0.008993604</td><td>-0.0033531433</td><td>-0.0002239232</td><td> 0.013490953</td><td> 0.008985908</td><td> 0.013494931</td><td>-0.0134140744</td><td>-0.0001751710</td><td>-0.0134280257</td><td> 1.0000000000</td><td> 0.0127361002</td><td> 0.9999992252</td><td>-0.008607444</td><td>-0.001110128</td><td>-0.008509762</td><td> 0.005236360</td></tr>\n",
       "\t<tr><th scope=row>Total.night.calls</th><td>-0.024007295</td><td> 0.0114551859</td><td> 0.0081239848</td><td> 0.015053775</td><td>-0.016775845</td><td> 0.015057285</td><td> 0.0090173929</td><td> 0.0007967658</td><td> 0.0090297745</td><td> 0.0127361002</td><td> 1.0000000000</td><td> 0.0127197509</td><td>-0.023447221</td><td> 0.019367187</td><td>-0.023434383</td><td>-0.005677071</td></tr>\n",
       "\t<tr><th scope=row>Total.night.charge</th><td>-0.008998932</td><td>-0.0033820003</td><td>-0.0002290320</td><td> 0.013463791</td><td> 0.008972338</td><td> 0.013467759</td><td>-0.0134496195</td><td>-0.0001349522</td><td>-0.0134635697</td><td> 0.9999992252</td><td> 0.0127197509</td><td> 1.0000000000</td><td>-0.008614677</td><td>-0.001099157</td><td>-0.008517009</td><td> 0.005256695</td></tr>\n",
       "\t<tr><th scope=row>Total.intl.minutes</th><td> 0.011369014</td><td>-0.0134183471</td><td>-0.0041555945</td><td>-0.011041973</td><td> 0.031035828</td><td>-0.011046118</td><td>-0.0069146558</td><td> 0.0110117626</td><td>-0.0069225725</td><td>-0.0086074443</td><td>-0.0234472213</td><td>-0.0086146774</td><td> 1.000000000</td><td> 0.037315152</td><td> 0.999992654</td><td>-0.002825678</td></tr>\n",
       "\t<tr><th scope=row>Total.intl.calls</th><td> 0.017627003</td><td>-0.0274233990</td><td> 0.0270125707</td><td> 0.005686664</td><td> 0.006928337</td><td> 0.005688190</td><td> 0.0021604512</td><td> 0.0037095445</td><td> 0.0021694843</td><td>-0.0011101285</td><td> 0.0193671868</td><td>-0.0010991572</td><td> 0.037315152</td><td> 1.000000000</td><td> 0.037363197</td><td>-0.022142551</td></tr>\n",
       "\t<tr><th scope=row>Total.intl.charge</th><td> 0.011383356</td><td>-0.0135341274</td><td>-0.0041355646</td><td>-0.010934027</td><td> 0.031133456</td><td>-0.010938194</td><td>-0.0069474872</td><td> 0.0109997664</td><td>-0.0069554340</td><td>-0.0085097624</td><td>-0.0234343829</td><td>-0.0085170090</td><td> 0.999992654</td><td> 0.037363197</td><td> 1.000000000</td><td>-0.002894639</td></tr>\n",
       "\t<tr><th scope=row>Customer.service.calls</th><td> 0.002454845</td><td> 0.0344424516</td><td>-0.0187866999</td><td>-0.024543145</td><td>-0.011944648</td><td>-0.024547884</td><td>-0.0131922255</td><td> 0.0010582035</td><td>-0.0131960198</td><td> 0.0052363600</td><td>-0.0056770709</td><td> 0.0052566947</td><td>-0.002825678</td><td>-0.022142551</td><td>-0.002894639</td><td> 1.000000000</td></tr>\n",
       "</tbody>\n",
       "</table>\n"
      ],
      "text/latex": [
       "A matrix: 16 × 16 of type dbl\n",
       "\\begin{tabular}{r|llllllllllllllll}\n",
       "  & Account.length & Area.code & Number.vmail.messages & Total.day.minutes & Total.day.calls & Total.day.charge & Total.eve.minutes & Total.eve.calls & Total.eve.charge & Total.night.minutes & Total.night.calls & Total.night.charge & Total.intl.minutes & Total.intl.calls & Total.intl.charge & Customer.service.calls\\\\\n",
       "\\hline\n",
       "\tAccount.length &  1.000000000 & -0.0086203488 & -0.0029959799 &  0.002847460 &  0.038861909 &  0.002843487 & -0.0159227511 &  0.0185517188 & -0.0159093139 & -0.0089936038 & -0.0240072954 & -0.0089989318 &  0.011369014 &  0.017627003 &  0.011383356 &  0.002454845\\\\\n",
       "\tArea.code & -0.008620349 &  1.0000000000 & -0.0005837539 & -0.023133543 & -0.009628989 & -0.023129789 &  0.0006793495 & -0.0186021358 &  0.0007065587 & -0.0033531433 &  0.0114551859 & -0.0033820003 & -0.013418347 & -0.027423399 & -0.013534127 &  0.034442452\\\\\n",
       "\tNumber.vmail.messages & -0.002995980 & -0.0005837539 &  1.0000000000 &  0.019027036 & -0.009622044 &  0.019027448 &  0.0114010658 &  0.0051308111 &  0.0114182234 & -0.0002239232 &  0.0081239848 & -0.0002290320 & -0.004155595 &  0.027012571 & -0.004135565 & -0.018786700\\\\\n",
       "\tTotal.day.minutes &  0.002847460 & -0.0231335433 &  0.0190270356 &  1.000000000 &  0.016780301 &  0.999999952 &  0.0039986267 &  0.0090590291 &  0.0039924780 &  0.0134909530 &  0.0150537753 &  0.0134637914 & -0.011041973 &  0.005686664 & -0.010934027 & -0.024543145\\\\\n",
       "\tTotal.day.calls &  0.038861909 & -0.0096289887 & -0.0096220443 &  0.016780301 &  1.000000000 &  0.016786841 & -0.0260025557 &  0.0064726797 & -0.0260056409 &  0.0089859082 & -0.0167758453 &  0.0089723379 &  0.031035828 &  0.006928337 &  0.031133456 & -0.011944648\\\\\n",
       "\tTotal.day.charge &  0.002843487 & -0.0231297893 &  0.0190274476 &  0.999999952 &  0.016786841 &  1.000000000 &  0.0040083313 &  0.0090564374 &  0.0040021854 &  0.0134949311 &  0.0150572855 &  0.0134677588 & -0.011046118 &  0.005688190 & -0.010938194 & -0.024547884\\\\\n",
       "\tTotal.eve.minutes & -0.015922751 &  0.0006793495 &  0.0114010658 &  0.003998627 & -0.026002556 &  0.004008331 &  1.0000000000 & -0.0076537987 &  0.9999997812 & -0.0134140744 &  0.0090173929 & -0.0134496195 & -0.006914656 &  0.002160451 & -0.006947487 & -0.013192226\\\\\n",
       "\tTotal.eve.calls &  0.018551719 & -0.0186021358 &  0.0051308111 &  0.009059029 &  0.006472680 &  0.009056437 & -0.0076537987 &  1.0000000000 & -0.0076418806 & -0.0001751710 &  0.0007967658 & -0.0001349522 &  0.011011763 &  0.003709544 &  0.010999766 &  0.001058203\\\\\n",
       "\tTotal.eve.charge & -0.015909314 &  0.0007065587 &  0.0114182234 &  0.003992478 & -0.026005641 &  0.004002185 &  0.9999997812 & -0.0076418806 &  1.0000000000 & -0.0134280257 &  0.0090297745 & -0.0134635697 & -0.006922572 &  0.002169484 & -0.006955434 & -0.013196020\\\\\n",
       "\tTotal.night.minutes & -0.008993604 & -0.0033531433 & -0.0002239232 &  0.013490953 &  0.008985908 &  0.013494931 & -0.0134140744 & -0.0001751710 & -0.0134280257 &  1.0000000000 &  0.0127361002 &  0.9999992252 & -0.008607444 & -0.001110128 & -0.008509762 &  0.005236360\\\\\n",
       "\tTotal.night.calls & -0.024007295 &  0.0114551859 &  0.0081239848 &  0.015053775 & -0.016775845 &  0.015057285 &  0.0090173929 &  0.0007967658 &  0.0090297745 &  0.0127361002 &  1.0000000000 &  0.0127197509 & -0.023447221 &  0.019367187 & -0.023434383 & -0.005677071\\\\\n",
       "\tTotal.night.charge & -0.008998932 & -0.0033820003 & -0.0002290320 &  0.013463791 &  0.008972338 &  0.013467759 & -0.0134496195 & -0.0001349522 & -0.0134635697 &  0.9999992252 &  0.0127197509 &  1.0000000000 & -0.008614677 & -0.001099157 & -0.008517009 &  0.005256695\\\\\n",
       "\tTotal.intl.minutes &  0.011369014 & -0.0134183471 & -0.0041555945 & -0.011041973 &  0.031035828 & -0.011046118 & -0.0069146558 &  0.0110117626 & -0.0069225725 & -0.0086074443 & -0.0234472213 & -0.0086146774 &  1.000000000 &  0.037315152 &  0.999992654 & -0.002825678\\\\\n",
       "\tTotal.intl.calls &  0.017627003 & -0.0274233990 &  0.0270125707 &  0.005686664 &  0.006928337 &  0.005688190 &  0.0021604512 &  0.0037095445 &  0.0021694843 & -0.0011101285 &  0.0193671868 & -0.0010991572 &  0.037315152 &  1.000000000 &  0.037363197 & -0.022142551\\\\\n",
       "\tTotal.intl.charge &  0.011383356 & -0.0135341274 & -0.0041355646 & -0.010934027 &  0.031133456 & -0.010938194 & -0.0069474872 &  0.0109997664 & -0.0069554340 & -0.0085097624 & -0.0234343829 & -0.0085170090 &  0.999992654 &  0.037363197 &  1.000000000 & -0.002894639\\\\\n",
       "\tCustomer.service.calls &  0.002454845 &  0.0344424516 & -0.0187866999 & -0.024543145 & -0.011944648 & -0.024547884 & -0.0131922255 &  0.0010582035 & -0.0131960198 &  0.0052363600 & -0.0056770709 &  0.0052566947 & -0.002825678 & -0.022142551 & -0.002894639 &  1.000000000\\\\\n",
       "\\end{tabular}\n"
      ],
      "text/markdown": [
       "\n",
       "A matrix: 16 × 16 of type dbl\n",
       "\n",
       "| <!--/--> | Account.length | Area.code | Number.vmail.messages | Total.day.minutes | Total.day.calls | Total.day.charge | Total.eve.minutes | Total.eve.calls | Total.eve.charge | Total.night.minutes | Total.night.calls | Total.night.charge | Total.intl.minutes | Total.intl.calls | Total.intl.charge | Customer.service.calls |\n",
       "|---|---|---|---|---|---|---|---|---|---|---|---|---|---|---|---|---|\n",
       "| Account.length |  1.000000000 | -0.0086203488 | -0.0029959799 |  0.002847460 |  0.038861909 |  0.002843487 | -0.0159227511 |  0.0185517188 | -0.0159093139 | -0.0089936038 | -0.0240072954 | -0.0089989318 |  0.011369014 |  0.017627003 |  0.011383356 |  0.002454845 |\n",
       "| Area.code | -0.008620349 |  1.0000000000 | -0.0005837539 | -0.023133543 | -0.009628989 | -0.023129789 |  0.0006793495 | -0.0186021358 |  0.0007065587 | -0.0033531433 |  0.0114551859 | -0.0033820003 | -0.013418347 | -0.027423399 | -0.013534127 |  0.034442452 |\n",
       "| Number.vmail.messages | -0.002995980 | -0.0005837539 |  1.0000000000 |  0.019027036 | -0.009622044 |  0.019027448 |  0.0114010658 |  0.0051308111 |  0.0114182234 | -0.0002239232 |  0.0081239848 | -0.0002290320 | -0.004155595 |  0.027012571 | -0.004135565 | -0.018786700 |\n",
       "| Total.day.minutes |  0.002847460 | -0.0231335433 |  0.0190270356 |  1.000000000 |  0.016780301 |  0.999999952 |  0.0039986267 |  0.0090590291 |  0.0039924780 |  0.0134909530 |  0.0150537753 |  0.0134637914 | -0.011041973 |  0.005686664 | -0.010934027 | -0.024543145 |\n",
       "| Total.day.calls |  0.038861909 | -0.0096289887 | -0.0096220443 |  0.016780301 |  1.000000000 |  0.016786841 | -0.0260025557 |  0.0064726797 | -0.0260056409 |  0.0089859082 | -0.0167758453 |  0.0089723379 |  0.031035828 |  0.006928337 |  0.031133456 | -0.011944648 |\n",
       "| Total.day.charge |  0.002843487 | -0.0231297893 |  0.0190274476 |  0.999999952 |  0.016786841 |  1.000000000 |  0.0040083313 |  0.0090564374 |  0.0040021854 |  0.0134949311 |  0.0150572855 |  0.0134677588 | -0.011046118 |  0.005688190 | -0.010938194 | -0.024547884 |\n",
       "| Total.eve.minutes | -0.015922751 |  0.0006793495 |  0.0114010658 |  0.003998627 | -0.026002556 |  0.004008331 |  1.0000000000 | -0.0076537987 |  0.9999997812 | -0.0134140744 |  0.0090173929 | -0.0134496195 | -0.006914656 |  0.002160451 | -0.006947487 | -0.013192226 |\n",
       "| Total.eve.calls |  0.018551719 | -0.0186021358 |  0.0051308111 |  0.009059029 |  0.006472680 |  0.009056437 | -0.0076537987 |  1.0000000000 | -0.0076418806 | -0.0001751710 |  0.0007967658 | -0.0001349522 |  0.011011763 |  0.003709544 |  0.010999766 |  0.001058203 |\n",
       "| Total.eve.charge | -0.015909314 |  0.0007065587 |  0.0114182234 |  0.003992478 | -0.026005641 |  0.004002185 |  0.9999997812 | -0.0076418806 |  1.0000000000 | -0.0134280257 |  0.0090297745 | -0.0134635697 | -0.006922572 |  0.002169484 | -0.006955434 | -0.013196020 |\n",
       "| Total.night.minutes | -0.008993604 | -0.0033531433 | -0.0002239232 |  0.013490953 |  0.008985908 |  0.013494931 | -0.0134140744 | -0.0001751710 | -0.0134280257 |  1.0000000000 |  0.0127361002 |  0.9999992252 | -0.008607444 | -0.001110128 | -0.008509762 |  0.005236360 |\n",
       "| Total.night.calls | -0.024007295 |  0.0114551859 |  0.0081239848 |  0.015053775 | -0.016775845 |  0.015057285 |  0.0090173929 |  0.0007967658 |  0.0090297745 |  0.0127361002 |  1.0000000000 |  0.0127197509 | -0.023447221 |  0.019367187 | -0.023434383 | -0.005677071 |\n",
       "| Total.night.charge | -0.008998932 | -0.0033820003 | -0.0002290320 |  0.013463791 |  0.008972338 |  0.013467759 | -0.0134496195 | -0.0001349522 | -0.0134635697 |  0.9999992252 |  0.0127197509 |  1.0000000000 | -0.008614677 | -0.001099157 | -0.008517009 |  0.005256695 |\n",
       "| Total.intl.minutes |  0.011369014 | -0.0134183471 | -0.0041555945 | -0.011041973 |  0.031035828 | -0.011046118 | -0.0069146558 |  0.0110117626 | -0.0069225725 | -0.0086074443 | -0.0234472213 | -0.0086146774 |  1.000000000 |  0.037315152 |  0.999992654 | -0.002825678 |\n",
       "| Total.intl.calls |  0.017627003 | -0.0274233990 |  0.0270125707 |  0.005686664 |  0.006928337 |  0.005688190 |  0.0021604512 |  0.0037095445 |  0.0021694843 | -0.0011101285 |  0.0193671868 | -0.0010991572 |  0.037315152 |  1.000000000 |  0.037363197 | -0.022142551 |\n",
       "| Total.intl.charge |  0.011383356 | -0.0135341274 | -0.0041355646 | -0.010934027 |  0.031133456 | -0.010938194 | -0.0069474872 |  0.0109997664 | -0.0069554340 | -0.0085097624 | -0.0234343829 | -0.0085170090 |  0.999992654 |  0.037363197 |  1.000000000 | -0.002894639 |\n",
       "| Customer.service.calls |  0.002454845 |  0.0344424516 | -0.0187866999 | -0.024543145 | -0.011944648 | -0.024547884 | -0.0131922255 |  0.0010582035 | -0.0131960198 |  0.0052363600 | -0.0056770709 |  0.0052566947 | -0.002825678 | -0.022142551 | -0.002894639 |  1.000000000 |\n",
       "\n"
      ],
      "text/plain": [
       "                       Account.length Area.code     Number.vmail.messages\n",
       "Account.length          1.000000000   -0.0086203488 -0.0029959799        \n",
       "Area.code              -0.008620349    1.0000000000 -0.0005837539        \n",
       "Number.vmail.messages  -0.002995980   -0.0005837539  1.0000000000        \n",
       "Total.day.minutes       0.002847460   -0.0231335433  0.0190270356        \n",
       "Total.day.calls         0.038861909   -0.0096289887 -0.0096220443        \n",
       "Total.day.charge        0.002843487   -0.0231297893  0.0190274476        \n",
       "Total.eve.minutes      -0.015922751    0.0006793495  0.0114010658        \n",
       "Total.eve.calls         0.018551719   -0.0186021358  0.0051308111        \n",
       "Total.eve.charge       -0.015909314    0.0007065587  0.0114182234        \n",
       "Total.night.minutes    -0.008993604   -0.0033531433 -0.0002239232        \n",
       "Total.night.calls      -0.024007295    0.0114551859  0.0081239848        \n",
       "Total.night.charge     -0.008998932   -0.0033820003 -0.0002290320        \n",
       "Total.intl.minutes      0.011369014   -0.0134183471 -0.0041555945        \n",
       "Total.intl.calls        0.017627003   -0.0274233990  0.0270125707        \n",
       "Total.intl.charge       0.011383356   -0.0135341274 -0.0041355646        \n",
       "Customer.service.calls  0.002454845    0.0344424516 -0.0187866999        \n",
       "                       Total.day.minutes Total.day.calls Total.day.charge\n",
       "Account.length          0.002847460       0.038861909     0.002843487    \n",
       "Area.code              -0.023133543      -0.009628989    -0.023129789    \n",
       "Number.vmail.messages   0.019027036      -0.009622044     0.019027448    \n",
       "Total.day.minutes       1.000000000       0.016780301     0.999999952    \n",
       "Total.day.calls         0.016780301       1.000000000     0.016786841    \n",
       "Total.day.charge        0.999999952       0.016786841     1.000000000    \n",
       "Total.eve.minutes       0.003998627      -0.026002556     0.004008331    \n",
       "Total.eve.calls         0.009059029       0.006472680     0.009056437    \n",
       "Total.eve.charge        0.003992478      -0.026005641     0.004002185    \n",
       "Total.night.minutes     0.013490953       0.008985908     0.013494931    \n",
       "Total.night.calls       0.015053775      -0.016775845     0.015057285    \n",
       "Total.night.charge      0.013463791       0.008972338     0.013467759    \n",
       "Total.intl.minutes     -0.011041973       0.031035828    -0.011046118    \n",
       "Total.intl.calls        0.005686664       0.006928337     0.005688190    \n",
       "Total.intl.charge      -0.010934027       0.031133456    -0.010938194    \n",
       "Customer.service.calls -0.024543145      -0.011944648    -0.024547884    \n",
       "                       Total.eve.minutes Total.eve.calls Total.eve.charge\n",
       "Account.length         -0.0159227511      0.0185517188   -0.0159093139   \n",
       "Area.code               0.0006793495     -0.0186021358    0.0007065587   \n",
       "Number.vmail.messages   0.0114010658      0.0051308111    0.0114182234   \n",
       "Total.day.minutes       0.0039986267      0.0090590291    0.0039924780   \n",
       "Total.day.calls        -0.0260025557      0.0064726797   -0.0260056409   \n",
       "Total.day.charge        0.0040083313      0.0090564374    0.0040021854   \n",
       "Total.eve.minutes       1.0000000000     -0.0076537987    0.9999997812   \n",
       "Total.eve.calls        -0.0076537987      1.0000000000   -0.0076418806   \n",
       "Total.eve.charge        0.9999997812     -0.0076418806    1.0000000000   \n",
       "Total.night.minutes    -0.0134140744     -0.0001751710   -0.0134280257   \n",
       "Total.night.calls       0.0090173929      0.0007967658    0.0090297745   \n",
       "Total.night.charge     -0.0134496195     -0.0001349522   -0.0134635697   \n",
       "Total.intl.minutes     -0.0069146558      0.0110117626   -0.0069225725   \n",
       "Total.intl.calls        0.0021604512      0.0037095445    0.0021694843   \n",
       "Total.intl.charge      -0.0069474872      0.0109997664   -0.0069554340   \n",
       "Customer.service.calls -0.0131922255      0.0010582035   -0.0131960198   \n",
       "                       Total.night.minutes Total.night.calls Total.night.charge\n",
       "Account.length         -0.0089936038       -0.0240072954     -0.0089989318     \n",
       "Area.code              -0.0033531433        0.0114551859     -0.0033820003     \n",
       "Number.vmail.messages  -0.0002239232        0.0081239848     -0.0002290320     \n",
       "Total.day.minutes       0.0134909530        0.0150537753      0.0134637914     \n",
       "Total.day.calls         0.0089859082       -0.0167758453      0.0089723379     \n",
       "Total.day.charge        0.0134949311        0.0150572855      0.0134677588     \n",
       "Total.eve.minutes      -0.0134140744        0.0090173929     -0.0134496195     \n",
       "Total.eve.calls        -0.0001751710        0.0007967658     -0.0001349522     \n",
       "Total.eve.charge       -0.0134280257        0.0090297745     -0.0134635697     \n",
       "Total.night.minutes     1.0000000000        0.0127361002      0.9999992252     \n",
       "Total.night.calls       0.0127361002        1.0000000000      0.0127197509     \n",
       "Total.night.charge      0.9999992252        0.0127197509      1.0000000000     \n",
       "Total.intl.minutes     -0.0086074443       -0.0234472213     -0.0086146774     \n",
       "Total.intl.calls       -0.0011101285        0.0193671868     -0.0010991572     \n",
       "Total.intl.charge      -0.0085097624       -0.0234343829     -0.0085170090     \n",
       "Customer.service.calls  0.0052363600       -0.0056770709      0.0052566947     \n",
       "                       Total.intl.minutes Total.intl.calls Total.intl.charge\n",
       "Account.length          0.011369014        0.017627003      0.011383356     \n",
       "Area.code              -0.013418347       -0.027423399     -0.013534127     \n",
       "Number.vmail.messages  -0.004155595        0.027012571     -0.004135565     \n",
       "Total.day.minutes      -0.011041973        0.005686664     -0.010934027     \n",
       "Total.day.calls         0.031035828        0.006928337      0.031133456     \n",
       "Total.day.charge       -0.011046118        0.005688190     -0.010938194     \n",
       "Total.eve.minutes      -0.006914656        0.002160451     -0.006947487     \n",
       "Total.eve.calls         0.011011763        0.003709544      0.010999766     \n",
       "Total.eve.charge       -0.006922572        0.002169484     -0.006955434     \n",
       "Total.night.minutes    -0.008607444       -0.001110128     -0.008509762     \n",
       "Total.night.calls      -0.023447221        0.019367187     -0.023434383     \n",
       "Total.night.charge     -0.008614677       -0.001099157     -0.008517009     \n",
       "Total.intl.minutes      1.000000000        0.037315152      0.999992654     \n",
       "Total.intl.calls        0.037315152        1.000000000      0.037363197     \n",
       "Total.intl.charge       0.999992654        0.037363197      1.000000000     \n",
       "Customer.service.calls -0.002825678       -0.022142551     -0.002894639     \n",
       "                       Customer.service.calls\n",
       "Account.length          0.002454845          \n",
       "Area.code               0.034442452          \n",
       "Number.vmail.messages  -0.018786700          \n",
       "Total.day.minutes      -0.024543145          \n",
       "Total.day.calls        -0.011944648          \n",
       "Total.day.charge       -0.024547884          \n",
       "Total.eve.minutes      -0.013192226          \n",
       "Total.eve.calls         0.001058203          \n",
       "Total.eve.charge       -0.013196020          \n",
       "Total.night.minutes     0.005236360          \n",
       "Total.night.calls      -0.005677071          \n",
       "Total.night.charge      0.005256695          \n",
       "Total.intl.minutes     -0.002825678          \n",
       "Total.intl.calls       -0.022142551          \n",
       "Total.intl.charge      -0.002894639          \n",
       "Customer.service.calls  1.000000000          "
      ]
     },
     "metadata": {},
     "output_type": "display_data"
    }
   ],
   "source": [
    "# check for correlationsamong numeric fields\n",
    "corr.num <- cor(churn_int, churn_int)\n",
    "\n",
    "corr.num"
   ]
  },
  {
   "cell_type": "code",
   "execution_count": 148,
   "metadata": {},
   "outputs": [
    {
     "data": {
      "image/png": "[encoded data removed]",
      "text/plain": [
       "Plot with title \"\""
      ]
     },
     "metadata": {
      "image/png": {
       "height": 420,
       "width": 420
      }
     },
     "output_type": "display_data"
    }
   ],
   "source": [
    "# create correlation plots\n",
    "corrplot(cor(churn_int))"
   ]
  },
  {
   "cell_type": "code",
   "execution_count": 38,
   "metadata": {},
   "outputs": [
    {
     "data": {
      "text/html": [
       "<table>\n",
       "<caption>A matrix: 16 × 1 of type dbl</caption>\n",
       "<tbody>\n",
       "\t<tr><th scope=row>Account.length</th><td> 0.017728035</td></tr>\n",
       "\t<tr><th scope=row>Area.code</th><td> 0.001018870</td></tr>\n",
       "\t<tr><th scope=row>Number.vmail.messages</th><td>-0.086474143</td></tr>\n",
       "\t<tr><th scope=row>Total.day.minutes</th><td> 0.195687926</td></tr>\n",
       "\t<tr><th scope=row>Total.day.calls</th><td> 0.018290323</td></tr>\n",
       "\t<tr><th scope=row>Total.day.charge</th><td> 0.195688930</td></tr>\n",
       "\t<tr><th scope=row>Total.eve.minutes</th><td> 0.072906268</td></tr>\n",
       "\t<tr><th scope=row>Total.eve.calls</th><td>-0.001539166</td></tr>\n",
       "\t<tr><th scope=row>Total.eve.charge</th><td> 0.072893269</td></tr>\n",
       "\t<tr><th scope=row>Total.night.minutes</th><td> 0.033639093</td></tr>\n",
       "\t<tr><th scope=row>Total.night.calls</th><td> 0.012261954</td></tr>\n",
       "\t<tr><th scope=row>Total.night.charge</th><td> 0.033635405</td></tr>\n",
       "\t<tr><th scope=row>Total.intl.minutes</th><td> 0.086203771</td></tr>\n",
       "\t<tr><th scope=row>Total.intl.calls</th><td>-0.069881704</td></tr>\n",
       "\t<tr><th scope=row>Total.intl.charge</th><td> 0.086216118</td></tr>\n",
       "\t<tr><th scope=row>Customer.service.calls</th><td> 0.202590251</td></tr>\n",
       "</tbody>\n",
       "</table>\n"
      ],
      "text/latex": [
       "A matrix: 16 × 1 of type dbl\n",
       "\\begin{tabular}{r|l}\n",
       "\tAccount.length &  0.017728035\\\\\n",
       "\tArea.code &  0.001018870\\\\\n",
       "\tNumber.vmail.messages & -0.086474143\\\\\n",
       "\tTotal.day.minutes &  0.195687926\\\\\n",
       "\tTotal.day.calls &  0.018290323\\\\\n",
       "\tTotal.day.charge &  0.195688930\\\\\n",
       "\tTotal.eve.minutes &  0.072906268\\\\\n",
       "\tTotal.eve.calls & -0.001539166\\\\\n",
       "\tTotal.eve.charge &  0.072893269\\\\\n",
       "\tTotal.night.minutes &  0.033639093\\\\\n",
       "\tTotal.night.calls &  0.012261954\\\\\n",
       "\tTotal.night.charge &  0.033635405\\\\\n",
       "\tTotal.intl.minutes &  0.086203771\\\\\n",
       "\tTotal.intl.calls & -0.069881704\\\\\n",
       "\tTotal.intl.charge &  0.086216118\\\\\n",
       "\tCustomer.service.calls &  0.202590251\\\\\n",
       "\\end{tabular}\n"
      ],
      "text/markdown": [
       "\n",
       "A matrix: 16 × 1 of type dbl\n",
       "\n",
       "| Account.length |  0.017728035 |\n",
       "| Area.code |  0.001018870 |\n",
       "| Number.vmail.messages | -0.086474143 |\n",
       "| Total.day.minutes |  0.195687926 |\n",
       "| Total.day.calls |  0.018290323 |\n",
       "| Total.day.charge |  0.195688930 |\n",
       "| Total.eve.minutes |  0.072906268 |\n",
       "| Total.eve.calls | -0.001539166 |\n",
       "| Total.eve.charge |  0.072893269 |\n",
       "| Total.night.minutes |  0.033639093 |\n",
       "| Total.night.calls |  0.012261954 |\n",
       "| Total.night.charge |  0.033635405 |\n",
       "| Total.intl.minutes |  0.086203771 |\n",
       "| Total.intl.calls | -0.069881704 |\n",
       "| Total.intl.charge |  0.086216118 |\n",
       "| Customer.service.calls |  0.202590251 |\n",
       "\n"
      ],
      "text/plain": [
       "                       [,1]        \n",
       "Account.length          0.017728035\n",
       "Area.code               0.001018870\n",
       "Number.vmail.messages  -0.086474143\n",
       "Total.day.minutes       0.195687926\n",
       "Total.day.calls         0.018290323\n",
       "Total.day.charge        0.195688930\n",
       "Total.eve.minutes       0.072906268\n",
       "Total.eve.calls        -0.001539166\n",
       "Total.eve.charge        0.072893269\n",
       "Total.night.minutes     0.033639093\n",
       "Total.night.calls       0.012261954\n",
       "Total.night.charge      0.033635405\n",
       "Total.intl.minutes      0.086203771\n",
       "Total.intl.calls       -0.069881704\n",
       "Total.intl.charge       0.086216118\n",
       "Customer.service.calls  0.202590251"
      ]
     },
     "metadata": {},
     "output_type": "display_data"
    }
   ],
   "source": [
    "# check for correlations with target variable\n",
    "correlations <- cor(churn_int, churn$Churn)\n",
    "\n",
    "correlations\n"
   ]
  },
  {
   "cell_type": "code",
   "execution_count": 89,
   "metadata": {},
   "outputs": [
    {
     "data": {
      "text/html": [
       "<table>\n",
       "<caption>A data.frame: 7 × 1</caption>\n",
       "<thead>\n",
       "\t<tr><th></th><th scope=col>V1</th></tr>\n",
       "\t<tr><th></th><th scope=col>&lt;dbl&gt;</th></tr>\n",
       "</thead>\n",
       "<tbody>\n",
       "\t<tr><th scope=row>Customer.service.calls</th><td>0.20259025</td></tr>\n",
       "\t<tr><th scope=row>Total.day.charge</th><td>0.19568893</td></tr>\n",
       "\t<tr><th scope=row>Total.day.minutes</th><td>0.19568793</td></tr>\n",
       "\t<tr><th scope=row>Total.intl.charge</th><td>0.08621612</td></tr>\n",
       "\t<tr><th scope=row>Total.intl.minutes</th><td>0.08620377</td></tr>\n",
       "\t<tr><th scope=row>Total.eve.minutes</th><td>0.07290627</td></tr>\n",
       "\t<tr><th scope=row>Total.eve.charge</th><td>0.07289327</td></tr>\n",
       "</tbody>\n",
       "</table>\n"
      ],
      "text/latex": [
       "A data.frame: 7 × 1\n",
       "\\begin{tabular}{r|l}\n",
       "  & V1\\\\\n",
       "  & <dbl>\\\\\n",
       "\\hline\n",
       "\tCustomer.service.calls & 0.20259025\\\\\n",
       "\tTotal.day.charge & 0.19568893\\\\\n",
       "\tTotal.day.minutes & 0.19568793\\\\\n",
       "\tTotal.intl.charge & 0.08621612\\\\\n",
       "\tTotal.intl.minutes & 0.08620377\\\\\n",
       "\tTotal.eve.minutes & 0.07290627\\\\\n",
       "\tTotal.eve.charge & 0.07289327\\\\\n",
       "\\end{tabular}\n"
      ],
      "text/markdown": [
       "\n",
       "A data.frame: 7 × 1\n",
       "\n",
       "| <!--/--> | V1 &lt;dbl&gt; |\n",
       "|---|---|\n",
       "| Customer.service.calls | 0.20259025 |\n",
       "| Total.day.charge | 0.19568893 |\n",
       "| Total.day.minutes | 0.19568793 |\n",
       "| Total.intl.charge | 0.08621612 |\n",
       "| Total.intl.minutes | 0.08620377 |\n",
       "| Total.eve.minutes | 0.07290627 |\n",
       "| Total.eve.charge | 0.07289327 |\n",
       "\n"
      ],
      "text/plain": [
       "                       V1        \n",
       "Customer.service.calls 0.20259025\n",
       "Total.day.charge       0.19568893\n",
       "Total.day.minutes      0.19568793\n",
       "Total.intl.charge      0.08621612\n",
       "Total.intl.minutes     0.08620377\n",
       "Total.eve.minutes      0.07290627\n",
       "Total.eve.charge       0.07289327"
      ]
     },
     "metadata": {},
     "output_type": "display_data"
    }
   ],
   "source": [
    "as.data.frame(correlations) %>%\n",
    "  filter(V1 > 0.05) %>%\n",
    "  arrange(desc(V1))\n"
   ]
  },
  {
   "cell_type": "markdown",
   "metadata": {},
   "source": []
  },
  {
   "cell_type": "code",
   "execution_count": 39,
   "metadata": {},
   "outputs": [],
   "source": [
    "# pairs(iris[,1:4], pch = 19)\n",
    "\n",
    "# pairs(churn_int)"
   ]
  },
  {
   "cell_type": "markdown",
   "metadata": {},
   "source": [
    "# MODELING"
   ]
  },
  {
   "cell_type": "code",
   "execution_count": 40,
   "metadata": {},
   "outputs": [],
   "source": [
    "# logistic regression model\n",
    "lr.model <- glm(Churn ~ International.plan + Voice.mail.plan + Total.day.charge +\n",
    "   Total.eve.charge + Total.night.charge + Total.intl.calls + Customer.service.calls +\n",
    "   Total.intl.charge, data = churn, family = 'binomial')\n",
    "\n"
   ]
  },
  {
   "cell_type": "code",
   "execution_count": 41,
   "metadata": {},
   "outputs": [
    {
     "data": {
      "text/plain": [
       "\n",
       "Call:  glm(formula = Churn ~ International.plan + Voice.mail.plan + \n",
       "    Total.day.charge + Total.eve.charge + Total.night.charge + \n",
       "    Total.intl.calls + Customer.service.calls + Total.intl.charge, \n",
       "    family = \"binomial\", data = churn)\n",
       "\n",
       "Coefficients:\n",
       "           (Intercept)   International.planYes      Voice.mail.planYes  \n",
       "              -7.50086                 2.10091                -0.89955  \n",
       "      Total.day.charge        Total.eve.charge      Total.night.charge  \n",
       "               0.07455                 0.06572                 0.06098  \n",
       "      Total.intl.calls  Customer.service.calls       Total.intl.charge  \n",
       "              -0.11876                 0.50635                 0.37471  \n",
       "\n",
       "Degrees of Freedom: 2665 Total (i.e. Null);  2657 Residual\n",
       "Null Deviance:\t    2212 \n",
       "Residual Deviance: 1736 \tAIC: 1754"
      ]
     },
     "metadata": {},
     "output_type": "display_data"
    }
   ],
   "source": [
    "lr.model"
   ]
  },
  {
   "cell_type": "markdown",
   "metadata": {},
   "source": [
    "# RESULTS"
   ]
  },
  {
   "cell_type": "code",
   "execution_count": 42,
   "metadata": {},
   "outputs": [
    {
     "data": {
      "text/plain": [
       "                  actual.response\n",
       "predicted.response    0    1\n",
       "                 0 2216  299\n",
       "                 1   62   89"
      ]
     },
     "metadata": {},
     "output_type": "display_data"
    }
   ],
   "source": [
    "churn$Has.churned <-case_when(churn$Churn==TRUE~1,\n",
    "                      churn$Churn==FALSE~0)\n",
    "\n",
    "# Get the actual responses from the dataset\n",
    "actual.response <- churn$Has.churned\n",
    "#length(actual.response)\n",
    "\n",
    "# Get the \"most likely\" predicted responses from the model\n",
    "predicted.response <- round(fitted(lr.model))\n",
    "\n",
    "# Create a table of counts\n",
    "outcomes <- table(predicted.response, actual.response)\n",
    "\n",
    "outcomes"
   ]
  },
  {
   "cell_type": "code",
   "execution_count": 43,
   "metadata": {},
   "outputs": [
    {
     "data": {
      "image/png": "[encoded data removed]",
      "text/plain": [
       "plot without title"
      ]
     },
     "metadata": {
      "image/png": {
       "height": 420,
       "width": 420
      }
     },
     "output_type": "display_data"
    }
   ],
   "source": [
    "# Convert outcomes to a yardstick confusion matrix\n",
    "confusion <- conf_mat(outcomes)\n",
    "\n",
    "# Plot the confusion matrix\n",
    "autoplot(confusion)\n",
    "\n"
   ]
  },
  {
   "cell_type": "code",
   "execution_count": 44,
   "metadata": {},
   "outputs": [
    {
     "data": {
      "text/html": [
       "<table>\n",
       "<caption>A tibble: 13 × 3</caption>\n",
       "<thead>\n",
       "\t<tr><th scope=col>.metric</th><th scope=col>.estimator</th><th scope=col>.estimate</th></tr>\n",
       "\t<tr><th scope=col>&lt;chr&gt;</th><th scope=col>&lt;chr&gt;</th><th scope=col>&lt;dbl&gt;</th></tr>\n",
       "</thead>\n",
       "<tbody>\n",
       "\t<tr><td>accuracy            </td><td>binary</td><td>0.8645911</td></tr>\n",
       "\t<tr><td>kap                 </td><td>binary</td><td>0.2707778</td></tr>\n",
       "\t<tr><td>sens                </td><td>binary</td><td>0.9727831</td></tr>\n",
       "\t<tr><td>spec                </td><td>binary</td><td>0.2293814</td></tr>\n",
       "\t<tr><td>ppv                 </td><td>binary</td><td>0.8811133</td></tr>\n",
       "\t<tr><td>npv                 </td><td>binary</td><td>0.5894040</td></tr>\n",
       "\t<tr><td>mcc                 </td><td>binary</td><td>0.3084184</td></tr>\n",
       "\t<tr><td>j_index             </td><td>binary</td><td>0.2021646</td></tr>\n",
       "\t<tr><td>bal_accuracy        </td><td>binary</td><td>0.6010823</td></tr>\n",
       "\t<tr><td>detection_prevalence</td><td>binary</td><td>0.9433608</td></tr>\n",
       "\t<tr><td>precision           </td><td>binary</td><td>0.8811133</td></tr>\n",
       "\t<tr><td>recall              </td><td>binary</td><td>0.9727831</td></tr>\n",
       "\t<tr><td>f_meas              </td><td>binary</td><td>0.9246818</td></tr>\n",
       "</tbody>\n",
       "</table>\n"
      ],
      "text/latex": [
       "A tibble: 13 × 3\n",
       "\\begin{tabular}{lll}\n",
       " .metric & .estimator & .estimate\\\\\n",
       " <chr> & <chr> & <dbl>\\\\\n",
       "\\hline\n",
       "\t accuracy             & binary & 0.8645911\\\\\n",
       "\t kap                  & binary & 0.2707778\\\\\n",
       "\t sens                 & binary & 0.9727831\\\\\n",
       "\t spec                 & binary & 0.2293814\\\\\n",
       "\t ppv                  & binary & 0.8811133\\\\\n",
       "\t npv                  & binary & 0.5894040\\\\\n",
       "\t mcc                  & binary & 0.3084184\\\\\n",
       "\t j\\_index              & binary & 0.2021646\\\\\n",
       "\t bal\\_accuracy         & binary & 0.6010823\\\\\n",
       "\t detection\\_prevalence & binary & 0.9433608\\\\\n",
       "\t precision            & binary & 0.8811133\\\\\n",
       "\t recall               & binary & 0.9727831\\\\\n",
       "\t f\\_meas               & binary & 0.9246818\\\\\n",
       "\\end{tabular}\n"
      ],
      "text/markdown": [
       "\n",
       "A tibble: 13 × 3\n",
       "\n",
       "| .metric &lt;chr&gt; | .estimator &lt;chr&gt; | .estimate &lt;dbl&gt; |\n",
       "|---|---|---|\n",
       "| accuracy             | binary | 0.8645911 |\n",
       "| kap                  | binary | 0.2707778 |\n",
       "| sens                 | binary | 0.9727831 |\n",
       "| spec                 | binary | 0.2293814 |\n",
       "| ppv                  | binary | 0.8811133 |\n",
       "| npv                  | binary | 0.5894040 |\n",
       "| mcc                  | binary | 0.3084184 |\n",
       "| j_index              | binary | 0.2021646 |\n",
       "| bal_accuracy         | binary | 0.6010823 |\n",
       "| detection_prevalence | binary | 0.9433608 |\n",
       "| precision            | binary | 0.8811133 |\n",
       "| recall               | binary | 0.9727831 |\n",
       "| f_meas               | binary | 0.9246818 |\n",
       "\n"
      ],
      "text/plain": [
       "   .metric              .estimator .estimate\n",
       "1  accuracy             binary     0.8645911\n",
       "2  kap                  binary     0.2707778\n",
       "3  sens                 binary     0.9727831\n",
       "4  spec                 binary     0.2293814\n",
       "5  ppv                  binary     0.8811133\n",
       "6  npv                  binary     0.5894040\n",
       "7  mcc                  binary     0.3084184\n",
       "8  j_index              binary     0.2021646\n",
       "9  bal_accuracy         binary     0.6010823\n",
       "10 detection_prevalence binary     0.9433608\n",
       "11 precision            binary     0.8811133\n",
       "12 recall               binary     0.9727831\n",
       "13 f_meas               binary     0.9246818"
      ]
     },
     "metadata": {},
     "output_type": "display_data"
    }
   ],
   "source": [
    "# Get performance metrics for the confusion matrix\n",
    "summary(confusion)"
   ]
  },
  {
   "cell_type": "code",
   "execution_count": 45,
   "metadata": {},
   "outputs": [
    {
     "data": {
      "text/html": [
       "'table'"
      ],
      "text/latex": [
       "'table'"
      ],
      "text/markdown": [
       "'table'"
      ],
      "text/plain": [
       "[1] \"table\""
      ]
     },
     "metadata": {},
     "output_type": "display_data"
    }
   ],
   "source": [
    "class(outcomes)"
   ]
  },
  {
   "cell_type": "code",
   "execution_count": 46,
   "metadata": {},
   "outputs": [
    {
     "data": {
      "image/png": "[encoded data removed]",
      "text/plain": [
       "plot without title"
      ]
     },
     "metadata": {
      "image/png": {
       "height": 420,
       "width": 420
      }
     },
     "output_type": "display_data"
    }
   ],
   "source": [
    "fourfoldplot(outcomes, color = c(\"#CC6666\", \"#99CC99\"),\n",
    "             conf.level = 0, margin = 1, main = \"Confusion Matrix\")"
   ]
  },
  {
   "cell_type": "code",
   "execution_count": 47,
   "metadata": {},
   "outputs": [
    {
     "data": {
      "text/html": [
       "<table>\n",
       "<caption>A data.frame: 8 × 1</caption>\n",
       "<thead>\n",
       "\t<tr><th></th><th scope=col>Overall</th></tr>\n",
       "\t<tr><th></th><th scope=col>&lt;dbl&gt;</th></tr>\n",
       "</thead>\n",
       "<tbody>\n",
       "\t<tr><th scope=row>International.planYes</th><td>13.209934</td></tr>\n",
       "\t<tr><th scope=row>Customer.service.calls</th><td>11.529866</td></tr>\n",
       "\t<tr><th scope=row>Total.day.charge</th><td>10.414399</td></tr>\n",
       "\t<tr><th scope=row>Voice.mail.planYes</th><td> 5.581354</td></tr>\n",
       "\t<tr><th scope=row>Total.intl.charge</th><td> 4.450904</td></tr>\n",
       "\t<tr><th scope=row>Total.eve.charge</th><td> 4.404143</td></tr>\n",
       "\t<tr><th scope=row>Total.intl.calls</th><td> 4.136070</td></tr>\n",
       "\t<tr><th scope=row>Total.night.charge</th><td> 2.214102</td></tr>\n",
       "</tbody>\n",
       "</table>\n"
      ],
      "text/latex": [
       "A data.frame: 8 × 1\n",
       "\\begin{tabular}{r|l}\n",
       "  & Overall\\\\\n",
       "  & <dbl>\\\\\n",
       "\\hline\n",
       "\tInternational.planYes & 13.209934\\\\\n",
       "\tCustomer.service.calls & 11.529866\\\\\n",
       "\tTotal.day.charge & 10.414399\\\\\n",
       "\tVoice.mail.planYes &  5.581354\\\\\n",
       "\tTotal.intl.charge &  4.450904\\\\\n",
       "\tTotal.eve.charge &  4.404143\\\\\n",
       "\tTotal.intl.calls &  4.136070\\\\\n",
       "\tTotal.night.charge &  2.214102\\\\\n",
       "\\end{tabular}\n"
      ],
      "text/markdown": [
       "\n",
       "A data.frame: 8 × 1\n",
       "\n",
       "| <!--/--> | Overall &lt;dbl&gt; |\n",
       "|---|---|\n",
       "| International.planYes | 13.209934 |\n",
       "| Customer.service.calls | 11.529866 |\n",
       "| Total.day.charge | 10.414399 |\n",
       "| Voice.mail.planYes |  5.581354 |\n",
       "| Total.intl.charge |  4.450904 |\n",
       "| Total.eve.charge |  4.404143 |\n",
       "| Total.intl.calls |  4.136070 |\n",
       "| Total.night.charge |  2.214102 |\n",
       "\n"
      ],
      "text/plain": [
       "                       Overall  \n",
       "International.planYes  13.209934\n",
       "Customer.service.calls 11.529866\n",
       "Total.day.charge       10.414399\n",
       "Voice.mail.planYes      5.581354\n",
       "Total.intl.charge       4.450904\n",
       "Total.eve.charge        4.404143\n",
       "Total.intl.calls        4.136070\n",
       "Total.night.charge      2.214102"
      ]
     },
     "metadata": {},
     "output_type": "display_data"
    }
   ],
   "source": [
    "importance <- varImp(lr.model, scale=FALSE)\n",
    "\n",
    "importance %>%\n",
    "  arrange(desc(Overall))\n",
    "\n",
    "# plot importance\n",
    "#plot(importance)"
   ]
  },
  {
   "cell_type": "code",
   "execution_count": 48,
   "metadata": {},
   "outputs": [
    {
     "data": {
      "text/plain": [
       "A prediction instance\n",
       "  with 2666 data points"
      ]
     },
     "metadata": {},
     "output_type": "display_data"
    }
   ],
   "source": [
    "# create prediction object for ROCR curve\n",
    "pr <- prediction(predicted.response, actual.response)\n",
    "\n",
    "pr"
   ]
  },
  {
   "cell_type": "code",
   "execution_count": 49,
   "metadata": {},
   "outputs": [
    {
     "data": {
      "image/png": "[encoded data removed]",
      "text/plain": [
       "plot without title"
      ]
     },
     "metadata": {
      "image/png": {
       "height": 420,
       "width": 420
      }
     },
     "output_type": "display_data"
    }
   ],
   "source": [
    "# plotting ROC curve\n",
    "prf <- performance(pr, measure = \"tpr\", x.measure = \"fpr\")\n",
    "plot(prf)"
   ]
  },
  {
   "cell_type": "code",
   "execution_count": 50,
   "metadata": {},
   "outputs": [],
   "source": [
    "# predict on test set"
   ]
  },
  {
   "cell_type": "code",
   "execution_count": 51,
   "metadata": {},
   "outputs": [
    {
     "data": {
      "text/html": [
       "<table>\n",
       "<caption>A data.frame: 6 × 20</caption>\n",
       "<thead>\n",
       "\t<tr><th></th><th scope=col>State</th><th scope=col>Account.length</th><th scope=col>Area.code</th><th scope=col>International.plan</th><th scope=col>Voice.mail.plan</th><th scope=col>Number.vmail.messages</th><th scope=col>Total.day.minutes</th><th scope=col>Total.day.calls</th><th scope=col>Total.day.charge</th><th scope=col>Total.eve.minutes</th><th scope=col>Total.eve.calls</th><th scope=col>Total.eve.charge</th><th scope=col>Total.night.minutes</th><th scope=col>Total.night.calls</th><th scope=col>Total.night.charge</th><th scope=col>Total.intl.minutes</th><th scope=col>Total.intl.calls</th><th scope=col>Total.intl.charge</th><th scope=col>Customer.service.calls</th><th scope=col>Churn</th></tr>\n",
       "\t<tr><th></th><th scope=col>&lt;chr&gt;</th><th scope=col>&lt;int&gt;</th><th scope=col>&lt;int&gt;</th><th scope=col>&lt;chr&gt;</th><th scope=col>&lt;chr&gt;</th><th scope=col>&lt;int&gt;</th><th scope=col>&lt;dbl&gt;</th><th scope=col>&lt;int&gt;</th><th scope=col>&lt;dbl&gt;</th><th scope=col>&lt;dbl&gt;</th><th scope=col>&lt;int&gt;</th><th scope=col>&lt;dbl&gt;</th><th scope=col>&lt;dbl&gt;</th><th scope=col>&lt;int&gt;</th><th scope=col>&lt;dbl&gt;</th><th scope=col>&lt;dbl&gt;</th><th scope=col>&lt;int&gt;</th><th scope=col>&lt;dbl&gt;</th><th scope=col>&lt;int&gt;</th><th scope=col>&lt;lgl&gt;</th></tr>\n",
       "</thead>\n",
       "<tbody>\n",
       "\t<tr><th scope=row>1</th><td>LA</td><td>117</td><td>408</td><td>No</td><td>No </td><td> 0</td><td>184.5</td><td> 97</td><td>31.37</td><td>351.6</td><td> 80</td><td>29.89</td><td>215.8</td><td> 90</td><td>9.71</td><td> 8.7</td><td>4</td><td>2.35</td><td>1</td><td>FALSE</td></tr>\n",
       "\t<tr><th scope=row>2</th><td>IN</td><td> 65</td><td>415</td><td>No</td><td>No </td><td> 0</td><td>129.1</td><td>137</td><td>21.95</td><td>228.5</td><td> 83</td><td>19.42</td><td>208.8</td><td>111</td><td>9.40</td><td>12.7</td><td>6</td><td>3.43</td><td>4</td><td> TRUE</td></tr>\n",
       "\t<tr><th scope=row>3</th><td>NY</td><td>161</td><td>415</td><td>No</td><td>No </td><td> 0</td><td>332.9</td><td> 67</td><td>56.59</td><td>317.8</td><td> 97</td><td>27.01</td><td>160.6</td><td>128</td><td>7.23</td><td> 5.4</td><td>9</td><td>1.46</td><td>4</td><td> TRUE</td></tr>\n",
       "\t<tr><th scope=row>4</th><td>SC</td><td>111</td><td>415</td><td>No</td><td>No </td><td> 0</td><td>110.4</td><td>103</td><td>18.77</td><td>137.3</td><td>102</td><td>11.67</td><td>189.6</td><td>105</td><td>8.53</td><td> 7.7</td><td>6</td><td>2.08</td><td>2</td><td>FALSE</td></tr>\n",
       "\t<tr><th scope=row>5</th><td>HI</td><td> 49</td><td>510</td><td>No</td><td>No </td><td> 0</td><td>119.3</td><td>117</td><td>20.28</td><td>215.1</td><td>109</td><td>18.28</td><td>178.7</td><td> 90</td><td>8.04</td><td>11.1</td><td>1</td><td>3.00</td><td>1</td><td>FALSE</td></tr>\n",
       "\t<tr><th scope=row>6</th><td>AK</td><td> 36</td><td>408</td><td>No</td><td>Yes</td><td>30</td><td>146.3</td><td>128</td><td>24.87</td><td>162.5</td><td> 80</td><td>13.81</td><td>129.3</td><td>109</td><td>5.82</td><td>14.5</td><td>6</td><td>3.92</td><td>0</td><td>FALSE</td></tr>\n",
       "</tbody>\n",
       "</table>\n"
      ],
      "text/latex": [
       "A data.frame: 6 × 20\n",
       "\\begin{tabular}{r|llllllllllllllllllll}\n",
       "  & State & Account.length & Area.code & International.plan & Voice.mail.plan & Number.vmail.messages & Total.day.minutes & Total.day.calls & Total.day.charge & Total.eve.minutes & Total.eve.calls & Total.eve.charge & Total.night.minutes & Total.night.calls & Total.night.charge & Total.intl.minutes & Total.intl.calls & Total.intl.charge & Customer.service.calls & Churn\\\\\n",
       "  & <chr> & <int> & <int> & <chr> & <chr> & <int> & <dbl> & <int> & <dbl> & <dbl> & <int> & <dbl> & <dbl> & <int> & <dbl> & <dbl> & <int> & <dbl> & <int> & <lgl>\\\\\n",
       "\\hline\n",
       "\t1 & LA & 117 & 408 & No & No  &  0 & 184.5 &  97 & 31.37 & 351.6 &  80 & 29.89 & 215.8 &  90 & 9.71 &  8.7 & 4 & 2.35 & 1 & FALSE\\\\\n",
       "\t2 & IN &  65 & 415 & No & No  &  0 & 129.1 & 137 & 21.95 & 228.5 &  83 & 19.42 & 208.8 & 111 & 9.40 & 12.7 & 6 & 3.43 & 4 &  TRUE\\\\\n",
       "\t3 & NY & 161 & 415 & No & No  &  0 & 332.9 &  67 & 56.59 & 317.8 &  97 & 27.01 & 160.6 & 128 & 7.23 &  5.4 & 9 & 1.46 & 4 &  TRUE\\\\\n",
       "\t4 & SC & 111 & 415 & No & No  &  0 & 110.4 & 103 & 18.77 & 137.3 & 102 & 11.67 & 189.6 & 105 & 8.53 &  7.7 & 6 & 2.08 & 2 & FALSE\\\\\n",
       "\t5 & HI &  49 & 510 & No & No  &  0 & 119.3 & 117 & 20.28 & 215.1 & 109 & 18.28 & 178.7 &  90 & 8.04 & 11.1 & 1 & 3.00 & 1 & FALSE\\\\\n",
       "\t6 & AK &  36 & 408 & No & Yes & 30 & 146.3 & 128 & 24.87 & 162.5 &  80 & 13.81 & 129.3 & 109 & 5.82 & 14.5 & 6 & 3.92 & 0 & FALSE\\\\\n",
       "\\end{tabular}\n"
      ],
      "text/markdown": [
       "\n",
       "A data.frame: 6 × 20\n",
       "\n",
       "| <!--/--> | State &lt;chr&gt; | Account.length &lt;int&gt; | Area.code &lt;int&gt; | International.plan &lt;chr&gt; | Voice.mail.plan &lt;chr&gt; | Number.vmail.messages &lt;int&gt; | Total.day.minutes &lt;dbl&gt; | Total.day.calls &lt;int&gt; | Total.day.charge &lt;dbl&gt; | Total.eve.minutes &lt;dbl&gt; | Total.eve.calls &lt;int&gt; | Total.eve.charge &lt;dbl&gt; | Total.night.minutes &lt;dbl&gt; | Total.night.calls &lt;int&gt; | Total.night.charge &lt;dbl&gt; | Total.intl.minutes &lt;dbl&gt; | Total.intl.calls &lt;int&gt; | Total.intl.charge &lt;dbl&gt; | Customer.service.calls &lt;int&gt; | Churn &lt;lgl&gt; |\n",
       "|---|---|---|---|---|---|---|---|---|---|---|---|---|---|---|---|---|---|---|---|---|\n",
       "| 1 | LA | 117 | 408 | No | No  |  0 | 184.5 |  97 | 31.37 | 351.6 |  80 | 29.89 | 215.8 |  90 | 9.71 |  8.7 | 4 | 2.35 | 1 | FALSE |\n",
       "| 2 | IN |  65 | 415 | No | No  |  0 | 129.1 | 137 | 21.95 | 228.5 |  83 | 19.42 | 208.8 | 111 | 9.40 | 12.7 | 6 | 3.43 | 4 |  TRUE |\n",
       "| 3 | NY | 161 | 415 | No | No  |  0 | 332.9 |  67 | 56.59 | 317.8 |  97 | 27.01 | 160.6 | 128 | 7.23 |  5.4 | 9 | 1.46 | 4 |  TRUE |\n",
       "| 4 | SC | 111 | 415 | No | No  |  0 | 110.4 | 103 | 18.77 | 137.3 | 102 | 11.67 | 189.6 | 105 | 8.53 |  7.7 | 6 | 2.08 | 2 | FALSE |\n",
       "| 5 | HI |  49 | 510 | No | No  |  0 | 119.3 | 117 | 20.28 | 215.1 | 109 | 18.28 | 178.7 |  90 | 8.04 | 11.1 | 1 | 3.00 | 1 | FALSE |\n",
       "| 6 | AK |  36 | 408 | No | Yes | 30 | 146.3 | 128 | 24.87 | 162.5 |  80 | 13.81 | 129.3 | 109 | 5.82 | 14.5 | 6 | 3.92 | 0 | FALSE |\n",
       "\n"
      ],
      "text/plain": [
       "  State Account.length Area.code International.plan Voice.mail.plan\n",
       "1 LA    117            408       No                 No             \n",
       "2 IN     65            415       No                 No             \n",
       "3 NY    161            415       No                 No             \n",
       "4 SC    111            415       No                 No             \n",
       "5 HI     49            510       No                 No             \n",
       "6 AK     36            408       No                 Yes            \n",
       "  Number.vmail.messages Total.day.minutes Total.day.calls Total.day.charge\n",
       "1  0                    184.5              97             31.37           \n",
       "2  0                    129.1             137             21.95           \n",
       "3  0                    332.9              67             56.59           \n",
       "4  0                    110.4             103             18.77           \n",
       "5  0                    119.3             117             20.28           \n",
       "6 30                    146.3             128             24.87           \n",
       "  Total.eve.minutes Total.eve.calls Total.eve.charge Total.night.minutes\n",
       "1 351.6              80             29.89            215.8              \n",
       "2 228.5              83             19.42            208.8              \n",
       "3 317.8              97             27.01            160.6              \n",
       "4 137.3             102             11.67            189.6              \n",
       "5 215.1             109             18.28            178.7              \n",
       "6 162.5              80             13.81            129.3              \n",
       "  Total.night.calls Total.night.charge Total.intl.minutes Total.intl.calls\n",
       "1  90               9.71                8.7               4               \n",
       "2 111               9.40               12.7               6               \n",
       "3 128               7.23                5.4               9               \n",
       "4 105               8.53                7.7               6               \n",
       "5  90               8.04               11.1               1               \n",
       "6 109               5.82               14.5               6               \n",
       "  Total.intl.charge Customer.service.calls Churn\n",
       "1 2.35              1                      FALSE\n",
       "2 3.43              4                       TRUE\n",
       "3 1.46              4                       TRUE\n",
       "4 2.08              2                      FALSE\n",
       "5 3.00              1                      FALSE\n",
       "6 3.92              0                      FALSE"
      ]
     },
     "metadata": {},
     "output_type": "display_data"
    }
   ],
   "source": [
    "# read training dataset\n",
    "churn.test <- read.csv('churn-bigml-20.csv')\n",
    "\n",
    "head(churn.test)"
   ]
  },
  {
   "cell_type": "code",
   "execution_count": 52,
   "metadata": {},
   "outputs": [],
   "source": [
    "churn.test$Has.churned <-case_when(churn.test$Churn==TRUE~1,\n",
    "                      churn.test$Churn==FALSE~0)\n",
    "\n",
    "# Get the actual responses from the dataset\n",
    "actual.response.test <- churn.test$Has.churned\n",
    "\n",
    "predicted.response.test <- predict(lr.model, newdata = churn.test, type = \"response\")\n",
    "# convert percentage to 1 or 0\n",
    "predicted.classes.test <- ifelse(predicted.response.test > 0.5, 1, 0)\n",
    "\n"
   ]
  },
  {
   "cell_type": "code",
   "execution_count": 53,
   "metadata": {},
   "outputs": [
    {
     "data": {
      "text/plain": [
       "                      actual.response.test\n",
       "predicted.classes.test   0   1\n",
       "                     0 552  78\n",
       "                     1  20  17"
      ]
     },
     "metadata": {},
     "output_type": "display_data"
    }
   ],
   "source": [
    "outcomes.test <- table(predicted.classes.test, actual.response.test)\n",
    "\n",
    "outcomes.test"
   ]
  },
  {
   "cell_type": "code",
   "execution_count": 54,
   "metadata": {},
   "outputs": [
    {
     "data": {
      "text/html": [
       "<table>\n",
       "<caption>A tibble: 13 × 3</caption>\n",
       "<thead>\n",
       "\t<tr><th scope=col>.metric</th><th scope=col>.estimator</th><th scope=col>.estimate</th></tr>\n",
       "\t<tr><th scope=col>&lt;chr&gt;</th><th scope=col>&lt;chr&gt;</th><th scope=col>&lt;dbl&gt;</th></tr>\n",
       "</thead>\n",
       "<tbody>\n",
       "\t<tr><td>accuracy            </td><td>binary</td><td>0.8530735</td></tr>\n",
       "\t<tr><td>kap                 </td><td>binary</td><td>0.1931518</td></tr>\n",
       "\t<tr><td>sens                </td><td>binary</td><td>0.9650350</td></tr>\n",
       "\t<tr><td>spec                </td><td>binary</td><td>0.1789474</td></tr>\n",
       "\t<tr><td>ppv                 </td><td>binary</td><td>0.8761905</td></tr>\n",
       "\t<tr><td>npv                 </td><td>binary</td><td>0.4594595</td></tr>\n",
       "\t<tr><td>mcc                 </td><td>binary</td><td>0.2198355</td></tr>\n",
       "\t<tr><td>j_index             </td><td>binary</td><td>0.1439823</td></tr>\n",
       "\t<tr><td>bal_accuracy        </td><td>binary</td><td>0.5719912</td></tr>\n",
       "\t<tr><td>detection_prevalence</td><td>binary</td><td>0.9445277</td></tr>\n",
       "\t<tr><td>precision           </td><td>binary</td><td>0.8761905</td></tr>\n",
       "\t<tr><td>recall              </td><td>binary</td><td>0.9650350</td></tr>\n",
       "\t<tr><td>f_meas              </td><td>binary</td><td>0.9184692</td></tr>\n",
       "</tbody>\n",
       "</table>\n"
      ],
      "text/latex": [
       "A tibble: 13 × 3\n",
       "\\begin{tabular}{lll}\n",
       " .metric & .estimator & .estimate\\\\\n",
       " <chr> & <chr> & <dbl>\\\\\n",
       "\\hline\n",
       "\t accuracy             & binary & 0.8530735\\\\\n",
       "\t kap                  & binary & 0.1931518\\\\\n",
       "\t sens                 & binary & 0.9650350\\\\\n",
       "\t spec                 & binary & 0.1789474\\\\\n",
       "\t ppv                  & binary & 0.8761905\\\\\n",
       "\t npv                  & binary & 0.4594595\\\\\n",
       "\t mcc                  & binary & 0.2198355\\\\\n",
       "\t j\\_index              & binary & 0.1439823\\\\\n",
       "\t bal\\_accuracy         & binary & 0.5719912\\\\\n",
       "\t detection\\_prevalence & binary & 0.9445277\\\\\n",
       "\t precision            & binary & 0.8761905\\\\\n",
       "\t recall               & binary & 0.9650350\\\\\n",
       "\t f\\_meas               & binary & 0.9184692\\\\\n",
       "\\end{tabular}\n"
      ],
      "text/markdown": [
       "\n",
       "A tibble: 13 × 3\n",
       "\n",
       "| .metric &lt;chr&gt; | .estimator &lt;chr&gt; | .estimate &lt;dbl&gt; |\n",
       "|---|---|---|\n",
       "| accuracy             | binary | 0.8530735 |\n",
       "| kap                  | binary | 0.1931518 |\n",
       "| sens                 | binary | 0.9650350 |\n",
       "| spec                 | binary | 0.1789474 |\n",
       "| ppv                  | binary | 0.8761905 |\n",
       "| npv                  | binary | 0.4594595 |\n",
       "| mcc                  | binary | 0.2198355 |\n",
       "| j_index              | binary | 0.1439823 |\n",
       "| bal_accuracy         | binary | 0.5719912 |\n",
       "| detection_prevalence | binary | 0.9445277 |\n",
       "| precision            | binary | 0.8761905 |\n",
       "| recall               | binary | 0.9650350 |\n",
       "| f_meas               | binary | 0.9184692 |\n",
       "\n"
      ],
      "text/plain": [
       "   .metric              .estimator .estimate\n",
       "1  accuracy             binary     0.8530735\n",
       "2  kap                  binary     0.1931518\n",
       "3  sens                 binary     0.9650350\n",
       "4  spec                 binary     0.1789474\n",
       "5  ppv                  binary     0.8761905\n",
       "6  npv                  binary     0.4594595\n",
       "7  mcc                  binary     0.2198355\n",
       "8  j_index              binary     0.1439823\n",
       "9  bal_accuracy         binary     0.5719912\n",
       "10 detection_prevalence binary     0.9445277\n",
       "11 precision            binary     0.8761905\n",
       "12 recall               binary     0.9650350\n",
       "13 f_meas               binary     0.9184692"
      ]
     },
     "metadata": {},
     "output_type": "display_data"
    },
    {
     "data": {
      "image/png": "[encoded data removed]",
      "text/plain": [
       "plot without title"
      ]
     },
     "metadata": {
      "image/png": {
       "height": 420,
       "width": 420
      }
     },
     "output_type": "display_data"
    }
   ],
   "source": [
    "# Convert outcomes to a yardstick confusion matrix\n",
    "confusion.test <- conf_mat(outcomes.test)\n",
    "\n",
    "# Plot the confusion matrix\n",
    "autoplot(confusion.test)\n",
    "\n",
    "# Get performance metrics for the confusion matrix\n",
    "summary(confusion.test)"
   ]
  },
  {
   "cell_type": "code",
   "execution_count": 55,
   "metadata": {},
   "outputs": [
    {
     "data": {
      "image/png": "[encoded data removed]",
      "text/plain": [
       "plot without title"
      ]
     },
     "metadata": {
      "image/png": {
       "height": 420,
       "width": 420
      }
     },
     "output_type": "display_data"
    }
   ],
   "source": [
    "fourfoldplot(outcomes.test, color = c(\"#CC6666\", \"#99CC99\"),\n",
    "             conf.level = 0, margin = 1, main = \"Confusion Matrix\")"
   ]
  },
  {
   "cell_type": "code",
   "execution_count": 56,
   "metadata": {},
   "outputs": [
    {
     "data": {
      "text/plain": [
       "A prediction instance\n",
       "  with 667 data points"
      ]
     },
     "metadata": {},
     "output_type": "display_data"
    }
   ],
   "source": [
    "library(ROCR)\n",
    "\n",
    "# create prediction object for ROCR curve\n",
    "pr <- prediction(predicted.classes.test, actual.response.test)\n",
    "\n",
    "pr"
   ]
  },
  {
   "cell_type": "code",
   "execution_count": 57,
   "metadata": {},
   "outputs": [
    {
     "data": {
      "image/png": "[encoded data removed]",
      "text/plain": [
       "plot without title"
      ]
     },
     "metadata": {
      "image/png": {
       "height": 420,
       "width": 420
      }
     },
     "output_type": "display_data"
    }
   ],
   "source": [
    "# plotting ROC curve\n",
    "prf <- performance(pr, measure = \"tpr\", x.measure = \"fpr\")\n",
    "plot(prf)"
   ]
  },
  {
   "cell_type": "code",
   "execution_count": 58,
   "metadata": {},
   "outputs": [
    {
     "data": {
      "text/html": [
       "0.571991166728009"
      ],
      "text/latex": [
       "0.571991166728009"
      ],
      "text/markdown": [
       "0.571991166728009"
      ],
      "text/plain": [
       "[1] 0.5719912"
      ]
     },
     "metadata": {},
     "output_type": "display_data"
    }
   ],
   "source": [
    "# AUC value\n",
    "auc <- performance(pr, measure = \"auc\")\n",
    "auc <- auc@y.values[[1]]\n",
    "auc"
   ]
  },
  {
   "cell_type": "code",
   "execution_count": null,
   "metadata": {},
   "outputs": [],
   "source": []
  },
  {
   "cell_type": "code",
   "execution_count": 59,
   "metadata": {},
   "outputs": [
    {
     "data": {
      "text/html": [
       "<table>\n",
       "<caption>A data.frame: 6 × 22</caption>\n",
       "<thead>\n",
       "\t<tr><th></th><th scope=col>State</th><th scope=col>Account.length</th><th scope=col>Area.code</th><th scope=col>International.plan</th><th scope=col>Voice.mail.plan</th><th scope=col>Number.vmail.messages</th><th scope=col>Total.day.minutes</th><th scope=col>Total.day.calls</th><th scope=col>Total.day.charge</th><th scope=col>Total.eve.minutes</th><th scope=col>⋯</th><th scope=col>Total.night.minutes</th><th scope=col>Total.night.calls</th><th scope=col>Total.night.charge</th><th scope=col>Total.intl.minutes</th><th scope=col>Total.intl.calls</th><th scope=col>Total.intl.charge</th><th scope=col>Customer.service.calls</th><th scope=col>Churn</th><th scope=col>Has.churned</th><th scope=col>Churn.rate</th></tr>\n",
       "\t<tr><th></th><th scope=col>&lt;chr&gt;</th><th scope=col>&lt;int&gt;</th><th scope=col>&lt;int&gt;</th><th scope=col>&lt;chr&gt;</th><th scope=col>&lt;chr&gt;</th><th scope=col>&lt;int&gt;</th><th scope=col>&lt;dbl&gt;</th><th scope=col>&lt;int&gt;</th><th scope=col>&lt;dbl&gt;</th><th scope=col>&lt;dbl&gt;</th><th scope=col>⋯</th><th scope=col>&lt;dbl&gt;</th><th scope=col>&lt;int&gt;</th><th scope=col>&lt;dbl&gt;</th><th scope=col>&lt;dbl&gt;</th><th scope=col>&lt;int&gt;</th><th scope=col>&lt;dbl&gt;</th><th scope=col>&lt;int&gt;</th><th scope=col>&lt;lgl&gt;</th><th scope=col>&lt;dbl&gt;</th><th scope=col>&lt;dbl&gt;</th></tr>\n",
       "</thead>\n",
       "<tbody>\n",
       "\t<tr><th scope=row>1</th><td>LA</td><td>117</td><td>408</td><td>No</td><td>No </td><td> 0</td><td>184.5</td><td> 97</td><td>31.37</td><td>351.6</td><td>⋯</td><td>215.8</td><td> 90</td><td>9.71</td><td> 8.7</td><td>4</td><td>2.35</td><td>1</td><td>FALSE</td><td>0</td><td>0.15525242</td></tr>\n",
       "\t<tr><th scope=row>2</th><td>IN</td><td> 65</td><td>415</td><td>No</td><td>No </td><td> 0</td><td>129.1</td><td>137</td><td>21.95</td><td>228.5</td><td>⋯</td><td>208.8</td><td>111</td><td>9.40</td><td>12.7</td><td>6</td><td>3.43</td><td>4</td><td> TRUE</td><td>1</td><td>0.19513258</td></tr>\n",
       "\t<tr><th scope=row>3</th><td>NY</td><td>161</td><td>415</td><td>No</td><td>No </td><td> 0</td><td>332.9</td><td> 67</td><td>56.59</td><td>317.8</td><td>⋯</td><td>160.6</td><td>128</td><td>7.23</td><td> 5.4</td><td>9</td><td>1.46</td><td>4</td><td> TRUE</td><td>1</td><td>0.60764618</td></tr>\n",
       "\t<tr><th scope=row>4</th><td>SC</td><td>111</td><td>415</td><td>No</td><td>No </td><td> 0</td><td>110.4</td><td>103</td><td>18.77</td><td>137.3</td><td>⋯</td><td>189.6</td><td>105</td><td>8.53</td><td> 7.7</td><td>6</td><td>2.08</td><td>2</td><td>FALSE</td><td>0</td><td>0.02331714</td></tr>\n",
       "\t<tr><th scope=row>5</th><td>HI</td><td> 49</td><td>510</td><td>No</td><td>No </td><td> 0</td><td>119.3</td><td>117</td><td>20.28</td><td>215.1</td><td>⋯</td><td>178.7</td><td> 90</td><td>8.04</td><td>11.1</td><td>1</td><td>3.00</td><td>1</td><td>FALSE</td><td>0</td><td>0.05810072</td></tr>\n",
       "\t<tr><th scope=row>6</th><td>AK</td><td> 36</td><td>408</td><td>No</td><td>Yes</td><td>30</td><td>146.3</td><td>128</td><td>24.87</td><td>162.5</td><td>⋯</td><td>129.3</td><td>109</td><td>5.82</td><td>14.5</td><td>6</td><td>3.92</td><td>0</td><td>FALSE</td><td>0</td><td>0.01069088</td></tr>\n",
       "</tbody>\n",
       "</table>\n"
      ],
      "text/latex": [
       "A data.frame: 6 × 22\n",
       "\\begin{tabular}{r|lllllllllllllllllllll}\n",
       "  & State & Account.length & Area.code & International.plan & Voice.mail.plan & Number.vmail.messages & Total.day.minutes & Total.day.calls & Total.day.charge & Total.eve.minutes & ⋯ & Total.night.minutes & Total.night.calls & Total.night.charge & Total.intl.minutes & Total.intl.calls & Total.intl.charge & Customer.service.calls & Churn & Has.churned & Churn.rate\\\\\n",
       "  & <chr> & <int> & <int> & <chr> & <chr> & <int> & <dbl> & <int> & <dbl> & <dbl> & ⋯ & <dbl> & <int> & <dbl> & <dbl> & <int> & <dbl> & <int> & <lgl> & <dbl> & <dbl>\\\\\n",
       "\\hline\n",
       "\t1 & LA & 117 & 408 & No & No  &  0 & 184.5 &  97 & 31.37 & 351.6 & ⋯ & 215.8 &  90 & 9.71 &  8.7 & 4 & 2.35 & 1 & FALSE & 0 & 0.15525242\\\\\n",
       "\t2 & IN &  65 & 415 & No & No  &  0 & 129.1 & 137 & 21.95 & 228.5 & ⋯ & 208.8 & 111 & 9.40 & 12.7 & 6 & 3.43 & 4 &  TRUE & 1 & 0.19513258\\\\\n",
       "\t3 & NY & 161 & 415 & No & No  &  0 & 332.9 &  67 & 56.59 & 317.8 & ⋯ & 160.6 & 128 & 7.23 &  5.4 & 9 & 1.46 & 4 &  TRUE & 1 & 0.60764618\\\\\n",
       "\t4 & SC & 111 & 415 & No & No  &  0 & 110.4 & 103 & 18.77 & 137.3 & ⋯ & 189.6 & 105 & 8.53 &  7.7 & 6 & 2.08 & 2 & FALSE & 0 & 0.02331714\\\\\n",
       "\t5 & HI &  49 & 510 & No & No  &  0 & 119.3 & 117 & 20.28 & 215.1 & ⋯ & 178.7 &  90 & 8.04 & 11.1 & 1 & 3.00 & 1 & FALSE & 0 & 0.05810072\\\\\n",
       "\t6 & AK &  36 & 408 & No & Yes & 30 & 146.3 & 128 & 24.87 & 162.5 & ⋯ & 129.3 & 109 & 5.82 & 14.5 & 6 & 3.92 & 0 & FALSE & 0 & 0.01069088\\\\\n",
       "\\end{tabular}\n"
      ],
      "text/markdown": [
       "\n",
       "A data.frame: 6 × 22\n",
       "\n",
       "| <!--/--> | State &lt;chr&gt; | Account.length &lt;int&gt; | Area.code &lt;int&gt; | International.plan &lt;chr&gt; | Voice.mail.plan &lt;chr&gt; | Number.vmail.messages &lt;int&gt; | Total.day.minutes &lt;dbl&gt; | Total.day.calls &lt;int&gt; | Total.day.charge &lt;dbl&gt; | Total.eve.minutes &lt;dbl&gt; | ⋯ ⋯ | Total.night.minutes &lt;dbl&gt; | Total.night.calls &lt;int&gt; | Total.night.charge &lt;dbl&gt; | Total.intl.minutes &lt;dbl&gt; | Total.intl.calls &lt;int&gt; | Total.intl.charge &lt;dbl&gt; | Customer.service.calls &lt;int&gt; | Churn &lt;lgl&gt; | Has.churned &lt;dbl&gt; | Churn.rate &lt;dbl&gt; |\n",
       "|---|---|---|---|---|---|---|---|---|---|---|---|---|---|---|---|---|---|---|---|---|---|\n",
       "| 1 | LA | 117 | 408 | No | No  |  0 | 184.5 |  97 | 31.37 | 351.6 | ⋯ | 215.8 |  90 | 9.71 |  8.7 | 4 | 2.35 | 1 | FALSE | 0 | 0.15525242 |\n",
       "| 2 | IN |  65 | 415 | No | No  |  0 | 129.1 | 137 | 21.95 | 228.5 | ⋯ | 208.8 | 111 | 9.40 | 12.7 | 6 | 3.43 | 4 |  TRUE | 1 | 0.19513258 |\n",
       "| 3 | NY | 161 | 415 | No | No  |  0 | 332.9 |  67 | 56.59 | 317.8 | ⋯ | 160.6 | 128 | 7.23 |  5.4 | 9 | 1.46 | 4 |  TRUE | 1 | 0.60764618 |\n",
       "| 4 | SC | 111 | 415 | No | No  |  0 | 110.4 | 103 | 18.77 | 137.3 | ⋯ | 189.6 | 105 | 8.53 |  7.7 | 6 | 2.08 | 2 | FALSE | 0 | 0.02331714 |\n",
       "| 5 | HI |  49 | 510 | No | No  |  0 | 119.3 | 117 | 20.28 | 215.1 | ⋯ | 178.7 |  90 | 8.04 | 11.1 | 1 | 3.00 | 1 | FALSE | 0 | 0.05810072 |\n",
       "| 6 | AK |  36 | 408 | No | Yes | 30 | 146.3 | 128 | 24.87 | 162.5 | ⋯ | 129.3 | 109 | 5.82 | 14.5 | 6 | 3.92 | 0 | FALSE | 0 | 0.01069088 |\n",
       "\n"
      ],
      "text/plain": [
       "  State Account.length Area.code International.plan Voice.mail.plan\n",
       "1 LA    117            408       No                 No             \n",
       "2 IN     65            415       No                 No             \n",
       "3 NY    161            415       No                 No             \n",
       "4 SC    111            415       No                 No             \n",
       "5 HI     49            510       No                 No             \n",
       "6 AK     36            408       No                 Yes            \n",
       "  Number.vmail.messages Total.day.minutes Total.day.calls Total.day.charge\n",
       "1  0                    184.5              97             31.37           \n",
       "2  0                    129.1             137             21.95           \n",
       "3  0                    332.9              67             56.59           \n",
       "4  0                    110.4             103             18.77           \n",
       "5  0                    119.3             117             20.28           \n",
       "6 30                    146.3             128             24.87           \n",
       "  Total.eve.minutes <U+22EF>        Total.night.minutes Total.night.calls\n",
       "1 351.6             <U+22EF> 215.8                90              \n",
       "2 228.5             <U+22EF> 208.8               111              \n",
       "3 317.8             <U+22EF> 160.6               128              \n",
       "4 137.3             <U+22EF> 189.6               105              \n",
       "5 215.1             <U+22EF> 178.7                90              \n",
       "6 162.5             <U+22EF> 129.3               109              \n",
       "  Total.night.charge Total.intl.minutes Total.intl.calls Total.intl.charge\n",
       "1 9.71                8.7               4                2.35             \n",
       "2 9.40               12.7               6                3.43             \n",
       "3 7.23                5.4               9                1.46             \n",
       "4 8.53                7.7               6                2.08             \n",
       "5 8.04               11.1               1                3.00             \n",
       "6 5.82               14.5               6                3.92             \n",
       "  Customer.service.calls Churn Has.churned Churn.rate\n",
       "1 1                      FALSE 0           0.15525242\n",
       "2 4                       TRUE 1           0.19513258\n",
       "3 4                       TRUE 1           0.60764618\n",
       "4 2                      FALSE 0           0.02331714\n",
       "5 1                      FALSE 0           0.05810072\n",
       "6 0                      FALSE 0           0.01069088"
      ]
     },
     "metadata": {},
     "output_type": "display_data"
    }
   ],
   "source": [
    "# Make a data frame of predicted probabilities for the test data\n",
    "prediction.data.test <- churn.test %>% \n",
    "  mutate(   \n",
    "    Churn.rate = predict(\n",
    "      lr.model, \n",
    "      churn.test, \n",
    "      type = \"response\"\n",
    "    )\n",
    "  )\n",
    "\n",
    "head(prediction.data.test)"
   ]
  },
  {
   "cell_type": "code",
   "execution_count": 155,
   "metadata": {},
   "outputs": [
    {
     "name": "stderr",
     "output_type": "stream",
     "text": [
      "`geom_smooth()` using formula 'y ~ x'\n",
      "\n",
      "Warning message in eval(family$initialize):\n",
      "\"non-integer #successes in a binomial glm!\"\n",
      "Warning message in eval(family$initialize):\n",
      "\"non-integer #successes in a binomial glm!\"\n"
     ]
    },
    {
     "data": {
      "image/png": "[encoded data removed]",
      "text/plain": [
       "plot without title"
      ]
     },
     "metadata": {
      "image/png": {
       "height": 420,
       "width": 420
      }
     },
     "output_type": "display_data"
    }
   ],
   "source": [
    "ggplot(prediction.data.test, aes(Total.day.charge, Churn.rate, \n",
    "                                 color=factor(International.plan))) + \n",
    "  geom_point() +\n",
    "  ggtitle('Churn Rate by Total Day Charge and International Plan') +\n",
    "  theme(plot.title = element_text(size=17)) +\n",
    "  geom_smooth(method = \"glm\", \n",
    "    se = FALSE, \n",
    "    method.args = list(family = binomial)\n",
    "  )\n",
    "\n",
    "# note churn rate of international plan == Yes much higher\n"
   ]
  },
  {
   "cell_type": "code",
   "execution_count": 154,
   "metadata": {},
   "outputs": [
    {
     "name": "stderr",
     "output_type": "stream",
     "text": [
      "`geom_smooth()` using formula 'y ~ x'\n",
      "\n",
      "Warning message in eval(family$initialize):\n",
      "\"non-integer #successes in a binomial glm!\"\n",
      "Warning message in eval(family$initialize):\n",
      "\"non-integer #successes in a binomial glm!\"\n"
     ]
    },
    {
     "data": {
      "image/png": "[encoded data removed]",
      "text/plain": [
       "plot without title"
      ]
     },
     "metadata": {
      "image/png": {
       "height": 420,
       "width": 420
      }
     },
     "output_type": "display_data"
    }
   ],
   "source": [
    "ggplot(prediction.data.test, aes(Customer.service.calls, Churn.rate, \n",
    "                                 color=factor(International.plan))) + \n",
    "  geom_point() +\n",
    "  ggtitle('Churn Rate by Customer Service Calls and International Plan') +\n",
    "  theme(plot.title = element_text(size=17)) +\n",
    "  geom_smooth(method = \"glm\", \n",
    "    se = FALSE, \n",
    "    method.args = list(family = binomial)\n",
    "  )\n",
    "\n"
   ]
  },
  {
   "cell_type": "code",
   "execution_count": 62,
   "metadata": {},
   "outputs": [
    {
     "name": "stderr",
     "output_type": "stream",
     "text": [
      "`geom_smooth()` using formula 'y ~ x'\n",
      "\n",
      "Warning message in eval(family$initialize):\n",
      "\"non-integer #successes in a binomial glm!\"\n",
      "Warning message in eval(family$initialize):\n",
      "\"non-integer #successes in a binomial glm!\"\n",
      "Warning message in eval(family$initialize):\n",
      "\"non-integer #successes in a binomial glm!\"\n",
      "Warning message in eval(family$initialize):\n",
      "\"non-integer #successes in a binomial glm!\"\n",
      "Warning message in eval(family$initialize):\n",
      "\"non-integer #successes in a binomial glm!\"\n",
      "Warning message in eval(family$initialize):\n",
      "\"non-integer #successes in a binomial glm!\"\n",
      "Warning message in eval(family$initialize):\n",
      "\"non-integer #successes in a binomial glm!\"\n"
     ]
    },
    {
     "data": {
      "image/png": "[encoded data removed]",
      "text/plain": [
       "plot without title"
      ]
     },
     "metadata": {
      "image/png": {
       "height": 420,
       "width": 420
      }
     },
     "output_type": "display_data"
    }
   ],
   "source": [
    "ggplot(prediction.data.test, aes(Total.day.charge, Churn.rate, \n",
    "                                 color=factor(Customer.service.calls))) + \n",
    "  geom_point() +\n",
    "  geom_smooth(method = \"glm\", \n",
    "    se = FALSE, \n",
    "    method.args = list(family = binomial)\n",
    "  )\n",
    "\n"
   ]
  }
 ],
 "metadata": {
  "kernelspec": {
   "display_name": "R",
   "language": "R",
   "name": "ir"
  },
  "language_info": {
   "codemirror_mode": "r",
   "file_extension": ".r",
   "mimetype": "text/x-r-source",
   "name": "R",
   "pygments_lexer": "r",
   "version": "4.0.3"
  }
 },
 "nbformat": 4,
 "nbformat_minor": 4
}
