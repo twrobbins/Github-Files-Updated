{
 "cells": [
  {
   "cell_type": "code",
   "execution_count": 1,
   "metadata": {},
   "outputs": [],
   "source": [
    "# import needed packages\n",
    "import pandas as pd\n",
    "import numpy as np\n",
    "import matplotlib.pyplot as plt\n",
    "import os\n",
    "\n",
    "import thinkstats2\n",
    "import thinkplot\n",
    "\n",
    "import pandas as pd"
   ]
  },
  {
   "cell_type": "code",
   "execution_count": 2,
   "metadata": {},
   "outputs": [],
   "source": [
    "hiking = pd.read_csv('gpx-tracks-from-hikr.org.csv')\n",
    "hike = pd.DataFrame(hiking)\n"
   ]
  },
  {
   "cell_type": "code",
   "execution_count": 3,
   "metadata": {},
   "outputs": [
    {
     "data": {
      "text/plain": [
       "2.236936284"
      ]
     },
     "execution_count": 3,
     "metadata": {},
     "output_type": "execute_result"
    }
   ],
   "source": [
    "# convert from metric system to US equivalents\n",
    "\n",
    "conversion_rate_miles = 0.00062137119 # meters to miles conversion rate\n",
    "conversion_rate_feet = 3.28084  # meters to feet conversion rate\n",
    "conversion_rate_hours = 60 * 60  # seconds to hours conversion rate\n",
    "hike['moving_time_hours'] = hike['moving_time'] / conversion_rate_hours  # convert moving time in seconds to hours\n",
    "hike['length_miles'] = hike['length_3d'] * conversion_rate_miles  # convert length in meters to miles\n",
    "hike['max_elevation_feet'] = hike['max_elevation'] * conversion_rate_feet  # convert max elevation in meters to feet\n",
    "hike['max_speed_mph'] = hike['max_speed'] * conversion_rate_miles * conversion_rate_hours  # convert max speed in meters per second to miles per hour\n",
    "\n",
    "check = conversion_rate_miles * conversion_rate_hours  # conversion from meters per sec to mph s/b approximately 2.2369\n",
    "check\n"
   ]
  },
  {
   "cell_type": "code",
   "execution_count": 4,
   "metadata": {},
   "outputs": [],
   "source": [
    "# add additional variables\n",
    "\n",
    "hike['difficulty_num'] = hike['difficulty'].map(lambda x: int(x[1])).astype('int32')\n"
   ]
  },
  {
   "cell_type": "code",
   "execution_count": 5,
   "metadata": {},
   "outputs": [
    {
     "data": {
      "text/html": [
       "<div>\n",
       "<style scoped>\n",
       "    .dataframe tbody tr th:only-of-type {\n",
       "        vertical-align: middle;\n",
       "    }\n",
       "\n",
       "    .dataframe tbody tr th {\n",
       "        vertical-align: top;\n",
       "    }\n",
       "\n",
       "    .dataframe thead th {\n",
       "        text-align: right;\n",
       "    }\n",
       "</style>\n",
       "<table border=\"1\" class=\"dataframe\">\n",
       "  <thead>\n",
       "    <tr style=\"text-align: right;\">\n",
       "      <th></th>\n",
       "      <th>length_3d</th>\n",
       "      <th>max_elevation</th>\n",
       "      <th>uphill</th>\n",
       "      <th>moving_time</th>\n",
       "      <th>max_speed</th>\n",
       "      <th>min_elevation</th>\n",
       "      <th>downhill</th>\n",
       "      <th>length_2d</th>\n",
       "      <th>moving_time_hours</th>\n",
       "      <th>length_miles</th>\n",
       "      <th>max_elevation_feet</th>\n",
       "      <th>max_speed_mph</th>\n",
       "      <th>difficulty_num</th>\n",
       "    </tr>\n",
       "  </thead>\n",
       "  <tbody>\n",
       "    <tr>\n",
       "      <th>count</th>\n",
       "      <td>1.214100e+04</td>\n",
       "      <td>10563.000000</td>\n",
       "      <td>12141.000000</td>\n",
       "      <td>12141.000000</td>\n",
       "      <td>12141.000000</td>\n",
       "      <td>10563.000000</td>\n",
       "      <td>12141.000000</td>\n",
       "      <td>1.214100e+04</td>\n",
       "      <td>12141.000000</td>\n",
       "      <td>12141.000000</td>\n",
       "      <td>10563.000000</td>\n",
       "      <td>12141.000000</td>\n",
       "      <td>12141.000000</td>\n",
       "    </tr>\n",
       "    <tr>\n",
       "      <th>mean</th>\n",
       "      <td>1.874771e+04</td>\n",
       "      <td>1934.281708</td>\n",
       "      <td>942.184362</td>\n",
       "      <td>12848.445268</td>\n",
       "      <td>1.746356</td>\n",
       "      <td>1003.331150</td>\n",
       "      <td>879.145539</td>\n",
       "      <td>1.874771e+04</td>\n",
       "      <td>3.569013</td>\n",
       "      <td>11.649287</td>\n",
       "      <td>6346.068797</td>\n",
       "      <td>3.906487</td>\n",
       "      <td>2.867886</td>\n",
       "    </tr>\n",
       "    <tr>\n",
       "      <th>std</th>\n",
       "      <td>4.093098e+05</td>\n",
       "      <td>784.968353</td>\n",
       "      <td>1065.498993</td>\n",
       "      <td>11599.792248</td>\n",
       "      <td>5.394065</td>\n",
       "      <td>813.001041</td>\n",
       "      <td>1028.618856</td>\n",
       "      <td>4.093098e+05</td>\n",
       "      <td>3.222165</td>\n",
       "      <td>254.333337</td>\n",
       "      <td>2575.355571</td>\n",
       "      <td>12.066179</td>\n",
       "      <td>1.162571</td>\n",
       "    </tr>\n",
       "    <tr>\n",
       "      <th>min</th>\n",
       "      <td>0.000000e+00</td>\n",
       "      <td>-1.000000</td>\n",
       "      <td>0.000000</td>\n",
       "      <td>0.000000</td>\n",
       "      <td>0.000000</td>\n",
       "      <td>-32768.000000</td>\n",
       "      <td>0.000000</td>\n",
       "      <td>0.000000e+00</td>\n",
       "      <td>0.000000</td>\n",
       "      <td>0.000000</td>\n",
       "      <td>-3.280840</td>\n",
       "      <td>0.000000</td>\n",
       "      <td>1.000000</td>\n",
       "    </tr>\n",
       "    <tr>\n",
       "      <th>25%</th>\n",
       "      <td>8.254129e+03</td>\n",
       "      <td>1382.275000</td>\n",
       "      <td>420.142000</td>\n",
       "      <td>5260.000000</td>\n",
       "      <td>1.078841</td>\n",
       "      <td>560.020000</td>\n",
       "      <td>256.519000</td>\n",
       "      <td>8.254129e+03</td>\n",
       "      <td>1.461111</td>\n",
       "      <td>5.128878</td>\n",
       "      <td>4535.023111</td>\n",
       "      <td>2.413299</td>\n",
       "      <td>2.000000</td>\n",
       "    </tr>\n",
       "    <tr>\n",
       "      <th>50%</th>\n",
       "      <td>1.200577e+04</td>\n",
       "      <td>1986.700000</td>\n",
       "      <td>882.000000</td>\n",
       "      <td>12990.000000</td>\n",
       "      <td>1.367020</td>\n",
       "      <td>960.090000</td>\n",
       "      <td>823.199002</td>\n",
       "      <td>1.200577e+04</td>\n",
       "      <td>3.608333</td>\n",
       "      <td>7.460037</td>\n",
       "      <td>6518.044828</td>\n",
       "      <td>3.057937</td>\n",
       "      <td>3.000000</td>\n",
       "    </tr>\n",
       "    <tr>\n",
       "      <th>75%</th>\n",
       "      <td>1.645813e+04</td>\n",
       "      <td>2498.455848</td>\n",
       "      <td>1301.005000</td>\n",
       "      <td>18514.000000</td>\n",
       "      <td>1.604181</td>\n",
       "      <td>1389.485000</td>\n",
       "      <td>1266.923000</td>\n",
       "      <td>1.645813e+04</td>\n",
       "      <td>5.142778</td>\n",
       "      <td>10.226610</td>\n",
       "      <td>8197.033885</td>\n",
       "      <td>3.588450</td>\n",
       "      <td>3.000000</td>\n",
       "    </tr>\n",
       "    <tr>\n",
       "      <th>max</th>\n",
       "      <td>3.189180e+07</td>\n",
       "      <td>5633.462891</td>\n",
       "      <td>35398.006781</td>\n",
       "      <td>189380.000000</td>\n",
       "      <td>192.768748</td>\n",
       "      <td>4180.000000</td>\n",
       "      <td>52379.200000</td>\n",
       "      <td>3.189180e+07</td>\n",
       "      <td>52.605556</td>\n",
       "      <td>19816.648544</td>\n",
       "      <td>18482.490390</td>\n",
       "      <td>431.211408</td>\n",
       "      <td>6.000000</td>\n",
       "    </tr>\n",
       "  </tbody>\n",
       "</table>\n",
       "</div>"
      ],
      "text/plain": [
       "          length_3d  max_elevation        uphill    moving_time     max_speed  \\\n",
       "count  1.214100e+04   10563.000000  12141.000000   12141.000000  12141.000000   \n",
       "mean   1.874771e+04    1934.281708    942.184362   12848.445268      1.746356   \n",
       "std    4.093098e+05     784.968353   1065.498993   11599.792248      5.394065   \n",
       "min    0.000000e+00      -1.000000      0.000000       0.000000      0.000000   \n",
       "25%    8.254129e+03    1382.275000    420.142000    5260.000000      1.078841   \n",
       "50%    1.200577e+04    1986.700000    882.000000   12990.000000      1.367020   \n",
       "75%    1.645813e+04    2498.455848   1301.005000   18514.000000      1.604181   \n",
       "max    3.189180e+07    5633.462891  35398.006781  189380.000000    192.768748   \n",
       "\n",
       "       min_elevation      downhill     length_2d  moving_time_hours  \\\n",
       "count   10563.000000  12141.000000  1.214100e+04       12141.000000   \n",
       "mean     1003.331150    879.145539  1.874771e+04           3.569013   \n",
       "std       813.001041   1028.618856  4.093098e+05           3.222165   \n",
       "min    -32768.000000      0.000000  0.000000e+00           0.000000   \n",
       "25%       560.020000    256.519000  8.254129e+03           1.461111   \n",
       "50%       960.090000    823.199002  1.200577e+04           3.608333   \n",
       "75%      1389.485000   1266.923000  1.645813e+04           5.142778   \n",
       "max      4180.000000  52379.200000  3.189180e+07          52.605556   \n",
       "\n",
       "       length_miles  max_elevation_feet  max_speed_mph  difficulty_num  \n",
       "count  12141.000000        10563.000000   12141.000000    12141.000000  \n",
       "mean      11.649287         6346.068797       3.906487        2.867886  \n",
       "std      254.333337         2575.355571      12.066179        1.162571  \n",
       "min        0.000000           -3.280840       0.000000        1.000000  \n",
       "25%        5.128878         4535.023111       2.413299        2.000000  \n",
       "50%        7.460037         6518.044828       3.057937        3.000000  \n",
       "75%       10.226610         8197.033885       3.588450        3.000000  \n",
       "max    19816.648544        18482.490390     431.211408        6.000000  "
      ]
     },
     "execution_count": 5,
     "metadata": {},
     "output_type": "execute_result"
    }
   ],
   "source": [
    "hike.describe()"
   ]
  },
  {
   "cell_type": "markdown",
   "metadata": {},
   "source": [
    "o A minimum of 5 variables in your dataset used during your analysis (for help with selecting, the author made his selection on page 6 of your book). Consider what you think could have an impact on your question – remember this is never perfect, so don’t be worried if you miss one (Chapter 1)."
   ]
  },
  {
   "cell_type": "markdown",
   "metadata": {},
   "source": [
    "moving_time_hours\n",
    "length_miles\n",
    "max_elevation_feet\n",
    "uphill\n",
    "max_speed_mph\n",
    "difficulty_num"
   ]
  },
  {
   "cell_type": "markdown",
   "metadata": {},
   "source": [
    "o Describe what the 5 variables mean in the dataset (Chapter 1)."
   ]
  },
  {
   "cell_type": "markdown",
   "metadata": {},
   "source": [
    "moving_time_hours - total time spent hiking in hours\n",
    "length_miles - total length of hike in miles\n",
    "max_elevation_feet - highest elevation of hike in feet\n",
    "uphill - elevation gain (in feet)\n",
    "maximum_speed_mph - fastert hiking speed in miles per hour\n",
    "difficulty_num - difficulty of hike on a scale of 1-5 (5 being the hardest) as determined by hiker"
   ]
  },
  {
   "cell_type": "markdown",
   "metadata": {},
   "source": [
    "o Include a histogram of each of the 5 variables – in your summary and analysis, identify any outliers and explain the reasoning for them being outliers and how you believe they should be handled (Chapter 2)."
   ]
  },
  {
   "cell_type": "code",
   "execution_count": 6,
   "metadata": {},
   "outputs": [
    {
     "data": {
      "text/plain": [
       "Text(0.5, 1.0, 'Histogram of Moving Time')"
      ]
     },
     "execution_count": 6,
     "metadata": {},
     "output_type": "execute_result"
    },
    {
     "data": {
      "image/png": "[encoded data removed]",
      "text/plain": [
       "<Figure size 432x288 with 1 Axes>"
      ]
     },
     "metadata": {
      "needs_background": "light"
     },
     "output_type": "display_data"
    }
   ],
   "source": [
    "hike.moving_time_hours.plot(kind = 'hist', bins = 10)\n",
    "\n",
    "plt.xlabel(\"Hours\")\n",
    "plt.title(\"Histogram of Moving Time\")\n"
   ]
  },
  {
   "cell_type": "code",
   "execution_count": 7,
   "metadata": {},
   "outputs": [
    {
     "data": {
      "text/plain": [
       "Text(0.5, 1.0, 'Histogram of Hike Length')"
      ]
     },
     "execution_count": 7,
     "metadata": {},
     "output_type": "execute_result"
    },
    {
     "data": {
      "image/png": "[encoded data removed]",
      "text/plain": [
       "<Figure size 432x288 with 1 Axes>"
      ]
     },
     "metadata": {
      "needs_background": "light"
     },
     "output_type": "display_data"
    }
   ],
   "source": [
    "hike.length_miles.plot(kind = 'hist', bins = 10)\n",
    "\n",
    "plt.xlabel(\"Miles\")\n",
    "plt.title(\"Histogram of Hike Length\")\n"
   ]
  },
  {
   "cell_type": "code",
   "execution_count": 8,
   "metadata": {},
   "outputs": [
    {
     "data": {
      "text/plain": [
       "Text(0.5, 1.0, 'Histogram of Max Elevation')"
      ]
     },
     "execution_count": 8,
     "metadata": {},
     "output_type": "execute_result"
    },
    {
     "data": {
      "image/png": "[encoded data removed]",
      "text/plain": [
       "<Figure size 432x288 with 1 Axes>"
      ]
     },
     "metadata": {
      "needs_background": "light"
     },
     "output_type": "display_data"
    }
   ],
   "source": [
    "hike.max_elevation_feet.plot(kind = 'hist', bins = 10)\n",
    "\n",
    "plt.xlabel(\"Feet\")\n",
    "plt.title(\"Histogram of Max Elevation\")"
   ]
  },
  {
   "cell_type": "code",
   "execution_count": 9,
   "metadata": {},
   "outputs": [
    {
     "data": {
      "text/plain": [
       "Text(0.5, 1.0, 'Histogram of Elevation Gain')"
      ]
     },
     "execution_count": 9,
     "metadata": {},
     "output_type": "execute_result"
    },
    {
     "data": {
      "image/png": "[encoded data removed]",
      "text/plain": [
       "<Figure size 432x288 with 1 Axes>"
      ]
     },
     "metadata": {
      "needs_background": "light"
     },
     "output_type": "display_data"
    }
   ],
   "source": [
    "hike.uphill.plot(kind = 'hist', bins = 10)\n",
    "\n",
    "plt.xlabel(\"Feet\")\n",
    "plt.title(\"Histogram of Elevation Gain\")\n"
   ]
  },
  {
   "cell_type": "code",
   "execution_count": 10,
   "metadata": {},
   "outputs": [
    {
     "data": {
      "text/plain": [
       "Text(0.5, 1.0, 'Histogram of Max Speed')"
      ]
     },
     "execution_count": 10,
     "metadata": {},
     "output_type": "execute_result"
    },
    {
     "data": {
      "image/png": "[encoded data removed]",
      "text/plain": [
       "<Figure size 432x288 with 1 Axes>"
      ]
     },
     "metadata": {
      "needs_background": "light"
     },
     "output_type": "display_data"
    }
   ],
   "source": [
    "hike.max_speed_mph.plot(kind = 'hist', bins = 10)\n",
    "\n",
    "plt.xlabel(\"Miles per Hour\")\n",
    "plt.title(\"Histogram of Max Speed\")\n"
   ]
  },
  {
   "cell_type": "code",
   "execution_count": 11,
   "metadata": {},
   "outputs": [
    {
     "data": {
      "text/plain": [
       "Text(0.5, 1.0, 'Histogram of Hike Difficulty')"
      ]
     },
     "execution_count": 11,
     "metadata": {},
     "output_type": "execute_result"
    },
    {
     "data": {
      "image/png": "[encoded data removed]",
      "text/plain": [
       "<Figure size 432x288 with 1 Axes>"
      ]
     },
     "metadata": {
      "needs_background": "light"
     },
     "output_type": "display_data"
    }
   ],
   "source": [
    "hike.difficulty_num.plot(kind = \"hist\", bins = 6)\n",
    "\n",
    "plt.xlabel(\"Hike Difficulty Rating\")\n",
    "plt.title(\"Histogram of Hike Difficulty\")\n"
   ]
  },
  {
   "cell_type": "markdown",
   "metadata": {},
   "source": [
    "Outliers are significantly impacting the histograms as shown above.  Will remove zero and nan values and make some assumptions regarding maximum values and then rerun the histograms.\n",
    "\n",
    "For this analysis, I am assuming these are day hikes as opposed to overnight backpacking trips and making the following maximum assumptions about the variables to eliminate likely outliers:\n",
    "\n",
    "The time spent hiking is highly unlikely to exceed 20 hours in one day.\n",
    "The length of the hike in miles is highly unlikely to exceed 30 miles in one day.\n",
    "The maximum elevation is highly unlikely to exceed 20,000 feet\n",
    "The uphill (elevation gain) is highly unlikely to exceed 10,000 feet in one day.\n",
    "The maximum hiking speed is highly unlikely to exceed 10 miles per hour.\n",
    "Hiking difficulty should be in the range 1-5 (6 is not a valid option)\n"
   ]
  },
  {
   "cell_type": "code",
   "execution_count": 12,
   "metadata": {
    "scrolled": false
   },
   "outputs": [
    {
     "data": {
      "text/html": [
       "<div>\n",
       "<style scoped>\n",
       "    .dataframe tbody tr th:only-of-type {\n",
       "        vertical-align: middle;\n",
       "    }\n",
       "\n",
       "    .dataframe tbody tr th {\n",
       "        vertical-align: top;\n",
       "    }\n",
       "\n",
       "    .dataframe thead th {\n",
       "        text-align: right;\n",
       "    }\n",
       "</style>\n",
       "<table border=\"1\" class=\"dataframe\">\n",
       "  <thead>\n",
       "    <tr style=\"text-align: right;\">\n",
       "      <th></th>\n",
       "      <th>moving_time_hours</th>\n",
       "      <th>length_miles</th>\n",
       "      <th>max_elevation_feet</th>\n",
       "      <th>uphill</th>\n",
       "      <th>max_speed_mph</th>\n",
       "      <th>difficulty_num</th>\n",
       "    </tr>\n",
       "  </thead>\n",
       "  <tbody>\n",
       "    <tr>\n",
       "      <th>count</th>\n",
       "      <td>8629.000000</td>\n",
       "      <td>8629.000000</td>\n",
       "      <td>8629.000000</td>\n",
       "      <td>8629.000000</td>\n",
       "      <td>8629.000000</td>\n",
       "      <td>8629.000000</td>\n",
       "    </tr>\n",
       "    <tr>\n",
       "      <th>mean</th>\n",
       "      <td>4.373277</td>\n",
       "      <td>8.345485</td>\n",
       "      <td>6426.270329</td>\n",
       "      <td>1052.396094</td>\n",
       "      <td>3.487706</td>\n",
       "      <td>2.846332</td>\n",
       "    </tr>\n",
       "    <tr>\n",
       "      <th>std</th>\n",
       "      <td>1.908242</td>\n",
       "      <td>3.743847</td>\n",
       "      <td>2502.968120</td>\n",
       "      <td>586.199031</td>\n",
       "      <td>1.199632</td>\n",
       "      <td>1.043238</td>\n",
       "    </tr>\n",
       "    <tr>\n",
       "      <th>min</th>\n",
       "      <td>0.233611</td>\n",
       "      <td>0.601896</td>\n",
       "      <td>39.173230</td>\n",
       "      <td>0.916000</td>\n",
       "      <td>1.077284</td>\n",
       "      <td>1.000000</td>\n",
       "    </tr>\n",
       "    <tr>\n",
       "      <th>25%</th>\n",
       "      <td>3.032222</td>\n",
       "      <td>5.727273</td>\n",
       "      <td>4681.102512</td>\n",
       "      <td>664.025000</td>\n",
       "      <td>2.846250</td>\n",
       "      <td>2.000000</td>\n",
       "    </tr>\n",
       "    <tr>\n",
       "      <th>50%</th>\n",
       "      <td>4.247222</td>\n",
       "      <td>7.787812</td>\n",
       "      <td>6558.399160</td>\n",
       "      <td>1001.344000</td>\n",
       "      <td>3.183035</td>\n",
       "      <td>3.000000</td>\n",
       "    </tr>\n",
       "    <tr>\n",
       "      <th>75%</th>\n",
       "      <td>5.555278</td>\n",
       "      <td>10.391515</td>\n",
       "      <td>8223.491077</td>\n",
       "      <td>1375.400000</td>\n",
       "      <td>3.629556</td>\n",
       "      <td>3.000000</td>\n",
       "    </tr>\n",
       "    <tr>\n",
       "      <th>max</th>\n",
       "      <td>17.687778</td>\n",
       "      <td>29.889915</td>\n",
       "      <td>16348.856651</td>\n",
       "      <td>8077.528000</td>\n",
       "      <td>9.938055</td>\n",
       "      <td>5.000000</td>\n",
       "    </tr>\n",
       "  </tbody>\n",
       "</table>\n",
       "</div>"
      ],
      "text/plain": [
       "       moving_time_hours  length_miles  max_elevation_feet       uphill  \\\n",
       "count        8629.000000   8629.000000         8629.000000  8629.000000   \n",
       "mean            4.373277      8.345485         6426.270329  1052.396094   \n",
       "std             1.908242      3.743847         2502.968120   586.199031   \n",
       "min             0.233611      0.601896           39.173230     0.916000   \n",
       "25%             3.032222      5.727273         4681.102512   664.025000   \n",
       "50%             4.247222      7.787812         6558.399160  1001.344000   \n",
       "75%             5.555278     10.391515         8223.491077  1375.400000   \n",
       "max            17.687778     29.889915        16348.856651  8077.528000   \n",
       "\n",
       "       max_speed_mph  difficulty_num  \n",
       "count    8629.000000     8629.000000  \n",
       "mean        3.487706        2.846332  \n",
       "std         1.199632        1.043238  \n",
       "min         1.077284        1.000000  \n",
       "25%         2.846250        2.000000  \n",
       "50%         3.183035        3.000000  \n",
       "75%         3.629556        3.000000  \n",
       "max         9.938055        5.000000  "
      ]
     },
     "execution_count": 12,
     "metadata": {},
     "output_type": "execute_result"
    }
   ],
   "source": [
    "# create new dataframe with clean values and only columns I need\n",
    "clean = hike.replace(0, np.nan)  # convert zero values to nan\n",
    "clean = clean.dropna()  # drop NA values\n",
    "\n",
    "clean = clean[(clean.moving_time_hours <= 20) & (clean.length_miles <= 30) & (clean.max_elevation_feet <= 20000) & \n",
    "            (clean.uphill <= 10000) & (clean.max_speed_mph <= 10) & (clean.difficulty_num <= 5)]  # drop outliers\n",
    "new = clean[[\"moving_time_hours\", \"length_miles\", \"max_elevation_feet\", \"uphill\", \"max_speed_mph\", \"difficulty_num\"]]  # create new clean dataset\n",
    "\n",
    "\n",
    "new.describe()\n"
   ]
  },
  {
   "cell_type": "markdown",
   "metadata": {},
   "source": [
    "Revised Histograms:"
   ]
  },
  {
   "cell_type": "code",
   "execution_count": 13,
   "metadata": {},
   "outputs": [
    {
     "data": {
      "text/plain": [
       "Text(0.5, 1.0, 'Revised Histogram of Moving Time')"
      ]
     },
     "execution_count": 13,
     "metadata": {},
     "output_type": "execute_result"
    },
    {
     "data": {
      "image/png": "[encoded data removed]",
      "text/plain": [
       "<Figure size 432x288 with 1 Axes>"
      ]
     },
     "metadata": {
      "needs_background": "light"
     },
     "output_type": "display_data"
    }
   ],
   "source": [
    "new.moving_time_hours.plot(kind = 'hist', bins = 20)\n",
    "\n",
    "plt.xlabel(\"Hours\")\n",
    "plt.title(\"Revised Histogram of Moving Time\")"
   ]
  },
  {
   "cell_type": "code",
   "execution_count": 14,
   "metadata": {},
   "outputs": [
    {
     "data": {
      "text/plain": [
       "Text(0.5, 1.0, 'Revised Histogram of Hike Length')"
      ]
     },
     "execution_count": 14,
     "metadata": {},
     "output_type": "execute_result"
    },
    {
     "data": {
      "image/png": "[encoded data removed]",
      "text/plain": [
       "<Figure size 432x288 with 1 Axes>"
      ]
     },
     "metadata": {
      "needs_background": "light"
     },
     "output_type": "display_data"
    }
   ],
   "source": [
    "new.length_miles.plot(kind = 'hist', bins = 30)\n",
    "\n",
    "plt.xlabel(\"Miles\")\n",
    "plt.title(\"Revised Histogram of Hike Length\")"
   ]
  },
  {
   "cell_type": "code",
   "execution_count": 15,
   "metadata": {},
   "outputs": [
    {
     "data": {
      "text/plain": [
       "Text(0.5, 1.0, 'Revised Histogram of Max Elevation')"
      ]
     },
     "execution_count": 15,
     "metadata": {},
     "output_type": "execute_result"
    },
    {
     "data": {
      "image/png": "[encoded data removed]",
      "text/plain": [
       "<Figure size 432x288 with 1 Axes>"
      ]
     },
     "metadata": {
      "needs_background": "light"
     },
     "output_type": "display_data"
    }
   ],
   "source": [
    "new.max_elevation_feet.plot(kind = 'hist', bins = 20)\n",
    "\n",
    "plt.xlabel(\"Feet\")\n",
    "plt.title(\"Revised Histogram of Max Elevation\")"
   ]
  },
  {
   "cell_type": "code",
   "execution_count": 16,
   "metadata": {},
   "outputs": [
    {
     "data": {
      "text/plain": [
       "Text(0.5, 1.0, 'Revised Histogram of Elevation Gain')"
      ]
     },
     "execution_count": 16,
     "metadata": {},
     "output_type": "execute_result"
    },
    {
     "data": {
      "image/png": "[encoded data removed]",
      "text/plain": [
       "<Figure size 432x288 with 1 Axes>"
      ]
     },
     "metadata": {
      "needs_background": "light"
     },
     "output_type": "display_data"
    }
   ],
   "source": [
    "new.uphill.plot(kind = 'hist', bins = 20)\n",
    "\n",
    "plt.xlabel(\"Feet\")\n",
    "plt.title(\"Revised Histogram of Elevation Gain\")"
   ]
  },
  {
   "cell_type": "code",
   "execution_count": 17,
   "metadata": {},
   "outputs": [
    {
     "data": {
      "text/plain": [
       "Text(0.5, 1.0, 'Revised Histogram of Max Speed')"
      ]
     },
     "execution_count": 17,
     "metadata": {},
     "output_type": "execute_result"
    },
    {
     "data": {
      "image/png": "[encoded data removed]",
      "text/plain": [
       "<Figure size 432x288 with 1 Axes>"
      ]
     },
     "metadata": {
      "needs_background": "light"
     },
     "output_type": "display_data"
    }
   ],
   "source": [
    "new.max_speed_mph.plot(kind = 'hist', bins = 20)\n",
    "\n",
    "plt.xlabel(\"Miles per Hour\")\n",
    "plt.title(\"Revised Histogram of Max Speed\")"
   ]
  },
  {
   "cell_type": "code",
   "execution_count": 18,
   "metadata": {},
   "outputs": [
    {
     "data": {
      "text/plain": [
       "Text(0.5, 1.0, 'Revised Histogram of Hike Difficulty')"
      ]
     },
     "execution_count": 18,
     "metadata": {},
     "output_type": "execute_result"
    },
    {
     "data": {
      "image/png": "[encoded data removed]",
      "text/plain": [
       "<Figure size 432x288 with 1 Axes>"
      ]
     },
     "metadata": {
      "needs_background": "light"
     },
     "output_type": "display_data"
    }
   ],
   "source": [
    "new.difficulty_num.plot(kind = 'hist', bins = 5)\n",
    "\n",
    "plt.xlabel(\"Hike Difficulty Rating\")\n",
    "plt.title(\"Revised Histogram of Hike Difficulty\")"
   ]
  },
  {
   "cell_type": "markdown",
   "metadata": {},
   "source": [
    "o Include the other descriptive characteristics about the variables: Mean, Mode, Spread, and Tails (Chapter 2). "
   ]
  },
  {
   "cell_type": "code",
   "execution_count": 19,
   "metadata": {},
   "outputs": [
    {
     "data": {
      "text/plain": [
       "moving_time_hours        4.373277\n",
       "length_miles             8.345485\n",
       "max_elevation_feet    6426.270329\n",
       "uphill                1052.396094\n",
       "max_speed_mph            3.487706\n",
       "difficulty_num           2.846332\n",
       "dtype: float64"
      ]
     },
     "execution_count": 19,
     "metadata": {},
     "output_type": "execute_result"
    }
   ],
   "source": [
    "new.mean()"
   ]
  },
  {
   "cell_type": "code",
   "execution_count": 20,
   "metadata": {},
   "outputs": [
    {
     "data": {
      "text/html": [
       "<div>\n",
       "<style scoped>\n",
       "    .dataframe tbody tr th:only-of-type {\n",
       "        vertical-align: middle;\n",
       "    }\n",
       "\n",
       "    .dataframe tbody tr th {\n",
       "        vertical-align: top;\n",
       "    }\n",
       "\n",
       "    .dataframe thead th {\n",
       "        text-align: right;\n",
       "    }\n",
       "</style>\n",
       "<table border=\"1\" class=\"dataframe\">\n",
       "  <thead>\n",
       "    <tr style=\"text-align: right;\">\n",
       "      <th></th>\n",
       "      <th>moving_time_hours</th>\n",
       "      <th>length_miles</th>\n",
       "      <th>max_elevation_feet</th>\n",
       "      <th>uphill</th>\n",
       "      <th>max_speed_mph</th>\n",
       "      <th>difficulty_num</th>\n",
       "    </tr>\n",
       "  </thead>\n",
       "  <tbody>\n",
       "    <tr>\n",
       "      <th>0</th>\n",
       "      <td>2.944722</td>\n",
       "      <td>3.114102</td>\n",
       "      <td>6940.682637</td>\n",
       "      <td>522.878000</td>\n",
       "      <td>2.655828</td>\n",
       "      <td>3.0</td>\n",
       "    </tr>\n",
       "    <tr>\n",
       "      <th>1</th>\n",
       "      <td>4.476944</td>\n",
       "      <td>4.048032</td>\n",
       "      <td>NaN</td>\n",
       "      <td>583.569000</td>\n",
       "      <td>3.057670</td>\n",
       "      <td>NaN</td>\n",
       "    </tr>\n",
       "    <tr>\n",
       "      <th>2</th>\n",
       "      <td>NaN</td>\n",
       "      <td>5.384432</td>\n",
       "      <td>NaN</td>\n",
       "      <td>643.500000</td>\n",
       "      <td>3.062733</td>\n",
       "      <td>NaN</td>\n",
       "    </tr>\n",
       "    <tr>\n",
       "      <th>3</th>\n",
       "      <td>NaN</td>\n",
       "      <td>5.527027</td>\n",
       "      <td>NaN</td>\n",
       "      <td>714.835000</td>\n",
       "      <td>3.176989</td>\n",
       "      <td>NaN</td>\n",
       "    </tr>\n",
       "    <tr>\n",
       "      <th>4</th>\n",
       "      <td>NaN</td>\n",
       "      <td>7.592438</td>\n",
       "      <td>NaN</td>\n",
       "      <td>1013.029956</td>\n",
       "      <td>3.204284</td>\n",
       "      <td>NaN</td>\n",
       "    </tr>\n",
       "    <tr>\n",
       "      <th>5</th>\n",
       "      <td>NaN</td>\n",
       "      <td>7.952077</td>\n",
       "      <td>NaN</td>\n",
       "      <td>1138.100000</td>\n",
       "      <td>3.263542</td>\n",
       "      <td>NaN</td>\n",
       "    </tr>\n",
       "    <tr>\n",
       "      <th>6</th>\n",
       "      <td>NaN</td>\n",
       "      <td>9.839240</td>\n",
       "      <td>NaN</td>\n",
       "      <td>1176.368000</td>\n",
       "      <td>3.525510</td>\n",
       "      <td>NaN</td>\n",
       "    </tr>\n",
       "    <tr>\n",
       "      <th>7</th>\n",
       "      <td>NaN</td>\n",
       "      <td>12.126659</td>\n",
       "      <td>NaN</td>\n",
       "      <td>1312.776000</td>\n",
       "      <td>4.039699</td>\n",
       "      <td>NaN</td>\n",
       "    </tr>\n",
       "    <tr>\n",
       "      <th>8</th>\n",
       "      <td>NaN</td>\n",
       "      <td>NaN</td>\n",
       "      <td>NaN</td>\n",
       "      <td>1344.115967</td>\n",
       "      <td>NaN</td>\n",
       "      <td>NaN</td>\n",
       "    </tr>\n",
       "    <tr>\n",
       "      <th>9</th>\n",
       "      <td>NaN</td>\n",
       "      <td>NaN</td>\n",
       "      <td>NaN</td>\n",
       "      <td>1625.863000</td>\n",
       "      <td>NaN</td>\n",
       "      <td>NaN</td>\n",
       "    </tr>\n",
       "    <tr>\n",
       "      <th>10</th>\n",
       "      <td>NaN</td>\n",
       "      <td>NaN</td>\n",
       "      <td>NaN</td>\n",
       "      <td>1806.028833</td>\n",
       "      <td>NaN</td>\n",
       "      <td>NaN</td>\n",
       "    </tr>\n",
       "  </tbody>\n",
       "</table>\n",
       "</div>"
      ],
      "text/plain": [
       "    moving_time_hours  length_miles  max_elevation_feet       uphill  \\\n",
       "0            2.944722      3.114102         6940.682637   522.878000   \n",
       "1            4.476944      4.048032                 NaN   583.569000   \n",
       "2                 NaN      5.384432                 NaN   643.500000   \n",
       "3                 NaN      5.527027                 NaN   714.835000   \n",
       "4                 NaN      7.592438                 NaN  1013.029956   \n",
       "5                 NaN      7.952077                 NaN  1138.100000   \n",
       "6                 NaN      9.839240                 NaN  1176.368000   \n",
       "7                 NaN     12.126659                 NaN  1312.776000   \n",
       "8                 NaN           NaN                 NaN  1344.115967   \n",
       "9                 NaN           NaN                 NaN  1625.863000   \n",
       "10                NaN           NaN                 NaN  1806.028833   \n",
       "\n",
       "    max_speed_mph  difficulty_num  \n",
       "0        2.655828             3.0  \n",
       "1        3.057670             NaN  \n",
       "2        3.062733             NaN  \n",
       "3        3.176989             NaN  \n",
       "4        3.204284             NaN  \n",
       "5        3.263542             NaN  \n",
       "6        3.525510             NaN  \n",
       "7        4.039699             NaN  \n",
       "8             NaN             NaN  \n",
       "9             NaN             NaN  \n",
       "10            NaN             NaN  "
      ]
     },
     "execution_count": 20,
     "metadata": {},
     "output_type": "execute_result"
    }
   ],
   "source": [
    "new.mode()"
   ]
  },
  {
   "cell_type": "code",
   "execution_count": 21,
   "metadata": {},
   "outputs": [
    {
     "data": {
      "text/plain": [
       "moving_time_hours     3.641388e+00\n",
       "length_miles          1.401639e+01\n",
       "max_elevation_feet    6.264849e+06\n",
       "uphill                3.436293e+05\n",
       "max_speed_mph         1.439116e+00\n",
       "difficulty_num        1.088345e+00\n",
       "dtype: float64"
      ]
     },
     "execution_count": 21,
     "metadata": {},
     "output_type": "execute_result"
    }
   ],
   "source": [
    "new.var()"
   ]
  },
  {
   "cell_type": "code",
   "execution_count": 22,
   "metadata": {},
   "outputs": [
    {
     "data": {
      "text/plain": [
       "moving_time_hours        1.908242\n",
       "length_miles             3.743847\n",
       "max_elevation_feet    2502.968120\n",
       "uphill                 586.199031\n",
       "max_speed_mph            1.199632\n",
       "difficulty_num           1.043238\n",
       "dtype: float64"
      ]
     },
     "execution_count": 22,
     "metadata": {},
     "output_type": "execute_result"
    }
   ],
   "source": [
    "new.std()"
   ]
  },
  {
   "cell_type": "code",
   "execution_count": 23,
   "metadata": {},
   "outputs": [
    {
     "data": {
      "text/html": [
       "<div>\n",
       "<style scoped>\n",
       "    .dataframe tbody tr th:only-of-type {\n",
       "        vertical-align: middle;\n",
       "    }\n",
       "\n",
       "    .dataframe tbody tr th {\n",
       "        vertical-align: top;\n",
       "    }\n",
       "\n",
       "    .dataframe thead th {\n",
       "        text-align: right;\n",
       "    }\n",
       "</style>\n",
       "<table border=\"1\" class=\"dataframe\">\n",
       "  <thead>\n",
       "    <tr style=\"text-align: right;\">\n",
       "      <th></th>\n",
       "      <th>moving_time_hours</th>\n",
       "      <th>length_miles</th>\n",
       "      <th>max_elevation_feet</th>\n",
       "      <th>uphill</th>\n",
       "      <th>max_speed_mph</th>\n",
       "      <th>difficulty_num</th>\n",
       "    </tr>\n",
       "  </thead>\n",
       "  <tbody>\n",
       "    <tr>\n",
       "      <th>12135</th>\n",
       "      <td>4.387778</td>\n",
       "      <td>6.164873</td>\n",
       "      <td>7295.931992</td>\n",
       "      <td>915.679000</td>\n",
       "      <td>2.951832</td>\n",
       "      <td>2</td>\n",
       "    </tr>\n",
       "    <tr>\n",
       "      <th>12136</th>\n",
       "      <td>1.196111</td>\n",
       "      <td>2.412218</td>\n",
       "      <td>5259.631868</td>\n",
       "      <td>672.730664</td>\n",
       "      <td>2.845362</td>\n",
       "      <td>3</td>\n",
       "    </tr>\n",
       "    <tr>\n",
       "      <th>12137</th>\n",
       "      <td>4.072222</td>\n",
       "      <td>8.167313</td>\n",
       "      <td>5461.483114</td>\n",
       "      <td>928.770000</td>\n",
       "      <td>3.863931</td>\n",
       "      <td>2</td>\n",
       "    </tr>\n",
       "    <tr>\n",
       "      <th>12138</th>\n",
       "      <td>2.288611</td>\n",
       "      <td>5.508487</td>\n",
       "      <td>5440.616972</td>\n",
       "      <td>821.240000</td>\n",
       "      <td>4.711656</td>\n",
       "      <td>1</td>\n",
       "    </tr>\n",
       "    <tr>\n",
       "      <th>12139</th>\n",
       "      <td>5.098333</td>\n",
       "      <td>10.592922</td>\n",
       "      <td>2121.456761</td>\n",
       "      <td>307.855000</td>\n",
       "      <td>3.188665</td>\n",
       "      <td>1</td>\n",
       "    </tr>\n",
       "  </tbody>\n",
       "</table>\n",
       "</div>"
      ],
      "text/plain": [
       "       moving_time_hours  length_miles  max_elevation_feet      uphill  \\\n",
       "12135           4.387778      6.164873         7295.931992  915.679000   \n",
       "12136           1.196111      2.412218         5259.631868  672.730664   \n",
       "12137           4.072222      8.167313         5461.483114  928.770000   \n",
       "12138           2.288611      5.508487         5440.616972  821.240000   \n",
       "12139           5.098333     10.592922         2121.456761  307.855000   \n",
       "\n",
       "       max_speed_mph  difficulty_num  \n",
       "12135       2.951832               2  \n",
       "12136       2.845362               3  \n",
       "12137       3.863931               2  \n",
       "12138       4.711656               1  \n",
       "12139       3.188665               1  "
      ]
     },
     "execution_count": 23,
     "metadata": {},
     "output_type": "execute_result"
    }
   ],
   "source": [
    "new.tail(n = 5)"
   ]
  },
  {
   "cell_type": "markdown",
   "metadata": {},
   "source": [
    "o Using pg. 29 of your text as an example, compare two scenarios in your data using a PMF. Reminder, this isn’t comparing two variables against each other – it is the same variable, but a different scenario. Almost like a filter. The example in the book is first babies compared to all other babies, it is still the same variable, but breaking the data out based on criteria we are exploring (Chapter 3).\n"
   ]
  },
  {
   "cell_type": "code",
   "execution_count": 24,
   "metadata": {},
   "outputs": [],
   "source": [
    "s_indices = new['length_miles'] < 8\n",
    "shorter_hikes = new.loc[s_indices, :]\n",
    "\n",
    "l_indices = new['length_miles'] >= 8\n",
    "longer_hikes = new.loc[l_indices, :]\n",
    "                 "
   ]
  },
  {
   "cell_type": "code",
   "execution_count": 25,
   "metadata": {},
   "outputs": [
    {
     "data": {
      "image/png": "[encoded data removed]",
      "text/plain": [
       "<Figure size 432x288 with 1 Axes>"
      ]
     },
     "metadata": {
      "needs_background": "light"
     },
     "output_type": "display_data"
    }
   ],
   "source": [
    "fig, ax = plt.subplots()\n",
    "\n",
    "ax.hist(shorter_hikes['moving_time_hours'], histtype = \"step\", label = \"Shorter Hikes\", density = 1) \n",
    "ax.hist(longer_hikes['moving_time_hours'], histtype = \"step\", label = \"Longer Hikes\", density = 1)\n",
    "\n",
    "plt.ylabel(\"PMF\")\n",
    "plt.xlabel(\"Hours\")\n",
    "plt.title(\"PMF of Moving Time (in Hours) for Shorter (<8 miles) vs. Longer Hikes (>= 8 miles)\")\n",
    "\n",
    "ax.legend()\n",
    "plt.show()"
   ]
  },
  {
   "cell_type": "markdown",
   "metadata": {},
   "source": [
    "o Create 1 CDF with one of your variables."
   ]
  },
  {
   "cell_type": "code",
   "execution_count": 26,
   "metadata": {},
   "outputs": [
    {
     "name": "stderr",
     "output_type": "stream",
     "text": [
      "C:\\Users\\Tim\\Anaconda3\\lib\\site-packages\\pandas\\plotting\\_core.py:1344: MatplotlibDeprecationWarning: \n",
      "The 'normed' kwarg was deprecated in Matplotlib 2.1 and will be removed in 3.1. Use 'density' instead.\n",
      "  n, bins, patches = ax.hist(y, bins=bins, bottom=bottom, **kwds)\n"
     ]
    },
    {
     "data": {
      "text/plain": [
       "Text(0.5, 1.0, 'CDF of Moving Time (in Hours)')"
      ]
     },
     "execution_count": 26,
     "metadata": {},
     "output_type": "execute_result"
    },
    {
     "data": {
      "image/png": "[encoded data removed]",
      "text/plain": [
       "<Figure size 432x288 with 1 Axes>"
      ]
     },
     "metadata": {
      "needs_background": "light"
     },
     "output_type": "display_data"
    }
   ],
   "source": [
    "new.plot(y = \"moving_time_hours\", kind = \"hist\", bins = 24, range = (0, 12), normed = True, cumulative = True)\n",
    "plt.ylabel(\"CDF\")\n",
    "plt.xlabel(\"Hours\")\n",
    "plt.title(\"CDF of Moving Time (in Hours)\")"
   ]
  },
  {
   "cell_type": "markdown",
   "metadata": {},
   "source": [
    "Using page 41-44 as your guide, what does this tell you about your variable and how does it address the question you are trying to answer (Chapter 4)."
   ]
  },
  {
   "cell_type": "markdown",
   "metadata": {},
   "source": [
    "The CDF tells me that there are only a small number of hikes less than 1 hour in length. The CDF tends to increase at a greater rate after 2 hours and then maintains that rate until about 6 hours.  The rate of increase then slows between about 6-8 hours and tends to level off between 8-10 hours. \n",
    "Also, since the distribution of moving time in my dataset resembles a normal distribution, I should have more tests available to answer my questions and prove my hypothesis. "
   ]
  },
  {
   "cell_type": "markdown",
   "metadata": {},
   "source": [
    "o Plot 1 analytical distribution and provide your analysis on how it applies to the dataset you have chosen (Chapter 5)."
   ]
  },
  {
   "cell_type": "code",
   "execution_count": 27,
   "metadata": {},
   "outputs": [
    {
     "data": {
      "text/plain": [
       "((array([-3.77400301, -3.54679521, -3.42196011, ...,  3.42196011,\n",
       "          3.54679521,  3.77400301]),\n",
       "  array([ 0.23361111,  0.2525    ,  0.27194444, ..., 17.41944444,\n",
       "         17.68777778, 17.68777778])),\n",
       " (1.8829397566263673, 4.373277288471692, 0.9863944659234694))"
      ]
     },
     "execution_count": 27,
     "metadata": {},
     "output_type": "execute_result"
    },
    {
     "data": {
      "image/png": "[encoded data removed]",
      "text/plain": [
       "<Figure size 432x288 with 1 Axes>"
      ]
     },
     "metadata": {
      "needs_background": "light"
     },
     "output_type": "display_data"
    }
   ],
   "source": [
    "from scipy import stats\n",
    "import matplotlib.pyplot as plt\n",
    "\n",
    "stats.probplot(new.moving_time_hours, plot= plt)\n"
   ]
  },
  {
   "cell_type": "markdown",
   "metadata": {},
   "source": [
    "The probability plot for the moving time in hours indicates a mostly normal distribution, except in the tails.  Having a normal distributuion is an assumption for most test statistics so important for proving my hypothesis. "
   ]
  },
  {
   "cell_type": "markdown",
   "metadata": {},
   "source": [
    "o Create two scatter plots comparing two variables.  "
   ]
  },
  {
   "cell_type": "code",
   "execution_count": 28,
   "metadata": {},
   "outputs": [
    {
     "data": {
      "text/plain": [
       "Text(0.5, 1.0, 'Scatterplot of Moving Time and Elevation Gain')"
      ]
     },
     "execution_count": 28,
     "metadata": {},
     "output_type": "execute_result"
    },
    {
     "data": {
      "image/png": "[encoded data removed]",
      "text/plain": [
       "<Figure size 432x288 with 1 Axes>"
      ]
     },
     "metadata": {
      "needs_background": "light"
     },
     "output_type": "display_data"
    }
   ],
   "source": [
    "new.plot(x = 'uphill', y = 'moving_time_hours', kind = 'scatter', alpha = 0.2)\n",
    "\n",
    "plt.ylabel(\"Moving Time (in hours)\")\n",
    "plt.xlabel(\"Elevation Gain (in feet)\")\n",
    "plt.title(\"Scatterplot of Moving Time and Elevation Gain\")"
   ]
  },
  {
   "cell_type": "code",
   "execution_count": 29,
   "metadata": {},
   "outputs": [
    {
     "data": {
      "text/plain": [
       "Text(0.5, 1.0, 'Scatterplot of Moving Time and Length of Hike')"
      ]
     },
     "execution_count": 29,
     "metadata": {},
     "output_type": "execute_result"
    },
    {
     "data": {
      "image/png": "[encoded data removed]",
      "text/plain": [
       "<Figure size 432x288 with 1 Axes>"
      ]
     },
     "metadata": {
      "needs_background": "light"
     },
     "output_type": "display_data"
    }
   ],
   "source": [
    "new.plot(x = 'length_miles', y = 'moving_time_hours', kind = 'scatter', alpha = 0.2)\n",
    "\n",
    "plt.ylabel(\"Moving Time (in hours)\")\n",
    "plt.xlabel(\"Length of Hike (in miles)\")\n",
    "plt.title(\"Scatterplot of Moving Time and Length of Hike\")"
   ]
  },
  {
   "cell_type": "markdown",
   "metadata": {},
   "source": [
    "Provide your analysis on correlation and causation. Remember, covariance, Pearson’s correlation, and Non-Linear Relationships should also be considered during your analysis (Chapter 7)."
   ]
  },
  {
   "cell_type": "code",
   "execution_count": 30,
   "metadata": {},
   "outputs": [
    {
     "data": {
      "text/html": [
       "<div>\n",
       "<style scoped>\n",
       "    .dataframe tbody tr th:only-of-type {\n",
       "        vertical-align: middle;\n",
       "    }\n",
       "\n",
       "    .dataframe tbody tr th {\n",
       "        vertical-align: top;\n",
       "    }\n",
       "\n",
       "    .dataframe thead th {\n",
       "        text-align: right;\n",
       "    }\n",
       "</style>\n",
       "<table border=\"1\" class=\"dataframe\">\n",
       "  <thead>\n",
       "    <tr style=\"text-align: right;\">\n",
       "      <th></th>\n",
       "      <th>moving_time_hours</th>\n",
       "      <th>length_miles</th>\n",
       "      <th>max_elevation_feet</th>\n",
       "      <th>uphill</th>\n",
       "      <th>max_speed_mph</th>\n",
       "      <th>difficulty_num</th>\n",
       "    </tr>\n",
       "  </thead>\n",
       "  <tbody>\n",
       "    <tr>\n",
       "      <th>moving_time_hours</th>\n",
       "      <td>3.641388</td>\n",
       "      <td>6.064626</td>\n",
       "      <td>1.577658e+03</td>\n",
       "      <td>696.863306</td>\n",
       "      <td>-0.451533</td>\n",
       "      <td>0.424616</td>\n",
       "    </tr>\n",
       "    <tr>\n",
       "      <th>length_miles</th>\n",
       "      <td>6.064626</td>\n",
       "      <td>14.016391</td>\n",
       "      <td>1.382609e+03</td>\n",
       "      <td>1182.677664</td>\n",
       "      <td>0.663094</td>\n",
       "      <td>0.374250</td>\n",
       "    </tr>\n",
       "    <tr>\n",
       "      <th>max_elevation_feet</th>\n",
       "      <td>1577.657606</td>\n",
       "      <td>1382.608648</td>\n",
       "      <td>6.264849e+06</td>\n",
       "      <td>743264.268007</td>\n",
       "      <td>-619.559995</td>\n",
       "      <td>1318.666275</td>\n",
       "    </tr>\n",
       "    <tr>\n",
       "      <th>uphill</th>\n",
       "      <td>696.863306</td>\n",
       "      <td>1182.677664</td>\n",
       "      <td>7.432643e+05</td>\n",
       "      <td>343629.304279</td>\n",
       "      <td>-28.116542</td>\n",
       "      <td>259.396941</td>\n",
       "    </tr>\n",
       "    <tr>\n",
       "      <th>max_speed_mph</th>\n",
       "      <td>-0.451533</td>\n",
       "      <td>0.663094</td>\n",
       "      <td>-6.195600e+02</td>\n",
       "      <td>-28.116542</td>\n",
       "      <td>1.439116</td>\n",
       "      <td>-0.108883</td>\n",
       "    </tr>\n",
       "    <tr>\n",
       "      <th>difficulty_num</th>\n",
       "      <td>0.424616</td>\n",
       "      <td>0.374250</td>\n",
       "      <td>1.318666e+03</td>\n",
       "      <td>259.396941</td>\n",
       "      <td>-0.108883</td>\n",
       "      <td>1.088345</td>\n",
       "    </tr>\n",
       "  </tbody>\n",
       "</table>\n",
       "</div>"
      ],
      "text/plain": [
       "                    moving_time_hours  length_miles  max_elevation_feet  \\\n",
       "moving_time_hours            3.641388      6.064626        1.577658e+03   \n",
       "length_miles                 6.064626     14.016391        1.382609e+03   \n",
       "max_elevation_feet        1577.657606   1382.608648        6.264849e+06   \n",
       "uphill                     696.863306   1182.677664        7.432643e+05   \n",
       "max_speed_mph               -0.451533      0.663094       -6.195600e+02   \n",
       "difficulty_num               0.424616      0.374250        1.318666e+03   \n",
       "\n",
       "                           uphill  max_speed_mph  difficulty_num  \n",
       "moving_time_hours      696.863306      -0.451533        0.424616  \n",
       "length_miles          1182.677664       0.663094        0.374250  \n",
       "max_elevation_feet  743264.268007    -619.559995     1318.666275  \n",
       "uphill              343629.304279     -28.116542      259.396941  \n",
       "max_speed_mph          -28.116542       1.439116       -0.108883  \n",
       "difficulty_num         259.396941      -0.108883        1.088345  "
      ]
     },
     "execution_count": 30,
     "metadata": {},
     "output_type": "execute_result"
    }
   ],
   "source": [
    "new.cov()"
   ]
  },
  {
   "cell_type": "code",
   "execution_count": 31,
   "metadata": {},
   "outputs": [
    {
     "data": {
      "text/html": [
       "<div>\n",
       "<style scoped>\n",
       "    .dataframe tbody tr th:only-of-type {\n",
       "        vertical-align: middle;\n",
       "    }\n",
       "\n",
       "    .dataframe tbody tr th {\n",
       "        vertical-align: top;\n",
       "    }\n",
       "\n",
       "    .dataframe thead th {\n",
       "        text-align: right;\n",
       "    }\n",
       "</style>\n",
       "<table border=\"1\" class=\"dataframe\">\n",
       "  <thead>\n",
       "    <tr style=\"text-align: right;\">\n",
       "      <th></th>\n",
       "      <th>moving_time_hours</th>\n",
       "      <th>length_miles</th>\n",
       "      <th>max_elevation_feet</th>\n",
       "      <th>uphill</th>\n",
       "      <th>max_speed_mph</th>\n",
       "      <th>difficulty_num</th>\n",
       "    </tr>\n",
       "  </thead>\n",
       "  <tbody>\n",
       "    <tr>\n",
       "      <th>moving_time_hours</th>\n",
       "      <td>1.000000</td>\n",
       "      <td>0.848892</td>\n",
       "      <td>0.330312</td>\n",
       "      <td>0.622973</td>\n",
       "      <td>-0.197246</td>\n",
       "      <td>0.213294</td>\n",
       "    </tr>\n",
       "    <tr>\n",
       "      <th>length_miles</th>\n",
       "      <td>0.848892</td>\n",
       "      <td>1.000000</td>\n",
       "      <td>0.147545</td>\n",
       "      <td>0.538894</td>\n",
       "      <td>0.147642</td>\n",
       "      <td>0.095821</td>\n",
       "    </tr>\n",
       "    <tr>\n",
       "      <th>max_elevation_feet</th>\n",
       "      <td>0.330312</td>\n",
       "      <td>0.147545</td>\n",
       "      <td>1.000000</td>\n",
       "      <td>0.506574</td>\n",
       "      <td>-0.206338</td>\n",
       "      <td>0.505006</td>\n",
       "    </tr>\n",
       "    <tr>\n",
       "      <th>uphill</th>\n",
       "      <td>0.622973</td>\n",
       "      <td>0.538894</td>\n",
       "      <td>0.506574</td>\n",
       "      <td>1.000000</td>\n",
       "      <td>-0.039982</td>\n",
       "      <td>0.424167</td>\n",
       "    </tr>\n",
       "    <tr>\n",
       "      <th>max_speed_mph</th>\n",
       "      <td>-0.197246</td>\n",
       "      <td>0.147642</td>\n",
       "      <td>-0.206338</td>\n",
       "      <td>-0.039982</td>\n",
       "      <td>1.000000</td>\n",
       "      <td>-0.087002</td>\n",
       "    </tr>\n",
       "    <tr>\n",
       "      <th>difficulty_num</th>\n",
       "      <td>0.213294</td>\n",
       "      <td>0.095821</td>\n",
       "      <td>0.505006</td>\n",
       "      <td>0.424167</td>\n",
       "      <td>-0.087002</td>\n",
       "      <td>1.000000</td>\n",
       "    </tr>\n",
       "  </tbody>\n",
       "</table>\n",
       "</div>"
      ],
      "text/plain": [
       "                    moving_time_hours  length_miles  max_elevation_feet  \\\n",
       "moving_time_hours            1.000000      0.848892            0.330312   \n",
       "length_miles                 0.848892      1.000000            0.147545   \n",
       "max_elevation_feet           0.330312      0.147545            1.000000   \n",
       "uphill                       0.622973      0.538894            0.506574   \n",
       "max_speed_mph               -0.197246      0.147642           -0.206338   \n",
       "difficulty_num               0.213294      0.095821            0.505006   \n",
       "\n",
       "                      uphill  max_speed_mph  difficulty_num  \n",
       "moving_time_hours   0.622973      -0.197246        0.213294  \n",
       "length_miles        0.538894       0.147642        0.095821  \n",
       "max_elevation_feet  0.506574      -0.206338        0.505006  \n",
       "uphill              1.000000      -0.039982        0.424167  \n",
       "max_speed_mph      -0.039982       1.000000       -0.087002  \n",
       "difficulty_num      0.424167      -0.087002        1.000000  "
      ]
     },
     "execution_count": 31,
     "metadata": {},
     "output_type": "execute_result"
    }
   ],
   "source": [
    "new.corr()"
   ]
  },
  {
   "cell_type": "markdown",
   "metadata": {},
   "source": [
    "The strongest correlations are the length of the hike (.85), elevation gain (uphill = .62), the max elevation (.33), and the hike difficulty (.21).  These correlations seem reasonable.  There appears to be a negative correlation between maximum speed and the time spent hiking.  However, it does appear plausible that the maximum speed could have no impact on the time spent hiking, as one could potentially run for a few seconds to increase the maximum speed and then spend the rest of the hike hiking at a slower pace.  "
   ]
  },
  {
   "cell_type": "markdown",
   "metadata": {},
   "source": [
    "The relationships between variables seem to be approximately linear."
   ]
  },
  {
   "cell_type": "markdown",
   "metadata": {},
   "source": [
    "o Conduct a test on your hypothesis using one of the methods covered in Chapter 9."
   ]
  },
  {
   "cell_type": "markdown",
   "metadata": {},
   "source": [
    "Under classical hypothesis testing, the steps are as follows:\n",
    "\n",
    "    1) Quantify the size of the effect by choosing a test statistic\n",
    "    The test statistic I chose is testing a correlation (see below).  Since we have a roughly normal distribution can\n",
    "    use Pearson's correlation.  \n",
    "    \n",
    "    2) Define the null hypothesis\n",
    "    The null hypothesis is that the length of the hike has no impact on the time spent hiking.\n",
    "    \n",
    "    3) Compute p-value\n",
    "    The p-value is less than .01 so statistically significant.  We can reject the null hypothesis,\n",
    "    \n",
    "    4) Interpret the result\n",
    "    There is a positive correlation of approximately 0.85 between the hiking time and the length of the hike.\n",
    "    "
   ]
  },
  {
   "cell_type": "code",
   "execution_count": 32,
   "metadata": {},
   "outputs": [
    {
     "data": {
      "text/plain": [
       "(0.8488919658393969, 0.0)"
      ]
     },
     "execution_count": 32,
     "metadata": {},
     "output_type": "execute_result"
    }
   ],
   "source": [
    "from scipy.stats.stats import pearsonr\n",
    "\n",
    "pearsonr(new.moving_time_hours, new.length_miles)"
   ]
  },
  {
   "cell_type": "markdown",
   "metadata": {},
   "source": [
    "o For this project, conduct a regression analysis on either one dependent and one explanatory variable, or multiple explanatory variables (Chapter 10 & 11)."
   ]
  },
  {
   "cell_type": "code",
   "execution_count": 33,
   "metadata": {},
   "outputs": [
    {
     "name": "stdout",
     "output_type": "stream",
     "text": [
      "                            OLS Regression Results                            \n",
      "==============================================================================\n",
      "Dep. Variable:      moving_time_hours   R-squared:                       0.759\n",
      "Model:                            OLS   Adj. R-squared:                  0.759\n",
      "Method:                 Least Squares   F-statistic:                 1.360e+04\n",
      "Date:                Mon, 11 Nov 2019   Prob (F-statistic):               0.00\n",
      "Time:                        07:56:56   Log-Likelihood:                -11676.\n",
      "No. Observations:                8629   AIC:                         2.336e+04\n",
      "Df Residuals:                    8626   BIC:                         2.338e+04\n",
      "Df Model:                           2                                         \n",
      "Covariance Type:            nonrobust                                         \n",
      "================================================================================\n",
      "                   coef    std err          t      P>|t|      [0.025      0.975]\n",
      "--------------------------------------------------------------------------------\n",
      "Intercept        0.4979      0.026     19.423      0.000       0.448       0.548\n",
      "length_miles     0.3686      0.003    115.308      0.000       0.362       0.375\n",
      "uphill           0.0008   2.04e-05     37.189      0.000       0.001       0.001\n",
      "==============================================================================\n",
      "Omnibus:                     2970.862   Durbin-Watson:                   1.942\n",
      "Prob(Omnibus):                  0.000   Jarque-Bera (JB):            22411.134\n",
      "Skew:                          -1.448   Prob(JB):                         0.00\n",
      "Kurtosis:                      10.345   Cond. No.                     3.07e+03\n",
      "==============================================================================\n",
      "\n",
      "Warnings:\n",
      "[1] Standard Errors assume that the covariance matrix of the errors is correctly specified.\n",
      "[2] The condition number is large, 3.07e+03. This might indicate that there are\n",
      "strong multicollinearity or other numerical problems.\n"
     ]
    }
   ],
   "source": [
    "import statsmodels.api as sm\n",
    "from statsmodels.formula.api import ols, glm\n",
    "\n",
    "# Fit a linear model using multiple independent variables\n",
    "model_lm = ols(formula = 'moving_time_hours ~ length_miles + uphill',\n",
    "               data = new).fit()\n",
    "\n",
    "print(model_lm.summary())  # Print regression results summary"
   ]
  },
  {
   "cell_type": "markdown",
   "metadata": {},
   "source": [
    "I ran various combinations of regression models using length_miles, uphill (elevation gain), max_elevation_feet, and difficulty_num (max_speed_mph has a negative correlation) as predictor variables.  The highest r-squared value of .780 was a combination of length_miles, uphill, and max_elevation_feet.  However, the p-value for the y-intercept was less than .05, so not significantly significant.  I then tried a combination of only length_miles and uphill as predictor variables, resulting in an r-squared of .759 and all p-values less than .01.  The elevation gain (uphill) doesn't contribute much to the regression model, but does provide a higher p-value than with the length of the hike as the only predictor variable.  Thus, it appears that the length of the hike and elevation gain are the best predictors of the time spent hiking."
   ]
  }
 ],
 "metadata": {
  "kernelspec": {
   "display_name": "Python 3",
   "language": "python",
   "name": "python3"
  },
  "language_info": {
   "codemirror_mode": {
    "name": "ipython",
    "version": 3
   },
   "file_extension": ".py",
   "mimetype": "text/x-python",
   "name": "python",
   "nbconvert_exporter": "python",
   "pygments_lexer": "ipython3",
   "version": "3.7.3"
  }
 },
 "nbformat": 4,
 "nbformat_minor": 2
}
