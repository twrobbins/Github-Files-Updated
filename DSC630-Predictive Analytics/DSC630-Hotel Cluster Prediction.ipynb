{
 "cells": [
  {
   "cell_type": "code",
   "execution_count": 1,
   "metadata": {},
   "outputs": [
    {
     "data": {
      "text/html": [
       "8082"
      ],
      "text/latex": [
       "8082"
      ],
      "text/markdown": [
       "8082"
      ],
      "text/plain": [
       "[1] 8082"
      ]
     },
     "metadata": {},
     "output_type": "display_data"
    },
    {
     "data": {
      "text/html": [
       "80820"
      ],
      "text/latex": [
       "80820"
      ],
      "text/markdown": [
       "80820"
      ],
      "text/plain": [
       "[1] 80820"
      ]
     },
     "metadata": {},
     "output_type": "display_data"
    }
   ],
   "source": [
    "# To know the current storage capacity\n",
    "memory.limit()\n",
    "\n",
    "# To increase the storage capacity\n",
    "memory.limit(size=80820)\n"
   ]
  },
  {
   "cell_type": "code",
   "execution_count": 2,
   "metadata": {
    "scrolled": true
   },
   "outputs": [
    {
     "data": {
      "text/html": [
       "<ol class=list-inline>\n",
       "\t<li>62106</li>\n",
       "\t<li>150</li>\n",
       "</ol>\n"
      ],
      "text/latex": [
       "\\begin{enumerate*}\n",
       "\\item 62106\n",
       "\\item 150\n",
       "\\end{enumerate*}\n"
      ],
      "text/markdown": [
       "1. 62106\n",
       "2. 150\n",
       "\n",
       "\n"
      ],
      "text/plain": [
       "[1] 62106   150"
      ]
     },
     "metadata": {},
     "output_type": "display_data"
    },
    {
     "data": {
      "text/html": [
       "<table>\n",
       "<thead><tr><th scope=col>srch_destination_id</th><th scope=col>d1</th><th scope=col>d2</th><th scope=col>d3</th><th scope=col>d4</th><th scope=col>d5</th><th scope=col>d6</th><th scope=col>d7</th><th scope=col>d8</th><th scope=col>d9</th><th scope=col>...</th><th scope=col>d140</th><th scope=col>d141</th><th scope=col>d142</th><th scope=col>d143</th><th scope=col>d144</th><th scope=col>d145</th><th scope=col>d146</th><th scope=col>d147</th><th scope=col>d148</th><th scope=col>d149</th></tr></thead>\n",
       "<tbody>\n",
       "\t<tr><td>0        </td><td>-2.198657</td><td>-2.198657</td><td>-2.198657</td><td>-2.198657</td><td>-2.198657</td><td>-1.897627</td><td>-2.198657</td><td>-2.198657</td><td>-1.897627</td><td>...      </td><td>-2.198657</td><td>-2.198657</td><td>-2.198657</td><td>-2.198657</td><td>-2.198657</td><td>-2.198657</td><td>-2.198657</td><td>-2.198657</td><td>-2.198657</td><td>-2.198657</td></tr>\n",
       "\t<tr><td>1        </td><td>-2.181690</td><td>-2.181690</td><td>-2.181690</td><td>-2.082564</td><td>-2.181690</td><td>-2.165028</td><td>-2.181690</td><td>-2.181690</td><td>-2.031597</td><td>...      </td><td>-2.165028</td><td>-2.181690</td><td>-2.165028</td><td>-2.181690</td><td>-2.181690</td><td>-2.165028</td><td>-2.181690</td><td>-2.181690</td><td>-2.181690</td><td>-2.181690</td></tr>\n",
       "\t<tr><td>2        </td><td>-2.183490</td><td>-2.224164</td><td>-2.224164</td><td>-2.189562</td><td>-2.105819</td><td>-2.075407</td><td>-2.224164</td><td>-2.118483</td><td>-2.140393</td><td>...      </td><td>-2.224164</td><td>-2.224164</td><td>-2.196379</td><td>-2.224164</td><td>-2.192009</td><td>-2.224164</td><td>-2.224164</td><td>-2.224164</td><td>-2.224164</td><td>-2.057548</td></tr>\n",
       "\t<tr><td>3        </td><td>-2.177409</td><td>-2.177409</td><td>-2.177409</td><td>-2.177409</td><td>-2.177409</td><td>-2.115485</td><td>-2.177409</td><td>-2.177409</td><td>-2.177409</td><td>...      </td><td>-2.161081</td><td>-2.177409</td><td>-2.177409</td><td>-2.177409</td><td>-2.177409</td><td>-2.177409</td><td>-2.177409</td><td>-2.177409</td><td>-2.177409</td><td>-2.177409</td></tr>\n",
       "\t<tr><td>4        </td><td>-2.189562</td><td>-2.187783</td><td>-2.194008</td><td>-2.171153</td><td>-2.152303</td><td>-2.056618</td><td>-2.194008</td><td>-2.194008</td><td>-2.145911</td><td>...      </td><td>-2.187356</td><td>-2.194008</td><td>-2.191779</td><td>-2.194008</td><td>-2.194008</td><td>-2.185161</td><td>-2.194008</td><td>-2.194008</td><td>-2.194008</td><td>-2.188037</td></tr>\n",
       "\t<tr><td>5        </td><td>-2.174489</td><td>-2.174489</td><td>-2.174489</td><td>-2.174489</td><td>-2.174489</td><td>-2.155473</td><td>-2.174489</td><td>-2.174489</td><td>-2.174489</td><td>...      </td><td>-2.174489</td><td>-2.174489</td><td>-2.174489</td><td>-2.174489</td><td>-2.174489</td><td>-2.174489</td><td>-2.174489</td><td>-2.174489</td><td>-2.174489</td><td>-2.174489</td></tr>\n",
       "</tbody>\n",
       "</table>\n"
      ],
      "text/latex": [
       "\\begin{tabular}{r|llllllllllllllllllllllllllllllllllllllllllllllllllllllllllllllllllllllllllllllllllllllllllllllllllllllllllllllllllllllllllllllllllllllllllllllllllllll}\n",
       " srch\\_destination\\_id & d1 & d2 & d3 & d4 & d5 & d6 & d7 & d8 & d9 & ... & d140 & d141 & d142 & d143 & d144 & d145 & d146 & d147 & d148 & d149\\\\\n",
       "\\hline\n",
       "\t 0         & -2.198657 & -2.198657 & -2.198657 & -2.198657 & -2.198657 & -1.897627 & -2.198657 & -2.198657 & -1.897627 & ...       & -2.198657 & -2.198657 & -2.198657 & -2.198657 & -2.198657 & -2.198657 & -2.198657 & -2.198657 & -2.198657 & -2.198657\\\\\n",
       "\t 1         & -2.181690 & -2.181690 & -2.181690 & -2.082564 & -2.181690 & -2.165028 & -2.181690 & -2.181690 & -2.031597 & ...       & -2.165028 & -2.181690 & -2.165028 & -2.181690 & -2.181690 & -2.165028 & -2.181690 & -2.181690 & -2.181690 & -2.181690\\\\\n",
       "\t 2         & -2.183490 & -2.224164 & -2.224164 & -2.189562 & -2.105819 & -2.075407 & -2.224164 & -2.118483 & -2.140393 & ...       & -2.224164 & -2.224164 & -2.196379 & -2.224164 & -2.192009 & -2.224164 & -2.224164 & -2.224164 & -2.224164 & -2.057548\\\\\n",
       "\t 3         & -2.177409 & -2.177409 & -2.177409 & -2.177409 & -2.177409 & -2.115485 & -2.177409 & -2.177409 & -2.177409 & ...       & -2.161081 & -2.177409 & -2.177409 & -2.177409 & -2.177409 & -2.177409 & -2.177409 & -2.177409 & -2.177409 & -2.177409\\\\\n",
       "\t 4         & -2.189562 & -2.187783 & -2.194008 & -2.171153 & -2.152303 & -2.056618 & -2.194008 & -2.194008 & -2.145911 & ...       & -2.187356 & -2.194008 & -2.191779 & -2.194008 & -2.194008 & -2.185161 & -2.194008 & -2.194008 & -2.194008 & -2.188037\\\\\n",
       "\t 5         & -2.174489 & -2.174489 & -2.174489 & -2.174489 & -2.174489 & -2.155473 & -2.174489 & -2.174489 & -2.174489 & ...       & -2.174489 & -2.174489 & -2.174489 & -2.174489 & -2.174489 & -2.174489 & -2.174489 & -2.174489 & -2.174489 & -2.174489\\\\\n",
       "\\end{tabular}\n"
      ],
      "text/markdown": [
       "\n",
       "| srch_destination_id | d1 | d2 | d3 | d4 | d5 | d6 | d7 | d8 | d9 | ... | d140 | d141 | d142 | d143 | d144 | d145 | d146 | d147 | d148 | d149 |\n",
       "|---|---|---|---|---|---|---|---|---|---|---|---|---|---|---|---|---|---|---|---|---|\n",
       "| 0         | -2.198657 | -2.198657 | -2.198657 | -2.198657 | -2.198657 | -1.897627 | -2.198657 | -2.198657 | -1.897627 | ...       | -2.198657 | -2.198657 | -2.198657 | -2.198657 | -2.198657 | -2.198657 | -2.198657 | -2.198657 | -2.198657 | -2.198657 |\n",
       "| 1         | -2.181690 | -2.181690 | -2.181690 | -2.082564 | -2.181690 | -2.165028 | -2.181690 | -2.181690 | -2.031597 | ...       | -2.165028 | -2.181690 | -2.165028 | -2.181690 | -2.181690 | -2.165028 | -2.181690 | -2.181690 | -2.181690 | -2.181690 |\n",
       "| 2         | -2.183490 | -2.224164 | -2.224164 | -2.189562 | -2.105819 | -2.075407 | -2.224164 | -2.118483 | -2.140393 | ...       | -2.224164 | -2.224164 | -2.196379 | -2.224164 | -2.192009 | -2.224164 | -2.224164 | -2.224164 | -2.224164 | -2.057548 |\n",
       "| 3         | -2.177409 | -2.177409 | -2.177409 | -2.177409 | -2.177409 | -2.115485 | -2.177409 | -2.177409 | -2.177409 | ...       | -2.161081 | -2.177409 | -2.177409 | -2.177409 | -2.177409 | -2.177409 | -2.177409 | -2.177409 | -2.177409 | -2.177409 |\n",
       "| 4         | -2.189562 | -2.187783 | -2.194008 | -2.171153 | -2.152303 | -2.056618 | -2.194008 | -2.194008 | -2.145911 | ...       | -2.187356 | -2.194008 | -2.191779 | -2.194008 | -2.194008 | -2.185161 | -2.194008 | -2.194008 | -2.194008 | -2.188037 |\n",
       "| 5         | -2.174489 | -2.174489 | -2.174489 | -2.174489 | -2.174489 | -2.155473 | -2.174489 | -2.174489 | -2.174489 | ...       | -2.174489 | -2.174489 | -2.174489 | -2.174489 | -2.174489 | -2.174489 | -2.174489 | -2.174489 | -2.174489 | -2.174489 |\n",
       "\n"
      ],
      "text/plain": [
       "  srch_destination_id d1        d2        d3        d4        d5       \n",
       "1 0                   -2.198657 -2.198657 -2.198657 -2.198657 -2.198657\n",
       "2 1                   -2.181690 -2.181690 -2.181690 -2.082564 -2.181690\n",
       "3 2                   -2.183490 -2.224164 -2.224164 -2.189562 -2.105819\n",
       "4 3                   -2.177409 -2.177409 -2.177409 -2.177409 -2.177409\n",
       "5 4                   -2.189562 -2.187783 -2.194008 -2.171153 -2.152303\n",
       "6 5                   -2.174489 -2.174489 -2.174489 -2.174489 -2.174489\n",
       "  d6        d7        d8        d9        ... d140      d141      d142     \n",
       "1 -1.897627 -2.198657 -2.198657 -1.897627 ... -2.198657 -2.198657 -2.198657\n",
       "2 -2.165028 -2.181690 -2.181690 -2.031597 ... -2.165028 -2.181690 -2.165028\n",
       "3 -2.075407 -2.224164 -2.118483 -2.140393 ... -2.224164 -2.224164 -2.196379\n",
       "4 -2.115485 -2.177409 -2.177409 -2.177409 ... -2.161081 -2.177409 -2.177409\n",
       "5 -2.056618 -2.194008 -2.194008 -2.145911 ... -2.187356 -2.194008 -2.191779\n",
       "6 -2.155473 -2.174489 -2.174489 -2.174489 ... -2.174489 -2.174489 -2.174489\n",
       "  d143      d144      d145      d146      d147      d148      d149     \n",
       "1 -2.198657 -2.198657 -2.198657 -2.198657 -2.198657 -2.198657 -2.198657\n",
       "2 -2.181690 -2.181690 -2.165028 -2.181690 -2.181690 -2.181690 -2.181690\n",
       "3 -2.224164 -2.192009 -2.224164 -2.224164 -2.224164 -2.224164 -2.057548\n",
       "4 -2.177409 -2.177409 -2.177409 -2.177409 -2.177409 -2.177409 -2.177409\n",
       "5 -2.194008 -2.194008 -2.185161 -2.194008 -2.194008 -2.194008 -2.188037\n",
       "6 -2.174489 -2.174489 -2.174489 -2.174489 -2.174489 -2.174489 -2.174489"
      ]
     },
     "metadata": {},
     "output_type": "display_data"
    }
   ],
   "source": [
    "# read destinations file\n",
    "dest <- read.csv(\"destinations.csv\")\n",
    "\n",
    "# determine dimensions\n",
    "dim(dest)\n",
    "head(dest)"
   ]
  },
  {
   "cell_type": "code",
   "execution_count": 3,
   "metadata": {},
   "outputs": [
    {
     "data": {
      "text/html": [
       "<ol class=list-inline>\n",
       "\t<li>2528243</li>\n",
       "\t<li>22</li>\n",
       "</ol>\n"
      ],
      "text/latex": [
       "\\begin{enumerate*}\n",
       "\\item 2528243\n",
       "\\item 22\n",
       "\\end{enumerate*}\n"
      ],
      "text/markdown": [
       "1. 2528243\n",
       "2. 22\n",
       "\n",
       "\n"
      ],
      "text/plain": [
       "[1] 2528243      22"
      ]
     },
     "metadata": {},
     "output_type": "display_data"
    },
    {
     "data": {
      "text/html": [
       "<table>\n",
       "<thead><tr><th scope=col>id</th><th scope=col>date_time</th><th scope=col>site_name</th><th scope=col>posa_continent</th><th scope=col>user_location_country</th><th scope=col>user_location_region</th><th scope=col>user_location_city</th><th scope=col>orig_destination_distance</th><th scope=col>user_id</th><th scope=col>is_mobile</th><th scope=col>...</th><th scope=col>srch_ci</th><th scope=col>srch_co</th><th scope=col>srch_adults_cnt</th><th scope=col>srch_children_cnt</th><th scope=col>srch_rm_cnt</th><th scope=col>srch_destination_id</th><th scope=col>srch_destination_type_id</th><th scope=col>hotel_continent</th><th scope=col>hotel_country</th><th scope=col>hotel_market</th></tr></thead>\n",
       "<tbody>\n",
       "\t<tr><td>0    </td><td>2015 </td><td>2    </td><td>3    </td><td>66   </td><td>174  </td><td>37449</td><td>5539 </td><td> 1   </td><td>1    </td><td>...  </td><td>2016 </td><td>2016 </td><td>2    </td><td>0    </td><td>1    </td><td>12243</td><td>6    </td><td>6    </td><td>204  </td><td>  27 </td></tr>\n",
       "\t<tr><td>1    </td><td>2015 </td><td>2    </td><td>3    </td><td>66   </td><td>174  </td><td>37449</td><td>5873 </td><td> 1   </td><td>1    </td><td>...  </td><td>2016 </td><td>2016 </td><td>2    </td><td>0    </td><td>1    </td><td>14474</td><td>7    </td><td>6    </td><td>204  </td><td>1540 </td></tr>\n",
       "\t<tr><td>2    </td><td>2015 </td><td>2    </td><td>3    </td><td>66   </td><td>142  </td><td>17440</td><td>3975 </td><td>20   </td><td>0    </td><td>...  </td><td>2015 </td><td>2015 </td><td>4    </td><td>0    </td><td>1    </td><td>11353</td><td>1    </td><td>2    </td><td> 50  </td><td> 699 </td></tr>\n",
       "\t<tr><td>3    </td><td>2015 </td><td>2    </td><td>3    </td><td>66   </td><td>258  </td><td>34156</td><td>1508 </td><td>28   </td><td>0    </td><td>...  </td><td>2015 </td><td>2015 </td><td>2    </td><td>0    </td><td>1    </td><td> 8250</td><td>1    </td><td>2    </td><td> 50  </td><td> 628 </td></tr>\n",
       "\t<tr><td>4    </td><td>2015 </td><td>2    </td><td>3    </td><td>66   </td><td>467  </td><td>36345</td><td>  66 </td><td>50   </td><td>0    </td><td>...  </td><td>2015 </td><td>2015 </td><td>2    </td><td>0    </td><td>1    </td><td>11812</td><td>1    </td><td>2    </td><td> 50  </td><td> 538 </td></tr>\n",
       "\t<tr><td>5    </td><td>2015 </td><td>2    </td><td>3    </td><td>66   </td><td>311  </td><td>48189</td><td> 359 </td><td>51   </td><td>0    </td><td>...  </td><td>2015 </td><td>2015 </td><td>4    </td><td>0    </td><td>2    </td><td>11827</td><td>1    </td><td>2    </td><td> 50  </td><td> 447 </td></tr>\n",
       "</tbody>\n",
       "</table>\n"
      ],
      "text/latex": [
       "\\begin{tabular}{llllllllllllllllllllll}\n",
       " id & date\\_time & site\\_name & posa\\_continent & user\\_location\\_country & user\\_location\\_region & user\\_location\\_city & orig\\_destination\\_distance & user\\_id & is\\_mobile & ... & srch\\_ci & srch\\_co & srch\\_adults\\_cnt & srch\\_children\\_cnt & srch\\_rm\\_cnt & srch\\_destination\\_id & srch\\_destination\\_type\\_id & hotel\\_continent & hotel\\_country & hotel\\_market\\\\\n",
       "\\hline\n",
       "\t 0     & 2015  & 2     & 3     & 66    & 174   & 37449 & 5539  &  1    & 1     & ...   & 2016  & 2016  & 2     & 0     & 1     & 12243 & 6     & 6     & 204   &   27 \\\\\n",
       "\t 1     & 2015  & 2     & 3     & 66    & 174   & 37449 & 5873  &  1    & 1     & ...   & 2016  & 2016  & 2     & 0     & 1     & 14474 & 7     & 6     & 204   & 1540 \\\\\n",
       "\t 2     & 2015  & 2     & 3     & 66    & 142   & 17440 & 3975  & 20    & 0     & ...   & 2015  & 2015  & 4     & 0     & 1     & 11353 & 1     & 2     &  50   &  699 \\\\\n",
       "\t 3     & 2015  & 2     & 3     & 66    & 258   & 34156 & 1508  & 28    & 0     & ...   & 2015  & 2015  & 2     & 0     & 1     &  8250 & 1     & 2     &  50   &  628 \\\\\n",
       "\t 4     & 2015  & 2     & 3     & 66    & 467   & 36345 &   66  & 50    & 0     & ...   & 2015  & 2015  & 2     & 0     & 1     & 11812 & 1     & 2     &  50   &  538 \\\\\n",
       "\t 5     & 2015  & 2     & 3     & 66    & 311   & 48189 &  359  & 51    & 0     & ...   & 2015  & 2015  & 4     & 0     & 2     & 11827 & 1     & 2     &  50   &  447 \\\\\n",
       "\\end{tabular}\n"
      ],
      "text/markdown": [
       "\n",
       "| id | date_time | site_name | posa_continent | user_location_country | user_location_region | user_location_city | orig_destination_distance | user_id | is_mobile | ... | srch_ci | srch_co | srch_adults_cnt | srch_children_cnt | srch_rm_cnt | srch_destination_id | srch_destination_type_id | hotel_continent | hotel_country | hotel_market |\n",
       "|---|---|---|---|---|---|---|---|---|---|---|---|---|---|---|---|---|---|---|---|---|\n",
       "| 0     | 2015  | 2     | 3     | 66    | 174   | 37449 | 5539  |  1    | 1     | ...   | 2016  | 2016  | 2     | 0     | 1     | 12243 | 6     | 6     | 204   |   27  |\n",
       "| 1     | 2015  | 2     | 3     | 66    | 174   | 37449 | 5873  |  1    | 1     | ...   | 2016  | 2016  | 2     | 0     | 1     | 14474 | 7     | 6     | 204   | 1540  |\n",
       "| 2     | 2015  | 2     | 3     | 66    | 142   | 17440 | 3975  | 20    | 0     | ...   | 2015  | 2015  | 4     | 0     | 1     | 11353 | 1     | 2     |  50   |  699  |\n",
       "| 3     | 2015  | 2     | 3     | 66    | 258   | 34156 | 1508  | 28    | 0     | ...   | 2015  | 2015  | 2     | 0     | 1     |  8250 | 1     | 2     |  50   |  628  |\n",
       "| 4     | 2015  | 2     | 3     | 66    | 467   | 36345 |   66  | 50    | 0     | ...   | 2015  | 2015  | 2     | 0     | 1     | 11812 | 1     | 2     |  50   |  538  |\n",
       "| 5     | 2015  | 2     | 3     | 66    | 311   | 48189 |  359  | 51    | 0     | ...   | 2015  | 2015  | 4     | 0     | 2     | 11827 | 1     | 2     |  50   |  447  |\n",
       "\n"
      ],
      "text/plain": [
       "     id date_time site_name posa_continent user_location_country\n",
       "[1,] 0  2015      2         3              66                   \n",
       "[2,] 1  2015      2         3              66                   \n",
       "[3,] 2  2015      2         3              66                   \n",
       "[4,] 3  2015      2         3              66                   \n",
       "[5,] 4  2015      2         3              66                   \n",
       "[6,] 5  2015      2         3              66                   \n",
       "     user_location_region user_location_city orig_destination_distance user_id\n",
       "[1,] 174                  37449              5539                       1     \n",
       "[2,] 174                  37449              5873                       1     \n",
       "[3,] 142                  17440              3975                      20     \n",
       "[4,] 258                  34156              1508                      28     \n",
       "[5,] 467                  36345                66                      50     \n",
       "[6,] 311                  48189               359                      51     \n",
       "     is_mobile ... srch_ci srch_co srch_adults_cnt srch_children_cnt\n",
       "[1,] 1         ... 2016    2016    2               0                \n",
       "[2,] 1         ... 2016    2016    2               0                \n",
       "[3,] 0         ... 2015    2015    4               0                \n",
       "[4,] 0         ... 2015    2015    2               0                \n",
       "[5,] 0         ... 2015    2015    2               0                \n",
       "[6,] 0         ... 2015    2015    4               0                \n",
       "     srch_rm_cnt srch_destination_id srch_destination_type_id hotel_continent\n",
       "[1,] 1           12243               6                        6              \n",
       "[2,] 1           14474               7                        6              \n",
       "[3,] 1           11353               1                        2              \n",
       "[4,] 1            8250               1                        2              \n",
       "[5,] 1           11812               1                        2              \n",
       "[6,] 2           11827               1                        2              \n",
       "     hotel_country hotel_market\n",
       "[1,] 204             27        \n",
       "[2,] 204           1540        \n",
       "[3,]  50            699        \n",
       "[4,]  50            628        \n",
       "[5,]  50            538        \n",
       "[6,]  50            447        "
      ]
     },
     "metadata": {},
     "output_type": "display_data"
    }
   ],
   "source": [
    "# Load the bigmemory package\n",
    "library(bigmemory)\n",
    "\n",
    "# Create the big.matrix object: x\n",
    "x <- read.big.matrix(\"test.csv\", header = TRUE, \n",
    "                     type = \"integer\", \n",
    "                     backingfile = \"test.bin\", \n",
    "                     descriptorfile = \"test.desc\")\n",
    "\n",
    "# create test set from backing file\n",
    "test <- attach.big.matrix('test.desc')\n",
    "   \n",
    "# Find the dimensions of x\n",
    "dim(test)\n",
    "head(test)"
   ]
  },
  {
   "cell_type": "code",
   "execution_count": 4,
   "metadata": {},
   "outputs": [
    {
     "name": "stderr",
     "output_type": "stream",
     "text": [
      "\n",
      "Attaching package: 'dplyr'\n",
      "\n",
      "The following objects are masked from 'package:stats':\n",
      "\n",
      "    filter, lag\n",
      "\n",
      "The following objects are masked from 'package:base':\n",
      "\n",
      "    intersect, setdiff, setequal, union\n",
      "\n"
     ]
    },
    {
     "data": {
      "text/html": [
       "<table>\n",
       "<thead><tr><th scope=col>id</th><th scope=col>date_time</th><th scope=col>site_name</th><th scope=col>posa_continent</th><th scope=col>user_location_country</th><th scope=col>user_location_region</th><th scope=col>user_location_city</th><th scope=col>orig_destination_distance</th><th scope=col>user_id</th><th scope=col>is_mobile</th><th scope=col>...</th><th scope=col>srch_ci</th><th scope=col>srch_co</th><th scope=col>srch_adults_cnt</th><th scope=col>srch_children_cnt</th><th scope=col>srch_rm_cnt</th><th scope=col>srch_destination_id</th><th scope=col>srch_destination_type_id</th><th scope=col>hotel_continent</th><th scope=col>hotel_country</th><th scope=col>hotel_market</th></tr></thead>\n",
       "<tbody>\n",
       "\t<tr><td> 546490</td><td>2015   </td><td> 2     </td><td>3      </td><td> 66    </td><td>184    </td><td>11878  </td><td>4416   </td><td> 616113</td><td>0      </td><td>...    </td><td>2015   </td><td>2015   </td><td>2      </td><td>0      </td><td>1      </td><td>12055  </td><td>1      </td><td>6      </td><td> 31    </td><td>304    </td></tr>\n",
       "\t<tr><td>  60491</td><td>2015   </td><td> 2     </td><td>3      </td><td>103    </td><td> 45    </td><td>38784  </td><td>  NA   </td><td> 203255</td><td>0      </td><td>...    </td><td>2015   </td><td>2015   </td><td>2      </td><td>0      </td><td>1      </td><td>12217  </td><td>6      </td><td>2      </td><td> 50    </td><td>365    </td></tr>\n",
       "\t<tr><td>1797182</td><td>2015   </td><td>23     </td><td>1      </td><td>  1    </td><td>366    </td><td>25623  </td><td> 495   </td><td>1166438</td><td>0      </td><td>...    </td><td>2015   </td><td>2015   </td><td>2      </td><td>1      </td><td>1      </td><td> 8739  </td><td>1      </td><td>6      </td><td>144    </td><td>  4    </td></tr>\n",
       "\t<tr><td>1103902</td><td>2015   </td><td> 2     </td><td>3      </td><td> 48    </td><td>271    </td><td>25843  </td><td>  NA   </td><td>  71192</td><td>1      </td><td>...    </td><td>2015   </td><td>2015   </td><td>2      </td><td>0      </td><td>1      </td><td> 8269  </td><td>1      </td><td>6      </td><td> 11    </td><td> 26    </td></tr>\n",
       "\t<tr><td>1423233</td><td>2015   </td><td>37     </td><td>1      </td><td> 69    </td><td>664    </td><td>22336  </td><td>  NA   </td><td>1130241</td><td>0      </td><td>...    </td><td>2015   </td><td>2015   </td><td>2      </td><td>0      </td><td>1      </td><td> 8234  </td><td>1      </td><td>6      </td><td>  7    </td><td>  8    </td></tr>\n",
       "\t<tr><td>1638380</td><td>2015   </td><td>50     </td><td>3      </td><td> 66    </td><td>142    </td><td>50837  </td><td>  NA   </td><td> 642581</td><td>0      </td><td>...    </td><td>2015   </td><td>2015   </td><td>2      </td><td>0      </td><td>1      </td><td>26043  </td><td>6      </td><td>2      </td><td> 50    </td><td>681    </td></tr>\n",
       "</tbody>\n",
       "</table>\n"
      ],
      "text/latex": [
       "\\begin{tabular}{r|llllllllllllllllllllll}\n",
       " id & date\\_time & site\\_name & posa\\_continent & user\\_location\\_country & user\\_location\\_region & user\\_location\\_city & orig\\_destination\\_distance & user\\_id & is\\_mobile & ... & srch\\_ci & srch\\_co & srch\\_adults\\_cnt & srch\\_children\\_cnt & srch\\_rm\\_cnt & srch\\_destination\\_id & srch\\_destination\\_type\\_id & hotel\\_continent & hotel\\_country & hotel\\_market\\\\\n",
       "\\hline\n",
       "\t  546490 & 2015    &  2      & 3       &  66     & 184     & 11878   & 4416    &  616113 & 0       & ...     & 2015    & 2015    & 2       & 0       & 1       & 12055   & 1       & 6       &  31     & 304    \\\\\n",
       "\t   60491 & 2015    &  2      & 3       & 103     &  45     & 38784   &   NA    &  203255 & 0       & ...     & 2015    & 2015    & 2       & 0       & 1       & 12217   & 6       & 2       &  50     & 365    \\\\\n",
       "\t 1797182 & 2015    & 23      & 1       &   1     & 366     & 25623   &  495    & 1166438 & 0       & ...     & 2015    & 2015    & 2       & 1       & 1       &  8739   & 1       & 6       & 144     &   4    \\\\\n",
       "\t 1103902 & 2015    &  2      & 3       &  48     & 271     & 25843   &   NA    &   71192 & 1       & ...     & 2015    & 2015    & 2       & 0       & 1       &  8269   & 1       & 6       &  11     &  26    \\\\\n",
       "\t 1423233 & 2015    & 37      & 1       &  69     & 664     & 22336   &   NA    & 1130241 & 0       & ...     & 2015    & 2015    & 2       & 0       & 1       &  8234   & 1       & 6       &   7     &   8    \\\\\n",
       "\t 1638380 & 2015    & 50      & 3       &  66     & 142     & 50837   &   NA    &  642581 & 0       & ...     & 2015    & 2015    & 2       & 0       & 1       & 26043   & 6       & 2       &  50     & 681    \\\\\n",
       "\\end{tabular}\n"
      ],
      "text/markdown": [
       "\n",
       "| id | date_time | site_name | posa_continent | user_location_country | user_location_region | user_location_city | orig_destination_distance | user_id | is_mobile | ... | srch_ci | srch_co | srch_adults_cnt | srch_children_cnt | srch_rm_cnt | srch_destination_id | srch_destination_type_id | hotel_continent | hotel_country | hotel_market |\n",
       "|---|---|---|---|---|---|---|---|---|---|---|---|---|---|---|---|---|---|---|---|---|\n",
       "|  546490 | 2015    |  2      | 3       |  66     | 184     | 11878   | 4416    |  616113 | 0       | ...     | 2015    | 2015    | 2       | 0       | 1       | 12055   | 1       | 6       |  31     | 304     |\n",
       "|   60491 | 2015    |  2      | 3       | 103     |  45     | 38784   |   NA    |  203255 | 0       | ...     | 2015    | 2015    | 2       | 0       | 1       | 12217   | 6       | 2       |  50     | 365     |\n",
       "| 1797182 | 2015    | 23      | 1       |   1     | 366     | 25623   |  495    | 1166438 | 0       | ...     | 2015    | 2015    | 2       | 1       | 1       |  8739   | 1       | 6       | 144     |   4     |\n",
       "| 1103902 | 2015    |  2      | 3       |  48     | 271     | 25843   |   NA    |   71192 | 1       | ...     | 2015    | 2015    | 2       | 0       | 1       |  8269   | 1       | 6       |  11     |  26     |\n",
       "| 1423233 | 2015    | 37      | 1       |  69     | 664     | 22336   |   NA    | 1130241 | 0       | ...     | 2015    | 2015    | 2       | 0       | 1       |  8234   | 1       | 6       |   7     |   8     |\n",
       "| 1638380 | 2015    | 50      | 3       |  66     | 142     | 50837   |   NA    |  642581 | 0       | ...     | 2015    | 2015    | 2       | 0       | 1       | 26043   | 6       | 2       |  50     | 681     |\n",
       "\n"
      ],
      "text/plain": [
       "  id      date_time site_name posa_continent user_location_country\n",
       "1  546490 2015       2        3               66                  \n",
       "2   60491 2015       2        3              103                  \n",
       "3 1797182 2015      23        1                1                  \n",
       "4 1103902 2015       2        3               48                  \n",
       "5 1423233 2015      37        1               69                  \n",
       "6 1638380 2015      50        3               66                  \n",
       "  user_location_region user_location_city orig_destination_distance user_id\n",
       "1 184                  11878              4416                       616113\n",
       "2  45                  38784                NA                       203255\n",
       "3 366                  25623               495                      1166438\n",
       "4 271                  25843                NA                        71192\n",
       "5 664                  22336                NA                      1130241\n",
       "6 142                  50837                NA                       642581\n",
       "  is_mobile ... srch_ci srch_co srch_adults_cnt srch_children_cnt srch_rm_cnt\n",
       "1 0         ... 2015    2015    2               0                 1          \n",
       "2 0         ... 2015    2015    2               0                 1          \n",
       "3 0         ... 2015    2015    2               1                 1          \n",
       "4 1         ... 2015    2015    2               0                 1          \n",
       "5 0         ... 2015    2015    2               0                 1          \n",
       "6 0         ... 2015    2015    2               0                 1          \n",
       "  srch_destination_id srch_destination_type_id hotel_continent hotel_country\n",
       "1 12055               1                        6                31          \n",
       "2 12217               6                        2                50          \n",
       "3  8739               1                        6               144          \n",
       "4  8269               1                        6                11          \n",
       "5  8234               1                        6                 7          \n",
       "6 26043               6                        2                50          \n",
       "  hotel_market\n",
       "1 304         \n",
       "2 365         \n",
       "3   4         \n",
       "4  26         \n",
       "5   8         \n",
       "6 681         "
      ]
     },
     "metadata": {},
     "output_type": "display_data"
    },
    {
     "data": {
      "text/html": [
       "<table>\n",
       "<thead><tr><th scope=col>n</th></tr></thead>\n",
       "<tbody>\n",
       "\t<tr><td>100000</td></tr>\n",
       "</tbody>\n",
       "</table>\n"
      ],
      "text/latex": [
       "\\begin{tabular}{r|l}\n",
       " n\\\\\n",
       "\\hline\n",
       "\t 100000\\\\\n",
       "\\end{tabular}\n"
      ],
      "text/markdown": [
       "\n",
       "| n |\n",
       "|---|\n",
       "| 100000 |\n",
       "\n"
      ],
      "text/plain": [
       "  n     \n",
       "1 100000"
      ]
     },
     "metadata": {},
     "output_type": "display_data"
    }
   ],
   "source": [
    "# load dplyr library to take sample\n",
    "library(dplyr)\n",
    "\n",
    "# use smaller sample of 10,000 until ready to conduct final test\n",
    "test_sample <- sample_n(as.data.frame(as.matrix(test)), 100000)\n",
    "\n",
    "head(test_sample)\n",
    "count(test_sample)"
   ]
  },
  {
   "cell_type": "code",
   "execution_count": 5,
   "metadata": {},
   "outputs": [],
   "source": [
    "# write smaller sample file to disk - to be reopened in python\n",
    "write.csv(test_sample, \"dsc630_7.3_test_sample.csv\")\n"
   ]
  },
  {
   "cell_type": "code",
   "execution_count": 6,
   "metadata": {},
   "outputs": [],
   "source": [
    "# Load the bigmemory package\n",
    "library(bigmemory)\n",
    "\n",
    "# Create the big.matrix object: x\n",
    "y <- read.big.matrix(\"train2.csv\", header = TRUE,\n",
    "                      type = \"integer\",\n",
    "                      backingfile = \"train.bin\", \n",
    "                      descriptorfile = \"train.desc\")\n",
    "\n",
    "# create train set from backing file\n",
    "train <- attach.big.matrix('train.desc')\n"
   ]
  },
  {
   "cell_type": "code",
   "execution_count": 7,
   "metadata": {},
   "outputs": [
    {
     "data": {
      "text/html": [
       "<table>\n",
       "<thead><tr><th scope=col>date_time</th><th scope=col>site_name</th><th scope=col>posa_continent</th><th scope=col>user_location_country</th><th scope=col>user_location_region</th><th scope=col>user_location_city</th><th scope=col>orig_destination_distance</th><th scope=col>user_id</th><th scope=col>is_mobile</th><th scope=col>is_package</th><th scope=col>...</th><th scope=col>srch_children_cnt</th><th scope=col>srch_rm_cnt</th><th scope=col>srch_destination_id</th><th scope=col>srch_destination_type_id</th><th scope=col>is_booking</th><th scope=col>cnt</th><th scope=col>hotel_continent</th><th scope=col>hotel_country</th><th scope=col>hotel_market</th><th scope=col>hotel_cluster</th></tr></thead>\n",
       "<tbody>\n",
       "\t<tr><td>2014   </td><td>24     </td><td>2      </td><td>  3    </td><td> 70    </td><td>32441  </td><td>  NA   </td><td>   4821</td><td>0      </td><td>0      </td><td>...    </td><td>0      </td><td>1      </td><td> 8220  </td><td>1      </td><td>0      </td><td>1      </td><td>3      </td><td>182    </td><td>  46   </td><td>29     </td></tr>\n",
       "\t<tr><td>2014   </td><td>11     </td><td>3      </td><td>205    </td><td>343    </td><td>12170  </td><td> 785   </td><td> 920721</td><td>0      </td><td>0      </td><td>...    </td><td>2      </td><td>2      </td><td>26022  </td><td>6      </td><td>0      </td><td>1      </td><td>2      </td><td>198    </td><td> 397   </td><td>55     </td></tr>\n",
       "\t<tr><td>2014   </td><td> 2     </td><td>3      </td><td>119    </td><td>  0    </td><td>27731  </td><td>  NA   </td><td>  66400</td><td>0      </td><td>0      </td><td>...    </td><td>0      </td><td>1      </td><td> 8250  </td><td>1      </td><td>1      </td><td>1      </td><td>2      </td><td> 50    </td><td> 628   </td><td>24     </td></tr>\n",
       "\t<tr><td>2014   </td><td> 2     </td><td>3      </td><td>103    </td><td> 45    </td><td>38784  </td><td>  NA   </td><td> 132119</td><td>0      </td><td>0      </td><td>...    </td><td>0      </td><td>1      </td><td> 8222  </td><td>1      </td><td>0      </td><td>2      </td><td>4      </td><td>119    </td><td>2060   </td><td>60     </td></tr>\n",
       "\t<tr><td>2014   </td><td> 2     </td><td>3      </td><td> 66    </td><td>258    </td><td>38888  </td><td>  16   </td><td>1136612</td><td>1      </td><td>0      </td><td>...    </td><td>0      </td><td>1      </td><td> 8283  </td><td>1      </td><td>0      </td><td>1      </td><td>2      </td><td> 50    </td><td> 414   </td><td>99     </td></tr>\n",
       "\t<tr><td>2014   </td><td> 2     </td><td>3      </td><td> 66    </td><td>174    </td><td>54799  </td><td>2356   </td><td> 319701</td><td>0      </td><td>0      </td><td>...    </td><td>0      </td><td>2      </td><td>12669  </td><td>5      </td><td>0      </td><td>1      </td><td>2      </td><td> 50    </td><td> 701   </td><td>17     </td></tr>\n",
       "</tbody>\n",
       "</table>\n"
      ],
      "text/latex": [
       "\\begin{tabular}{r|llllllllllllllllllllllll}\n",
       " date\\_time & site\\_name & posa\\_continent & user\\_location\\_country & user\\_location\\_region & user\\_location\\_city & orig\\_destination\\_distance & user\\_id & is\\_mobile & is\\_package & ... & srch\\_children\\_cnt & srch\\_rm\\_cnt & srch\\_destination\\_id & srch\\_destination\\_type\\_id & is\\_booking & cnt & hotel\\_continent & hotel\\_country & hotel\\_market & hotel\\_cluster\\\\\n",
       "\\hline\n",
       "\t 2014    & 24      & 2       &   3     &  70     & 32441   &   NA    &    4821 & 0       & 0       & ...     & 0       & 1       &  8220   & 1       & 0       & 1       & 3       & 182     &   46    & 29     \\\\\n",
       "\t 2014    & 11      & 3       & 205     & 343     & 12170   &  785    &  920721 & 0       & 0       & ...     & 2       & 2       & 26022   & 6       & 0       & 1       & 2       & 198     &  397    & 55     \\\\\n",
       "\t 2014    &  2      & 3       & 119     &   0     & 27731   &   NA    &   66400 & 0       & 0       & ...     & 0       & 1       &  8250   & 1       & 1       & 1       & 2       &  50     &  628    & 24     \\\\\n",
       "\t 2014    &  2      & 3       & 103     &  45     & 38784   &   NA    &  132119 & 0       & 0       & ...     & 0       & 1       &  8222   & 1       & 0       & 2       & 4       & 119     & 2060    & 60     \\\\\n",
       "\t 2014    &  2      & 3       &  66     & 258     & 38888   &   16    & 1136612 & 1       & 0       & ...     & 0       & 1       &  8283   & 1       & 0       & 1       & 2       &  50     &  414    & 99     \\\\\n",
       "\t 2014    &  2      & 3       &  66     & 174     & 54799   & 2356    &  319701 & 0       & 0       & ...     & 0       & 2       & 12669   & 5       & 0       & 1       & 2       &  50     &  701    & 17     \\\\\n",
       "\\end{tabular}\n"
      ],
      "text/markdown": [
       "\n",
       "| date_time | site_name | posa_continent | user_location_country | user_location_region | user_location_city | orig_destination_distance | user_id | is_mobile | is_package | ... | srch_children_cnt | srch_rm_cnt | srch_destination_id | srch_destination_type_id | is_booking | cnt | hotel_continent | hotel_country | hotel_market | hotel_cluster |\n",
       "|---|---|---|---|---|---|---|---|---|---|---|---|---|---|---|---|---|---|---|---|---|\n",
       "| 2014    | 24      | 2       |   3     |  70     | 32441   |   NA    |    4821 | 0       | 0       | ...     | 0       | 1       |  8220   | 1       | 0       | 1       | 3       | 182     |   46    | 29      |\n",
       "| 2014    | 11      | 3       | 205     | 343     | 12170   |  785    |  920721 | 0       | 0       | ...     | 2       | 2       | 26022   | 6       | 0       | 1       | 2       | 198     |  397    | 55      |\n",
       "| 2014    |  2      | 3       | 119     |   0     | 27731   |   NA    |   66400 | 0       | 0       | ...     | 0       | 1       |  8250   | 1       | 1       | 1       | 2       |  50     |  628    | 24      |\n",
       "| 2014    |  2      | 3       | 103     |  45     | 38784   |   NA    |  132119 | 0       | 0       | ...     | 0       | 1       |  8222   | 1       | 0       | 2       | 4       | 119     | 2060    | 60      |\n",
       "| 2014    |  2      | 3       |  66     | 258     | 38888   |   16    | 1136612 | 1       | 0       | ...     | 0       | 1       |  8283   | 1       | 0       | 1       | 2       |  50     |  414    | 99      |\n",
       "| 2014    |  2      | 3       |  66     | 174     | 54799   | 2356    |  319701 | 0       | 0       | ...     | 0       | 2       | 12669   | 5       | 0       | 1       | 2       |  50     |  701    | 17      |\n",
       "\n"
      ],
      "text/plain": [
       "  date_time site_name posa_continent user_location_country user_location_region\n",
       "1 2014      24        2                3                    70                 \n",
       "2 2014      11        3              205                   343                 \n",
       "3 2014       2        3              119                     0                 \n",
       "4 2014       2        3              103                    45                 \n",
       "5 2014       2        3               66                   258                 \n",
       "6 2014       2        3               66                   174                 \n",
       "  user_location_city orig_destination_distance user_id is_mobile is_package ...\n",
       "1 32441                NA                         4821 0         0          ...\n",
       "2 12170               785                       920721 0         0          ...\n",
       "3 27731                NA                        66400 0         0          ...\n",
       "4 38784                NA                       132119 0         0          ...\n",
       "5 38888                16                      1136612 1         0          ...\n",
       "6 54799              2356                       319701 0         0          ...\n",
       "  srch_children_cnt srch_rm_cnt srch_destination_id srch_destination_type_id\n",
       "1 0                 1            8220               1                       \n",
       "2 2                 2           26022               6                       \n",
       "3 0                 1            8250               1                       \n",
       "4 0                 1            8222               1                       \n",
       "5 0                 1            8283               1                       \n",
       "6 0                 2           12669               5                       \n",
       "  is_booking cnt hotel_continent hotel_country hotel_market hotel_cluster\n",
       "1 0          1   3               182             46         29           \n",
       "2 0          1   2               198            397         55           \n",
       "3 1          1   2                50            628         24           \n",
       "4 0          2   4               119           2060         60           \n",
       "5 0          1   2                50            414         99           \n",
       "6 0          1   2                50            701         17           "
      ]
     },
     "metadata": {},
     "output_type": "display_data"
    },
    {
     "data": {
      "text/html": [
       "<table>\n",
       "<thead><tr><th scope=col>n</th></tr></thead>\n",
       "<tbody>\n",
       "\t<tr><td>100000</td></tr>\n",
       "</tbody>\n",
       "</table>\n"
      ],
      "text/latex": [
       "\\begin{tabular}{r|l}\n",
       " n\\\\\n",
       "\\hline\n",
       "\t 100000\\\\\n",
       "\\end{tabular}\n"
      ],
      "text/markdown": [
       "\n",
       "| n |\n",
       "|---|\n",
       "| 100000 |\n",
       "\n"
      ],
      "text/plain": [
       "  n     \n",
       "1 100000"
      ]
     },
     "metadata": {},
     "output_type": "display_data"
    }
   ],
   "source": [
    "# load dplyr library to take sample\n",
    "library(dplyr)\n",
    "\n",
    "# use train set of 100,000 initially as bookings with 0 will be eliminated to match test set\n",
    "train_sample <- sample_n(as.data.frame(as.matrix(train)), 100000)\n",
    "\n",
    "head(train_sample)\n",
    "count(train_sample)"
   ]
  },
  {
   "cell_type": "code",
   "execution_count": 8,
   "metadata": {},
   "outputs": [],
   "source": [
    "# write smaller sample file to disk - to be reopened in python\n",
    "write.csv(train_sample, \"dsc630_7.3_train_sample.csv\")\n"
   ]
  },
  {
   "cell_type": "code",
   "execution_count": 9,
   "metadata": {},
   "outputs": [
    {
     "data": {
      "text/html": [
       "'big.matrix'"
      ],
      "text/latex": [
       "'big.matrix'"
      ],
      "text/markdown": [
       "'big.matrix'"
      ],
      "text/plain": [
       "[1] \"big.matrix\"\n",
       "attr(,\"package\")\n",
       "[1] \"bigmemory\""
      ]
     },
     "metadata": {},
     "output_type": "display_data"
    }
   ],
   "source": [
    "class(train)"
   ]
  },
  {
   "cell_type": "code",
   "execution_count": 10,
   "metadata": {},
   "outputs": [
    {
     "data": {
      "text/html": [
       "<ol class=list-inline>\n",
       "\t<li>37670293</li>\n",
       "\t<li>24</li>\n",
       "</ol>\n"
      ],
      "text/latex": [
       "\\begin{enumerate*}\n",
       "\\item 37670293\n",
       "\\item 24\n",
       "\\end{enumerate*}\n"
      ],
      "text/markdown": [
       "1. 37670293\n",
       "2. 24\n",
       "\n",
       "\n"
      ],
      "text/plain": [
       "[1] 37670293       24"
      ]
     },
     "metadata": {},
     "output_type": "display_data"
    },
    {
     "data": {
      "text/html": [
       "<table>\n",
       "<thead><tr><th scope=col>date_time</th><th scope=col>site_name</th><th scope=col>posa_continent</th><th scope=col>user_location_country</th><th scope=col>user_location_region</th><th scope=col>user_location_city</th><th scope=col>orig_destination_distance</th><th scope=col>user_id</th><th scope=col>is_mobile</th><th scope=col>is_package</th><th scope=col>...</th><th scope=col>srch_children_cnt</th><th scope=col>srch_rm_cnt</th><th scope=col>srch_destination_id</th><th scope=col>srch_destination_type_id</th><th scope=col>is_booking</th><th scope=col>cnt</th><th scope=col>hotel_continent</th><th scope=col>hotel_country</th><th scope=col>hotel_market</th><th scope=col>hotel_cluster</th></tr></thead>\n",
       "<tbody>\n",
       "\t<tr><td>2014 </td><td>2    </td><td>3    </td><td>66   </td><td>348  </td><td>48862</td><td>2234 </td><td>12   </td><td>0    </td><td>1    </td><td>...  </td><td>0    </td><td>1    </td><td> 8250</td><td>1    </td><td>0    </td><td>3    </td><td>2    </td><td>50   </td><td> 628 </td><td> 1   </td></tr>\n",
       "\t<tr><td>2014 </td><td>2    </td><td>3    </td><td>66   </td><td>348  </td><td>48862</td><td>2234 </td><td>12   </td><td>0    </td><td>1    </td><td>...  </td><td>0    </td><td>1    </td><td> 8250</td><td>1    </td><td>1    </td><td>1    </td><td>2    </td><td>50   </td><td> 628 </td><td> 1   </td></tr>\n",
       "\t<tr><td>2014 </td><td>2    </td><td>3    </td><td>66   </td><td>348  </td><td>48862</td><td>2234 </td><td>12   </td><td>0    </td><td>0    </td><td>...  </td><td>0    </td><td>1    </td><td> 8250</td><td>1    </td><td>0    </td><td>1    </td><td>2    </td><td>50   </td><td> 628 </td><td> 1   </td></tr>\n",
       "\t<tr><td>2014 </td><td>2    </td><td>3    </td><td>66   </td><td>442  </td><td>35390</td><td> 913 </td><td>93   </td><td>0    </td><td>0    </td><td>...  </td><td>0    </td><td>1    </td><td>14984</td><td>1    </td><td>0    </td><td>1    </td><td>2    </td><td>50   </td><td>1457 </td><td>80   </td></tr>\n",
       "\t<tr><td>2014 </td><td>2    </td><td>3    </td><td>66   </td><td>442  </td><td>35390</td><td> 913 </td><td>93   </td><td>0    </td><td>0    </td><td>...  </td><td>0    </td><td>1    </td><td>14984</td><td>1    </td><td>0    </td><td>1    </td><td>2    </td><td>50   </td><td>1457 </td><td>21   </td></tr>\n",
       "\t<tr><td>2014 </td><td>2    </td><td>3    </td><td>66   </td><td>442  </td><td>35390</td><td> 911 </td><td>93   </td><td>0    </td><td>0    </td><td>...  </td><td>0    </td><td>1    </td><td>14984</td><td>1    </td><td>0    </td><td>1    </td><td>2    </td><td>50   </td><td>1457 </td><td>92   </td></tr>\n",
       "</tbody>\n",
       "</table>\n"
      ],
      "text/latex": [
       "\\begin{tabular}{llllllllllllllllllllllll}\n",
       " date\\_time & site\\_name & posa\\_continent & user\\_location\\_country & user\\_location\\_region & user\\_location\\_city & orig\\_destination\\_distance & user\\_id & is\\_mobile & is\\_package & ... & srch\\_children\\_cnt & srch\\_rm\\_cnt & srch\\_destination\\_id & srch\\_destination\\_type\\_id & is\\_booking & cnt & hotel\\_continent & hotel\\_country & hotel\\_market & hotel\\_cluster\\\\\n",
       "\\hline\n",
       "\t 2014  & 2     & 3     & 66    & 348   & 48862 & 2234  & 12    & 0     & 1     & ...   & 0     & 1     &  8250 & 1     & 0     & 3     & 2     & 50    &  628  &  1   \\\\\n",
       "\t 2014  & 2     & 3     & 66    & 348   & 48862 & 2234  & 12    & 0     & 1     & ...   & 0     & 1     &  8250 & 1     & 1     & 1     & 2     & 50    &  628  &  1   \\\\\n",
       "\t 2014  & 2     & 3     & 66    & 348   & 48862 & 2234  & 12    & 0     & 0     & ...   & 0     & 1     &  8250 & 1     & 0     & 1     & 2     & 50    &  628  &  1   \\\\\n",
       "\t 2014  & 2     & 3     & 66    & 442   & 35390 &  913  & 93    & 0     & 0     & ...   & 0     & 1     & 14984 & 1     & 0     & 1     & 2     & 50    & 1457  & 80   \\\\\n",
       "\t 2014  & 2     & 3     & 66    & 442   & 35390 &  913  & 93    & 0     & 0     & ...   & 0     & 1     & 14984 & 1     & 0     & 1     & 2     & 50    & 1457  & 21   \\\\\n",
       "\t 2014  & 2     & 3     & 66    & 442   & 35390 &  911  & 93    & 0     & 0     & ...   & 0     & 1     & 14984 & 1     & 0     & 1     & 2     & 50    & 1457  & 92   \\\\\n",
       "\\end{tabular}\n"
      ],
      "text/markdown": [
       "\n",
       "| date_time | site_name | posa_continent | user_location_country | user_location_region | user_location_city | orig_destination_distance | user_id | is_mobile | is_package | ... | srch_children_cnt | srch_rm_cnt | srch_destination_id | srch_destination_type_id | is_booking | cnt | hotel_continent | hotel_country | hotel_market | hotel_cluster |\n",
       "|---|---|---|---|---|---|---|---|---|---|---|---|---|---|---|---|---|---|---|---|---|\n",
       "| 2014  | 2     | 3     | 66    | 348   | 48862 | 2234  | 12    | 0     | 1     | ...   | 0     | 1     |  8250 | 1     | 0     | 3     | 2     | 50    |  628  |  1    |\n",
       "| 2014  | 2     | 3     | 66    | 348   | 48862 | 2234  | 12    | 0     | 1     | ...   | 0     | 1     |  8250 | 1     | 1     | 1     | 2     | 50    |  628  |  1    |\n",
       "| 2014  | 2     | 3     | 66    | 348   | 48862 | 2234  | 12    | 0     | 0     | ...   | 0     | 1     |  8250 | 1     | 0     | 1     | 2     | 50    |  628  |  1    |\n",
       "| 2014  | 2     | 3     | 66    | 442   | 35390 |  913  | 93    | 0     | 0     | ...   | 0     | 1     | 14984 | 1     | 0     | 1     | 2     | 50    | 1457  | 80    |\n",
       "| 2014  | 2     | 3     | 66    | 442   | 35390 |  913  | 93    | 0     | 0     | ...   | 0     | 1     | 14984 | 1     | 0     | 1     | 2     | 50    | 1457  | 21    |\n",
       "| 2014  | 2     | 3     | 66    | 442   | 35390 |  911  | 93    | 0     | 0     | ...   | 0     | 1     | 14984 | 1     | 0     | 1     | 2     | 50    | 1457  | 92    |\n",
       "\n"
      ],
      "text/plain": [
       "     date_time site_name posa_continent user_location_country\n",
       "[1,] 2014      2         3              66                   \n",
       "[2,] 2014      2         3              66                   \n",
       "[3,] 2014      2         3              66                   \n",
       "[4,] 2014      2         3              66                   \n",
       "[5,] 2014      2         3              66                   \n",
       "[6,] 2014      2         3              66                   \n",
       "     user_location_region user_location_city orig_destination_distance user_id\n",
       "[1,] 348                  48862              2234                      12     \n",
       "[2,] 348                  48862              2234                      12     \n",
       "[3,] 348                  48862              2234                      12     \n",
       "[4,] 442                  35390               913                      93     \n",
       "[5,] 442                  35390               913                      93     \n",
       "[6,] 442                  35390               911                      93     \n",
       "     is_mobile is_package ... srch_children_cnt srch_rm_cnt srch_destination_id\n",
       "[1,] 0         1          ... 0                 1            8250              \n",
       "[2,] 0         1          ... 0                 1            8250              \n",
       "[3,] 0         0          ... 0                 1            8250              \n",
       "[4,] 0         0          ... 0                 1           14984              \n",
       "[5,] 0         0          ... 0                 1           14984              \n",
       "[6,] 0         0          ... 0                 1           14984              \n",
       "     srch_destination_type_id is_booking cnt hotel_continent hotel_country\n",
       "[1,] 1                        0          3   2               50           \n",
       "[2,] 1                        1          1   2               50           \n",
       "[3,] 1                        0          1   2               50           \n",
       "[4,] 1                        0          1   2               50           \n",
       "[5,] 1                        0          1   2               50           \n",
       "[6,] 1                        0          1   2               50           \n",
       "     hotel_market hotel_cluster\n",
       "[1,]  628          1           \n",
       "[2,]  628          1           \n",
       "[3,]  628          1           \n",
       "[4,] 1457         80           \n",
       "[5,] 1457         21           \n",
       "[6,] 1457         92           "
      ]
     },
     "metadata": {},
     "output_type": "display_data"
    }
   ],
   "source": [
    "dim(train)\n",
    "\n",
    "head(train)"
   ]
  },
  {
   "cell_type": "code",
   "execution_count": 11,
   "metadata": {},
   "outputs": [
    {
     "name": "stdout",
     "output_type": "stream",
     "text": [
      "Formal class 'big.matrix' [package \"bigmemory\"] with 1 slot\n",
      "  ..@ address:<externalptr> \n"
     ]
    }
   ],
   "source": [
    "str(train)"
   ]
  },
  {
   "cell_type": "code",
   "execution_count": 12,
   "metadata": {},
   "outputs": [],
   "source": [
    "# convert dataframe to matix in order to run correlation analysis from dplyr\n",
    "train <- as.matrix(train)\n",
    "\n",
    "# create correlation matrix\n",
    "train.cor = cor(train)\n"
   ]
  },
  {
   "cell_type": "code",
   "execution_count": 13,
   "metadata": {},
   "outputs": [
    {
     "data": {
      "text/html": [
       "<table>\n",
       "<thead><tr><th></th><th scope=col>date_time</th><th scope=col>site_name</th><th scope=col>posa_continent</th><th scope=col>user_location_country</th><th scope=col>user_location_region</th><th scope=col>user_location_city</th><th scope=col>orig_destination_distance</th><th scope=col>user_id</th><th scope=col>is_mobile</th><th scope=col>is_package</th><th scope=col>...</th><th scope=col>srch_children_cnt</th><th scope=col>srch_rm_cnt</th><th scope=col>srch_destination_id</th><th scope=col>srch_destination_type_id</th><th scope=col>is_booking</th><th scope=col>cnt</th><th scope=col>hotel_continent</th><th scope=col>hotel_country</th><th scope=col>hotel_market</th><th scope=col>hotel_cluster</th></tr></thead>\n",
       "<tbody>\n",
       "\t<tr><th scope=row>date_time</th><td> 1.000000000 </td><td>-0.027545972 </td><td>-0.005819735 </td><td>-0.0234500915</td><td>-0.0079989619</td><td>-2.481789e-03</td><td>NA           </td><td>-0.0169941896</td><td> 0.020598776 </td><td> 0.008434247 </td><td>...          </td><td>-0.0569476694</td><td> 2.251120e-03</td><td> 0.009343890 </td><td>-0.0347182015</td><td>-0.028597776 </td><td>-0.0732874493</td><td>-0.001056695 </td><td>-0.008399435 </td><td> 0.0054296853</td><td>-0.0010495786</td></tr>\n",
       "\t<tr><th scope=row>site_name</th><td>-0.027545972 </td><td> 1.000000000 </td><td>-0.634816612 </td><td> 0.1664132213</td><td> 0.1282143795</td><td>-1.605396e-02</td><td>NA           </td><td> 0.0240712207</td><td>-0.007103806 </td><td> 0.051813453 </td><td>...          </td><td>-0.0322340837</td><td> 1.566116e-02</td><td> 0.029020346 </td><td>-0.0106931926</td><td>-0.010379133 </td><td> 0.0200283609</td><td> 0.202756329 </td><td> 0.261030775 </td><td>-0.0670971656</td><td>-0.0224084561</td></tr>\n",
       "\t<tr><th scope=row>posa_continent</th><td>-0.005819735 </td><td>-0.634816612 </td><td> 1.000000000 </td><td> 0.1759358569</td><td>-0.0285019133</td><td> 3.882178e-02</td><td>NA           </td><td>-0.0111555188</td><td> 0.016298821 </td><td>-0.094096913 </td><td>...          </td><td> 0.0337225437</td><td>-3.160024e-02</td><td>-0.012436347 </td><td> 0.0425902130</td><td> 0.009724367 </td><td>-0.0148476525</td><td>-0.333604963 </td><td>-0.156397995 </td><td> 0.0505709952</td><td> 0.0149381747</td></tr>\n",
       "\t<tr><th scope=row>user_location_country</th><td>-0.023450092 </td><td> 0.166413221 </td><td> 0.175935857 </td><td> 1.0000000000</td><td> 0.0553635427</td><td> 1.234946e-01</td><td>NA           </td><td>-0.0229405815</td><td> 0.003611220 </td><td>-0.025320759 </td><td>...          </td><td> 0.0369011877</td><td>-2.119819e-04</td><td> 0.009075177 </td><td> 0.0305558417</td><td> 0.007526149 </td><td> 0.0027608315</td><td>-0.067252562 </td><td> 0.094648928 </td><td> 0.0182121272</td><td>-0.0104772971</td></tr>\n",
       "\t<tr><th scope=row>user_location_region</th><td>-0.007998962 </td><td> 0.128214379 </td><td>-0.028501913 </td><td> 0.0553635427</td><td> 1.0000000000</td><td> 1.297565e-01</td><td>NA           </td><td>-0.0014976784</td><td> 0.016680120 </td><td> 0.038058844 </td><td>...          </td><td> 0.0123497071</td><td> 2.709867e-04</td><td> 0.022109917 </td><td> 0.0098602845</td><td> 0.006351664 </td><td>-0.0088894870</td><td> 0.045928849 </td><td>-0.054500347 </td><td> 0.0449874393</td><td> 0.0074534610</td></tr>\n",
       "\t<tr><th scope=row>user_location_city</th><td>-0.002481789 </td><td>-0.016053963 </td><td> 0.038821783 </td><td> 0.1234946267</td><td> 0.1297564955</td><td> 1.000000e+00</td><td>NA           </td><td>-0.0068734599</td><td> 0.001440172 </td><td> 0.013864662 </td><td>...          </td><td> 0.0090415562</td><td>-6.816773e-05</td><td> 0.002158661 </td><td> 0.0005084964</td><td> 0.002227601 </td><td>-0.0012013452</td><td> 0.005356410 </td><td>-0.009396294 </td><td> 0.0094464122</td><td> 0.0008305327</td></tr>\n",
       "\t<tr><th scope=row>orig_destination_distance</th><td>          NA </td><td>          NA </td><td>          NA </td><td>           NA</td><td>           NA</td><td>           NA</td><td> 1           </td><td>           NA</td><td>          NA </td><td>          NA </td><td>...          </td><td>           NA</td><td>           NA</td><td>          NA </td><td>           NA</td><td>          NA </td><td>           NA</td><td>          NA </td><td>          NA </td><td>           NA</td><td>           NA</td></tr>\n",
       "\t<tr><th scope=row>user_id</th><td>-0.016994190 </td><td> 0.024071221 </td><td>-0.011155519 </td><td>-0.0229405815</td><td>-0.0014976784</td><td>-6.873460e-03</td><td>NA           </td><td> 1.0000000000</td><td>-0.005749726 </td><td>-0.011895589 </td><td>...          </td><td>-0.0002214843</td><td> 1.217887e-03</td><td> 0.003012003 </td><td> 0.0045489043</td><td> 0.001820066 </td><td>-0.0003802867</td><td> 0.003775016 </td><td> 0.009495708 </td><td>-0.0040970072</td><td> 0.0010515764</td></tr>\n",
       "\t<tr><th scope=row>is_mobile</th><td> 0.020598776 </td><td>-0.007103806 </td><td> 0.016298821 </td><td> 0.0036112198</td><td> 0.0166801197</td><td> 1.440172e-03</td><td>NA           </td><td>-0.0057497263</td><td> 1.000000000 </td><td> 0.054178471 </td><td>...          </td><td> 0.0204365745</td><td>-2.239111e-02</td><td>-0.008081368 </td><td>-0.0179307465</td><td>-0.030753657 </td><td> 0.0049400335</td><td>-0.021120720 </td><td>-0.025717530 </td><td> 0.0078201628</td><td> 0.0084115344</td></tr>\n",
       "\t<tr><th scope=row>is_package</th><td> 0.008434247 </td><td> 0.051813453 </td><td>-0.094096913 </td><td>-0.0253207594</td><td> 0.0380588440</td><td> 1.386466e-02</td><td>NA           </td><td>-0.0118955887</td><td> 0.054178471 </td><td> 1.000000000 </td><td>...          </td><td>-0.0335062468</td><td>-3.909765e-02</td><td>-0.147545694 </td><td>-0.2282054541</td><td>-0.076346734 </td><td> 0.1269286856</td><td> 0.111825687 </td><td>-0.038909230 </td><td>-0.0157801875</td><td> 0.0387325456</td></tr>\n",
       "\t<tr><th scope=row>channel</th><td>-0.050303307 </td><td>-0.029738011 </td><td> 0.092032526 </td><td> 0.1060401615</td><td> 0.0006032195</td><td> 2.649447e-02</td><td>NA           </td><td>-0.0020406063</td><td>-0.032638974 </td><td>-0.010250883 </td><td>...          </td><td> 0.0065329751</td><td> 6.843025e-03</td><td> 0.001718635 </td><td> 0.0271470544</td><td> 0.024437870 </td><td>-0.0119804027</td><td>-0.021296728 </td><td>-0.001918422 </td><td> 0.0050257330</td><td> 0.0007070207</td></tr>\n",
       "\t<tr><th scope=row>srch_ci</th><td>          NA </td><td>          NA </td><td>          NA </td><td>           NA</td><td>           NA</td><td>           NA</td><td>NA           </td><td>           NA</td><td>          NA </td><td>          NA </td><td>...          </td><td>           NA</td><td>           NA</td><td>          NA </td><td>           NA</td><td>          NA </td><td>           NA</td><td>          NA </td><td>          NA </td><td>           NA</td><td>           NA</td></tr>\n",
       "\t<tr><th scope=row>srch_co</th><td>          NA </td><td>          NA </td><td>          NA </td><td>           NA</td><td>           NA</td><td>           NA</td><td>NA           </td><td>           NA</td><td>          NA </td><td>          NA </td><td>...          </td><td>           NA</td><td>           NA</td><td>          NA </td><td>           NA</td><td>          NA </td><td>           NA</td><td>          NA </td><td>          NA </td><td>           NA</td><td>           NA</td></tr>\n",
       "\t<tr><th scope=row>srch_adults_cnt</th><td> 0.019178543 </td><td>-0.009045122 </td><td> 0.007996766 </td><td> 0.0372858870</td><td> 0.0090841307</td><td> 8.191533e-03</td><td>NA           </td><td>-0.0045375172</td><td> 0.019587078 </td><td>-0.023109780 </td><td>...          </td><td> 0.1091399811</td><td> 5.119841e-01</td><td> 0.004148665 </td><td>-0.0103418117</td><td>-0.049045003 </td><td> 0.0143207899</td><td>-0.016305529 </td><td>-0.019680876 </td><td> 0.0063847235</td><td> 0.0123092102</td></tr>\n",
       "\t<tr><th scope=row>srch_children_cnt</th><td>-0.056947669 </td><td>-0.032234084 </td><td> 0.033722544 </td><td> 0.0369011877</td><td> 0.0123497071</td><td> 9.041556e-03</td><td>NA           </td><td>-0.0002214843</td><td> 0.020436575 </td><td>-0.033506247 </td><td>...          </td><td> 1.0000000000</td><td> 8.941868e-02</td><td>-0.008384189 </td><td>-0.0084330429</td><td>-0.022271963 </td><td> 0.0178175542</td><td>-0.058097805 </td><td>-0.044189523 </td><td> 0.0018942299</td><td> 0.0162605523</td></tr>\n",
       "\t<tr><th scope=row>srch_rm_cnt</th><td> 0.002251120 </td><td> 0.015661160 </td><td>-0.031600238 </td><td>-0.0002119819</td><td> 0.0002709867</td><td>-6.816773e-05</td><td>NA           </td><td> 0.0012178872</td><td>-0.022391111 </td><td>-0.039097648 </td><td>...          </td><td> 0.0894186826</td><td> 1.000000e+00</td><td> 0.012377489 </td><td> 0.0112112101</td><td> 0.010839523 </td><td>-0.0001918458</td><td> 0.017334800 </td><td> 0.008317462 </td><td>-0.0002502463</td><td>-0.0059540615</td></tr>\n",
       "\t<tr><th scope=row>srch_destination_id</th><td> 0.009343890 </td><td> 0.029020346 </td><td>-0.012436347 </td><td> 0.0090751772</td><td> 0.0221099169</td><td> 2.158661e-03</td><td>NA           </td><td> 0.0030120031</td><td>-0.008081368 </td><td>-0.147545694 </td><td>...          </td><td>-0.0083841893</td><td> 1.237749e-02</td><td> 1.000000000 </td><td> 0.4376650754</td><td> 0.024956759 </td><td>-0.0213127016</td><td> 0.027696777 </td><td> 0.053835290 </td><td> 0.0839537551</td><td>-0.0117117007</td></tr>\n",
       "\t<tr><th scope=row>srch_destination_type_id</th><td>-0.034718202 </td><td>-0.010693193 </td><td> 0.042590213 </td><td> 0.0305558417</td><td> 0.0098602845</td><td> 5.084964e-04</td><td>NA           </td><td> 0.0045489043</td><td>-0.017930746 </td><td>-0.228205454 </td><td>...          </td><td>-0.0084330429</td><td> 1.121121e-02</td><td> 0.437665075 </td><td> 1.0000000000</td><td> 0.040472873 </td><td>-0.0255622234</td><td>-0.037882834 </td><td>-0.022330147 </td><td> 0.0324633909</td><td>-0.0328496823</td></tr>\n",
       "\t<tr><th scope=row>is_booking</th><td>-0.028597776 </td><td>-0.010379133 </td><td> 0.009724367 </td><td> 0.0075261489</td><td> 0.0063516638</td><td> 2.227601e-03</td><td>NA           </td><td> 0.0018200655</td><td>-0.030753657 </td><td>-0.076346734 </td><td>...          </td><td>-0.0222719630</td><td> 1.083952e-02</td><td> 0.024956759 </td><td> 0.0404728725</td><td> 1.000000000 </td><td>-0.1129065138</td><td>-0.026127983 </td><td>-0.003948081 </td><td> 0.0119576116</td><td>-0.0215480657</td></tr>\n",
       "\t<tr><th scope=row>cnt</th><td>-0.073287449 </td><td> 0.020028361 </td><td>-0.014847653 </td><td> 0.0027608315</td><td>-0.0088894870</td><td>-1.201345e-03</td><td>NA           </td><td>-0.0003802867</td><td> 0.004940033 </td><td> 0.126928686 </td><td>...          </td><td> 0.0178175542</td><td>-1.918458e-04</td><td>-0.021312702 </td><td>-0.0255622234</td><td>-0.112906514 </td><td> 1.0000000000</td><td> 0.017665128 </td><td>-0.001097954 </td><td>-0.0112453118</td><td> 0.0029438662</td></tr>\n",
       "\t<tr><th scope=row>hotel_continent</th><td>-0.001056695 </td><td> 0.202756329 </td><td>-0.333604963 </td><td>-0.0672525617</td><td> 0.0459288486</td><td> 5.356410e-03</td><td>NA           </td><td> 0.0037750158</td><td>-0.021120720 </td><td> 0.111825687 </td><td>...          </td><td>-0.0580978050</td><td> 1.733480e-02</td><td> 0.027696777 </td><td>-0.0378828342</td><td>-0.026127983 </td><td> 0.0176651280</td><td> 1.000000000 </td><td> 0.298871981 </td><td>-0.0925976258</td><td>-0.0139632953</td></tr>\n",
       "\t<tr><th scope=row>hotel_country</th><td>-0.008399435 </td><td> 0.261030775 </td><td>-0.156397995 </td><td> 0.0946489275</td><td>-0.0545003468</td><td>-9.396294e-03</td><td>NA           </td><td> 0.0094957084</td><td>-0.025717530 </td><td>-0.038909230 </td><td>...          </td><td>-0.0441895232</td><td> 8.317462e-03</td><td> 0.053835290 </td><td>-0.0223301467</td><td>-0.003948081 </td><td>-0.0010979542</td><td> 0.298871981 </td><td> 1.000000000 </td><td> 0.0211167593</td><td>-0.0242885512</td></tr>\n",
       "\t<tr><th scope=row>hotel_market</th><td> 0.005429685 </td><td>-0.067097166 </td><td> 0.050570995 </td><td> 0.0182121272</td><td> 0.0449874393</td><td> 9.446412e-03</td><td>NA           </td><td>-0.0040970072</td><td> 0.007820163 </td><td>-0.015780188 </td><td>...          </td><td> 0.0018942299</td><td>-2.502463e-04</td><td> 0.083953755 </td><td> 0.0324633909</td><td> 0.011957612 </td><td>-0.0112453118</td><td>-0.092597626 </td><td> 0.021116759 </td><td> 1.0000000000</td><td> 0.0342053590</td></tr>\n",
       "\t<tr><th scope=row>hotel_cluster</th><td>-0.001049579 </td><td>-0.022408456 </td><td> 0.014938175 </td><td>-0.0104772971</td><td> 0.0074534610</td><td> 8.305327e-04</td><td>NA           </td><td> 0.0010515764</td><td> 0.008411534 </td><td> 0.038732546 </td><td>...          </td><td> 0.0162605523</td><td>-5.954061e-03</td><td>-0.011711701 </td><td>-0.0328496823</td><td>-0.021548066 </td><td> 0.0029438662</td><td>-0.013963295 </td><td>-0.024288551 </td><td> 0.0342053590</td><td> 1.0000000000</td></tr>\n",
       "</tbody>\n",
       "</table>\n"
      ],
      "text/latex": [
       "\\begin{tabular}{r|llllllllllllllllllllllll}\n",
       "  & date\\_time & site\\_name & posa\\_continent & user\\_location\\_country & user\\_location\\_region & user\\_location\\_city & orig\\_destination\\_distance & user\\_id & is\\_mobile & is\\_package & ... & srch\\_children\\_cnt & srch\\_rm\\_cnt & srch\\_destination\\_id & srch\\_destination\\_type\\_id & is\\_booking & cnt & hotel\\_continent & hotel\\_country & hotel\\_market & hotel\\_cluster\\\\\n",
       "\\hline\n",
       "\tdate\\_time &  1.000000000  & -0.027545972  & -0.005819735  & -0.0234500915 & -0.0079989619 & -2.481789e-03 & NA            & -0.0169941896 &  0.020598776  &  0.008434247  & ...           & -0.0569476694 &  2.251120e-03 &  0.009343890  & -0.0347182015 & -0.028597776  & -0.0732874493 & -0.001056695  & -0.008399435  &  0.0054296853 & -0.0010495786\\\\\n",
       "\tsite\\_name & -0.027545972  &  1.000000000  & -0.634816612  &  0.1664132213 &  0.1282143795 & -1.605396e-02 & NA            &  0.0240712207 & -0.007103806  &  0.051813453  & ...           & -0.0322340837 &  1.566116e-02 &  0.029020346  & -0.0106931926 & -0.010379133  &  0.0200283609 &  0.202756329  &  0.261030775  & -0.0670971656 & -0.0224084561\\\\\n",
       "\tposa\\_continent & -0.005819735  & -0.634816612  &  1.000000000  &  0.1759358569 & -0.0285019133 &  3.882178e-02 & NA            & -0.0111555188 &  0.016298821  & -0.094096913  & ...           &  0.0337225437 & -3.160024e-02 & -0.012436347  &  0.0425902130 &  0.009724367  & -0.0148476525 & -0.333604963  & -0.156397995  &  0.0505709952 &  0.0149381747\\\\\n",
       "\tuser\\_location\\_country & -0.023450092  &  0.166413221  &  0.175935857  &  1.0000000000 &  0.0553635427 &  1.234946e-01 & NA            & -0.0229405815 &  0.003611220  & -0.025320759  & ...           &  0.0369011877 & -2.119819e-04 &  0.009075177  &  0.0305558417 &  0.007526149  &  0.0027608315 & -0.067252562  &  0.094648928  &  0.0182121272 & -0.0104772971\\\\\n",
       "\tuser\\_location\\_region & -0.007998962  &  0.128214379  & -0.028501913  &  0.0553635427 &  1.0000000000 &  1.297565e-01 & NA            & -0.0014976784 &  0.016680120  &  0.038058844  & ...           &  0.0123497071 &  2.709867e-04 &  0.022109917  &  0.0098602845 &  0.006351664  & -0.0088894870 &  0.045928849  & -0.054500347  &  0.0449874393 &  0.0074534610\\\\\n",
       "\tuser\\_location\\_city & -0.002481789  & -0.016053963  &  0.038821783  &  0.1234946267 &  0.1297564955 &  1.000000e+00 & NA            & -0.0068734599 &  0.001440172  &  0.013864662  & ...           &  0.0090415562 & -6.816773e-05 &  0.002158661  &  0.0005084964 &  0.002227601  & -0.0012013452 &  0.005356410  & -0.009396294  &  0.0094464122 &  0.0008305327\\\\\n",
       "\torig\\_destination\\_distance &           NA  &           NA  &           NA  &            NA &            NA &            NA &  1            &            NA &           NA  &           NA  & ...           &            NA &            NA &           NA  &            NA &           NA  &            NA &           NA  &           NA  &            NA &            NA\\\\\n",
       "\tuser\\_id & -0.016994190  &  0.024071221  & -0.011155519  & -0.0229405815 & -0.0014976784 & -6.873460e-03 & NA            &  1.0000000000 & -0.005749726  & -0.011895589  & ...           & -0.0002214843 &  1.217887e-03 &  0.003012003  &  0.0045489043 &  0.001820066  & -0.0003802867 &  0.003775016  &  0.009495708  & -0.0040970072 &  0.0010515764\\\\\n",
       "\tis\\_mobile &  0.020598776  & -0.007103806  &  0.016298821  &  0.0036112198 &  0.0166801197 &  1.440172e-03 & NA            & -0.0057497263 &  1.000000000  &  0.054178471  & ...           &  0.0204365745 & -2.239111e-02 & -0.008081368  & -0.0179307465 & -0.030753657  &  0.0049400335 & -0.021120720  & -0.025717530  &  0.0078201628 &  0.0084115344\\\\\n",
       "\tis\\_package &  0.008434247  &  0.051813453  & -0.094096913  & -0.0253207594 &  0.0380588440 &  1.386466e-02 & NA            & -0.0118955887 &  0.054178471  &  1.000000000  & ...           & -0.0335062468 & -3.909765e-02 & -0.147545694  & -0.2282054541 & -0.076346734  &  0.1269286856 &  0.111825687  & -0.038909230  & -0.0157801875 &  0.0387325456\\\\\n",
       "\tchannel & -0.050303307  & -0.029738011  &  0.092032526  &  0.1060401615 &  0.0006032195 &  2.649447e-02 & NA            & -0.0020406063 & -0.032638974  & -0.010250883  & ...           &  0.0065329751 &  6.843025e-03 &  0.001718635  &  0.0271470544 &  0.024437870  & -0.0119804027 & -0.021296728  & -0.001918422  &  0.0050257330 &  0.0007070207\\\\\n",
       "\tsrch\\_ci &           NA  &           NA  &           NA  &            NA &            NA &            NA & NA            &            NA &           NA  &           NA  & ...           &            NA &            NA &           NA  &            NA &           NA  &            NA &           NA  &           NA  &            NA &            NA\\\\\n",
       "\tsrch\\_co &           NA  &           NA  &           NA  &            NA &            NA &            NA & NA            &            NA &           NA  &           NA  & ...           &            NA &            NA &           NA  &            NA &           NA  &            NA &           NA  &           NA  &            NA &            NA\\\\\n",
       "\tsrch\\_adults\\_cnt &  0.019178543  & -0.009045122  &  0.007996766  &  0.0372858870 &  0.0090841307 &  8.191533e-03 & NA            & -0.0045375172 &  0.019587078  & -0.023109780  & ...           &  0.1091399811 &  5.119841e-01 &  0.004148665  & -0.0103418117 & -0.049045003  &  0.0143207899 & -0.016305529  & -0.019680876  &  0.0063847235 &  0.0123092102\\\\\n",
       "\tsrch\\_children\\_cnt & -0.056947669  & -0.032234084  &  0.033722544  &  0.0369011877 &  0.0123497071 &  9.041556e-03 & NA            & -0.0002214843 &  0.020436575  & -0.033506247  & ...           &  1.0000000000 &  8.941868e-02 & -0.008384189  & -0.0084330429 & -0.022271963  &  0.0178175542 & -0.058097805  & -0.044189523  &  0.0018942299 &  0.0162605523\\\\\n",
       "\tsrch\\_rm\\_cnt &  0.002251120  &  0.015661160  & -0.031600238  & -0.0002119819 &  0.0002709867 & -6.816773e-05 & NA            &  0.0012178872 & -0.022391111  & -0.039097648  & ...           &  0.0894186826 &  1.000000e+00 &  0.012377489  &  0.0112112101 &  0.010839523  & -0.0001918458 &  0.017334800  &  0.008317462  & -0.0002502463 & -0.0059540615\\\\\n",
       "\tsrch\\_destination\\_id &  0.009343890  &  0.029020346  & -0.012436347  &  0.0090751772 &  0.0221099169 &  2.158661e-03 & NA            &  0.0030120031 & -0.008081368  & -0.147545694  & ...           & -0.0083841893 &  1.237749e-02 &  1.000000000  &  0.4376650754 &  0.024956759  & -0.0213127016 &  0.027696777  &  0.053835290  &  0.0839537551 & -0.0117117007\\\\\n",
       "\tsrch\\_destination\\_type\\_id & -0.034718202  & -0.010693193  &  0.042590213  &  0.0305558417 &  0.0098602845 &  5.084964e-04 & NA            &  0.0045489043 & -0.017930746  & -0.228205454  & ...           & -0.0084330429 &  1.121121e-02 &  0.437665075  &  1.0000000000 &  0.040472873  & -0.0255622234 & -0.037882834  & -0.022330147  &  0.0324633909 & -0.0328496823\\\\\n",
       "\tis\\_booking & -0.028597776  & -0.010379133  &  0.009724367  &  0.0075261489 &  0.0063516638 &  2.227601e-03 & NA            &  0.0018200655 & -0.030753657  & -0.076346734  & ...           & -0.0222719630 &  1.083952e-02 &  0.024956759  &  0.0404728725 &  1.000000000  & -0.1129065138 & -0.026127983  & -0.003948081  &  0.0119576116 & -0.0215480657\\\\\n",
       "\tcnt & -0.073287449  &  0.020028361  & -0.014847653  &  0.0027608315 & -0.0088894870 & -1.201345e-03 & NA            & -0.0003802867 &  0.004940033  &  0.126928686  & ...           &  0.0178175542 & -1.918458e-04 & -0.021312702  & -0.0255622234 & -0.112906514  &  1.0000000000 &  0.017665128  & -0.001097954  & -0.0112453118 &  0.0029438662\\\\\n",
       "\thotel\\_continent & -0.001056695  &  0.202756329  & -0.333604963  & -0.0672525617 &  0.0459288486 &  5.356410e-03 & NA            &  0.0037750158 & -0.021120720  &  0.111825687  & ...           & -0.0580978050 &  1.733480e-02 &  0.027696777  & -0.0378828342 & -0.026127983  &  0.0176651280 &  1.000000000  &  0.298871981  & -0.0925976258 & -0.0139632953\\\\\n",
       "\thotel\\_country & -0.008399435  &  0.261030775  & -0.156397995  &  0.0946489275 & -0.0545003468 & -9.396294e-03 & NA            &  0.0094957084 & -0.025717530  & -0.038909230  & ...           & -0.0441895232 &  8.317462e-03 &  0.053835290  & -0.0223301467 & -0.003948081  & -0.0010979542 &  0.298871981  &  1.000000000  &  0.0211167593 & -0.0242885512\\\\\n",
       "\thotel\\_market &  0.005429685  & -0.067097166  &  0.050570995  &  0.0182121272 &  0.0449874393 &  9.446412e-03 & NA            & -0.0040970072 &  0.007820163  & -0.015780188  & ...           &  0.0018942299 & -2.502463e-04 &  0.083953755  &  0.0324633909 &  0.011957612  & -0.0112453118 & -0.092597626  &  0.021116759  &  1.0000000000 &  0.0342053590\\\\\n",
       "\thotel\\_cluster & -0.001049579  & -0.022408456  &  0.014938175  & -0.0104772971 &  0.0074534610 &  8.305327e-04 & NA            &  0.0010515764 &  0.008411534  &  0.038732546  & ...           &  0.0162605523 & -5.954061e-03 & -0.011711701  & -0.0328496823 & -0.021548066  &  0.0029438662 & -0.013963295  & -0.024288551  &  0.0342053590 &  1.0000000000\\\\\n",
       "\\end{tabular}\n"
      ],
      "text/markdown": [
       "\n",
       "| <!--/--> | date_time | site_name | posa_continent | user_location_country | user_location_region | user_location_city | orig_destination_distance | user_id | is_mobile | is_package | ... | srch_children_cnt | srch_rm_cnt | srch_destination_id | srch_destination_type_id | is_booking | cnt | hotel_continent | hotel_country | hotel_market | hotel_cluster |\n",
       "|---|---|---|---|---|---|---|---|---|---|---|---|---|---|---|---|---|---|---|---|---|---|\n",
       "| date_time |  1.000000000  | -0.027545972  | -0.005819735  | -0.0234500915 | -0.0079989619 | -2.481789e-03 | NA            | -0.0169941896 |  0.020598776  |  0.008434247  | ...           | -0.0569476694 |  2.251120e-03 |  0.009343890  | -0.0347182015 | -0.028597776  | -0.0732874493 | -0.001056695  | -0.008399435  |  0.0054296853 | -0.0010495786 |\n",
       "| site_name | -0.027545972  |  1.000000000  | -0.634816612  |  0.1664132213 |  0.1282143795 | -1.605396e-02 | NA            |  0.0240712207 | -0.007103806  |  0.051813453  | ...           | -0.0322340837 |  1.566116e-02 |  0.029020346  | -0.0106931926 | -0.010379133  |  0.0200283609 |  0.202756329  |  0.261030775  | -0.0670971656 | -0.0224084561 |\n",
       "| posa_continent | -0.005819735  | -0.634816612  |  1.000000000  |  0.1759358569 | -0.0285019133 |  3.882178e-02 | NA            | -0.0111555188 |  0.016298821  | -0.094096913  | ...           |  0.0337225437 | -3.160024e-02 | -0.012436347  |  0.0425902130 |  0.009724367  | -0.0148476525 | -0.333604963  | -0.156397995  |  0.0505709952 |  0.0149381747 |\n",
       "| user_location_country | -0.023450092  |  0.166413221  |  0.175935857  |  1.0000000000 |  0.0553635427 |  1.234946e-01 | NA            | -0.0229405815 |  0.003611220  | -0.025320759  | ...           |  0.0369011877 | -2.119819e-04 |  0.009075177  |  0.0305558417 |  0.007526149  |  0.0027608315 | -0.067252562  |  0.094648928  |  0.0182121272 | -0.0104772971 |\n",
       "| user_location_region | -0.007998962  |  0.128214379  | -0.028501913  |  0.0553635427 |  1.0000000000 |  1.297565e-01 | NA            | -0.0014976784 |  0.016680120  |  0.038058844  | ...           |  0.0123497071 |  2.709867e-04 |  0.022109917  |  0.0098602845 |  0.006351664  | -0.0088894870 |  0.045928849  | -0.054500347  |  0.0449874393 |  0.0074534610 |\n",
       "| user_location_city | -0.002481789  | -0.016053963  |  0.038821783  |  0.1234946267 |  0.1297564955 |  1.000000e+00 | NA            | -0.0068734599 |  0.001440172  |  0.013864662  | ...           |  0.0090415562 | -6.816773e-05 |  0.002158661  |  0.0005084964 |  0.002227601  | -0.0012013452 |  0.005356410  | -0.009396294  |  0.0094464122 |  0.0008305327 |\n",
       "| orig_destination_distance |           NA  |           NA  |           NA  |            NA |            NA |            NA |  1            |            NA |           NA  |           NA  | ...           |            NA |            NA |           NA  |            NA |           NA  |            NA |           NA  |           NA  |            NA |            NA |\n",
       "| user_id | -0.016994190  |  0.024071221  | -0.011155519  | -0.0229405815 | -0.0014976784 | -6.873460e-03 | NA            |  1.0000000000 | -0.005749726  | -0.011895589  | ...           | -0.0002214843 |  1.217887e-03 |  0.003012003  |  0.0045489043 |  0.001820066  | -0.0003802867 |  0.003775016  |  0.009495708  | -0.0040970072 |  0.0010515764 |\n",
       "| is_mobile |  0.020598776  | -0.007103806  |  0.016298821  |  0.0036112198 |  0.0166801197 |  1.440172e-03 | NA            | -0.0057497263 |  1.000000000  |  0.054178471  | ...           |  0.0204365745 | -2.239111e-02 | -0.008081368  | -0.0179307465 | -0.030753657  |  0.0049400335 | -0.021120720  | -0.025717530  |  0.0078201628 |  0.0084115344 |\n",
       "| is_package |  0.008434247  |  0.051813453  | -0.094096913  | -0.0253207594 |  0.0380588440 |  1.386466e-02 | NA            | -0.0118955887 |  0.054178471  |  1.000000000  | ...           | -0.0335062468 | -3.909765e-02 | -0.147545694  | -0.2282054541 | -0.076346734  |  0.1269286856 |  0.111825687  | -0.038909230  | -0.0157801875 |  0.0387325456 |\n",
       "| channel | -0.050303307  | -0.029738011  |  0.092032526  |  0.1060401615 |  0.0006032195 |  2.649447e-02 | NA            | -0.0020406063 | -0.032638974  | -0.010250883  | ...           |  0.0065329751 |  6.843025e-03 |  0.001718635  |  0.0271470544 |  0.024437870  | -0.0119804027 | -0.021296728  | -0.001918422  |  0.0050257330 |  0.0007070207 |\n",
       "| srch_ci |           NA  |           NA  |           NA  |            NA |            NA |            NA | NA            |            NA |           NA  |           NA  | ...           |            NA |            NA |           NA  |            NA |           NA  |            NA |           NA  |           NA  |            NA |            NA |\n",
       "| srch_co |           NA  |           NA  |           NA  |            NA |            NA |            NA | NA            |            NA |           NA  |           NA  | ...           |            NA |            NA |           NA  |            NA |           NA  |            NA |           NA  |           NA  |            NA |            NA |\n",
       "| srch_adults_cnt |  0.019178543  | -0.009045122  |  0.007996766  |  0.0372858870 |  0.0090841307 |  8.191533e-03 | NA            | -0.0045375172 |  0.019587078  | -0.023109780  | ...           |  0.1091399811 |  5.119841e-01 |  0.004148665  | -0.0103418117 | -0.049045003  |  0.0143207899 | -0.016305529  | -0.019680876  |  0.0063847235 |  0.0123092102 |\n",
       "| srch_children_cnt | -0.056947669  | -0.032234084  |  0.033722544  |  0.0369011877 |  0.0123497071 |  9.041556e-03 | NA            | -0.0002214843 |  0.020436575  | -0.033506247  | ...           |  1.0000000000 |  8.941868e-02 | -0.008384189  | -0.0084330429 | -0.022271963  |  0.0178175542 | -0.058097805  | -0.044189523  |  0.0018942299 |  0.0162605523 |\n",
       "| srch_rm_cnt |  0.002251120  |  0.015661160  | -0.031600238  | -0.0002119819 |  0.0002709867 | -6.816773e-05 | NA            |  0.0012178872 | -0.022391111  | -0.039097648  | ...           |  0.0894186826 |  1.000000e+00 |  0.012377489  |  0.0112112101 |  0.010839523  | -0.0001918458 |  0.017334800  |  0.008317462  | -0.0002502463 | -0.0059540615 |\n",
       "| srch_destination_id |  0.009343890  |  0.029020346  | -0.012436347  |  0.0090751772 |  0.0221099169 |  2.158661e-03 | NA            |  0.0030120031 | -0.008081368  | -0.147545694  | ...           | -0.0083841893 |  1.237749e-02 |  1.000000000  |  0.4376650754 |  0.024956759  | -0.0213127016 |  0.027696777  |  0.053835290  |  0.0839537551 | -0.0117117007 |\n",
       "| srch_destination_type_id | -0.034718202  | -0.010693193  |  0.042590213  |  0.0305558417 |  0.0098602845 |  5.084964e-04 | NA            |  0.0045489043 | -0.017930746  | -0.228205454  | ...           | -0.0084330429 |  1.121121e-02 |  0.437665075  |  1.0000000000 |  0.040472873  | -0.0255622234 | -0.037882834  | -0.022330147  |  0.0324633909 | -0.0328496823 |\n",
       "| is_booking | -0.028597776  | -0.010379133  |  0.009724367  |  0.0075261489 |  0.0063516638 |  2.227601e-03 | NA            |  0.0018200655 | -0.030753657  | -0.076346734  | ...           | -0.0222719630 |  1.083952e-02 |  0.024956759  |  0.0404728725 |  1.000000000  | -0.1129065138 | -0.026127983  | -0.003948081  |  0.0119576116 | -0.0215480657 |\n",
       "| cnt | -0.073287449  |  0.020028361  | -0.014847653  |  0.0027608315 | -0.0088894870 | -1.201345e-03 | NA            | -0.0003802867 |  0.004940033  |  0.126928686  | ...           |  0.0178175542 | -1.918458e-04 | -0.021312702  | -0.0255622234 | -0.112906514  |  1.0000000000 |  0.017665128  | -0.001097954  | -0.0112453118 |  0.0029438662 |\n",
       "| hotel_continent | -0.001056695  |  0.202756329  | -0.333604963  | -0.0672525617 |  0.0459288486 |  5.356410e-03 | NA            |  0.0037750158 | -0.021120720  |  0.111825687  | ...           | -0.0580978050 |  1.733480e-02 |  0.027696777  | -0.0378828342 | -0.026127983  |  0.0176651280 |  1.000000000  |  0.298871981  | -0.0925976258 | -0.0139632953 |\n",
       "| hotel_country | -0.008399435  |  0.261030775  | -0.156397995  |  0.0946489275 | -0.0545003468 | -9.396294e-03 | NA            |  0.0094957084 | -0.025717530  | -0.038909230  | ...           | -0.0441895232 |  8.317462e-03 |  0.053835290  | -0.0223301467 | -0.003948081  | -0.0010979542 |  0.298871981  |  1.000000000  |  0.0211167593 | -0.0242885512 |\n",
       "| hotel_market |  0.005429685  | -0.067097166  |  0.050570995  |  0.0182121272 |  0.0449874393 |  9.446412e-03 | NA            | -0.0040970072 |  0.007820163  | -0.015780188  | ...           |  0.0018942299 | -2.502463e-04 |  0.083953755  |  0.0324633909 |  0.011957612  | -0.0112453118 | -0.092597626  |  0.021116759  |  1.0000000000 |  0.0342053590 |\n",
       "| hotel_cluster | -0.001049579  | -0.022408456  |  0.014938175  | -0.0104772971 |  0.0074534610 |  8.305327e-04 | NA            |  0.0010515764 |  0.008411534  |  0.038732546  | ...           |  0.0162605523 | -5.954061e-03 | -0.011711701  | -0.0328496823 | -0.021548066  |  0.0029438662 | -0.013963295  | -0.024288551  |  0.0342053590 |  1.0000000000 |\n",
       "\n"
      ],
      "text/plain": [
       "                          date_time    site_name    posa_continent\n",
       "date_time                  1.000000000 -0.027545972 -0.005819735  \n",
       "site_name                 -0.027545972  1.000000000 -0.634816612  \n",
       "posa_continent            -0.005819735 -0.634816612  1.000000000  \n",
       "user_location_country     -0.023450092  0.166413221  0.175935857  \n",
       "user_location_region      -0.007998962  0.128214379 -0.028501913  \n",
       "user_location_city        -0.002481789 -0.016053963  0.038821783  \n",
       "orig_destination_distance           NA           NA           NA  \n",
       "user_id                   -0.016994190  0.024071221 -0.011155519  \n",
       "is_mobile                  0.020598776 -0.007103806  0.016298821  \n",
       "is_package                 0.008434247  0.051813453 -0.094096913  \n",
       "channel                   -0.050303307 -0.029738011  0.092032526  \n",
       "srch_ci                             NA           NA           NA  \n",
       "srch_co                             NA           NA           NA  \n",
       "srch_adults_cnt            0.019178543 -0.009045122  0.007996766  \n",
       "srch_children_cnt         -0.056947669 -0.032234084  0.033722544  \n",
       "srch_rm_cnt                0.002251120  0.015661160 -0.031600238  \n",
       "srch_destination_id        0.009343890  0.029020346 -0.012436347  \n",
       "srch_destination_type_id  -0.034718202 -0.010693193  0.042590213  \n",
       "is_booking                -0.028597776 -0.010379133  0.009724367  \n",
       "cnt                       -0.073287449  0.020028361 -0.014847653  \n",
       "hotel_continent           -0.001056695  0.202756329 -0.333604963  \n",
       "hotel_country             -0.008399435  0.261030775 -0.156397995  \n",
       "hotel_market               0.005429685 -0.067097166  0.050570995  \n",
       "hotel_cluster             -0.001049579 -0.022408456  0.014938175  \n",
       "                          user_location_country user_location_region\n",
       "date_time                 -0.0234500915         -0.0079989619       \n",
       "site_name                  0.1664132213          0.1282143795       \n",
       "posa_continent             0.1759358569         -0.0285019133       \n",
       "user_location_country      1.0000000000          0.0553635427       \n",
       "user_location_region       0.0553635427          1.0000000000       \n",
       "user_location_city         0.1234946267          0.1297564955       \n",
       "orig_destination_distance            NA                    NA       \n",
       "user_id                   -0.0229405815         -0.0014976784       \n",
       "is_mobile                  0.0036112198          0.0166801197       \n",
       "is_package                -0.0253207594          0.0380588440       \n",
       "channel                    0.1060401615          0.0006032195       \n",
       "srch_ci                              NA                    NA       \n",
       "srch_co                              NA                    NA       \n",
       "srch_adults_cnt            0.0372858870          0.0090841307       \n",
       "srch_children_cnt          0.0369011877          0.0123497071       \n",
       "srch_rm_cnt               -0.0002119819          0.0002709867       \n",
       "srch_destination_id        0.0090751772          0.0221099169       \n",
       "srch_destination_type_id   0.0305558417          0.0098602845       \n",
       "is_booking                 0.0075261489          0.0063516638       \n",
       "cnt                        0.0027608315         -0.0088894870       \n",
       "hotel_continent           -0.0672525617          0.0459288486       \n",
       "hotel_country              0.0946489275         -0.0545003468       \n",
       "hotel_market               0.0182121272          0.0449874393       \n",
       "hotel_cluster             -0.0104772971          0.0074534610       \n",
       "                          user_location_city orig_destination_distance\n",
       "date_time                 -2.481789e-03      NA                       \n",
       "site_name                 -1.605396e-02      NA                       \n",
       "posa_continent             3.882178e-02      NA                       \n",
       "user_location_country      1.234946e-01      NA                       \n",
       "user_location_region       1.297565e-01      NA                       \n",
       "user_location_city         1.000000e+00      NA                       \n",
       "orig_destination_distance            NA       1                       \n",
       "user_id                   -6.873460e-03      NA                       \n",
       "is_mobile                  1.440172e-03      NA                       \n",
       "is_package                 1.386466e-02      NA                       \n",
       "channel                    2.649447e-02      NA                       \n",
       "srch_ci                              NA      NA                       \n",
       "srch_co                              NA      NA                       \n",
       "srch_adults_cnt            8.191533e-03      NA                       \n",
       "srch_children_cnt          9.041556e-03      NA                       \n",
       "srch_rm_cnt               -6.816773e-05      NA                       \n",
       "srch_destination_id        2.158661e-03      NA                       \n",
       "srch_destination_type_id   5.084964e-04      NA                       \n",
       "is_booking                 2.227601e-03      NA                       \n",
       "cnt                       -1.201345e-03      NA                       \n",
       "hotel_continent            5.356410e-03      NA                       \n",
       "hotel_country             -9.396294e-03      NA                       \n",
       "hotel_market               9.446412e-03      NA                       \n",
       "hotel_cluster              8.305327e-04      NA                       \n",
       "                          user_id       is_mobile    is_package   ...\n",
       "date_time                 -0.0169941896  0.020598776  0.008434247 ...\n",
       "site_name                  0.0240712207 -0.007103806  0.051813453 ...\n",
       "posa_continent            -0.0111555188  0.016298821 -0.094096913 ...\n",
       "user_location_country     -0.0229405815  0.003611220 -0.025320759 ...\n",
       "user_location_region      -0.0014976784  0.016680120  0.038058844 ...\n",
       "user_location_city        -0.0068734599  0.001440172  0.013864662 ...\n",
       "orig_destination_distance            NA           NA           NA ...\n",
       "user_id                    1.0000000000 -0.005749726 -0.011895589 ...\n",
       "is_mobile                 -0.0057497263  1.000000000  0.054178471 ...\n",
       "is_package                -0.0118955887  0.054178471  1.000000000 ...\n",
       "channel                   -0.0020406063 -0.032638974 -0.010250883 ...\n",
       "srch_ci                              NA           NA           NA ...\n",
       "srch_co                              NA           NA           NA ...\n",
       "srch_adults_cnt           -0.0045375172  0.019587078 -0.023109780 ...\n",
       "srch_children_cnt         -0.0002214843  0.020436575 -0.033506247 ...\n",
       "srch_rm_cnt                0.0012178872 -0.022391111 -0.039097648 ...\n",
       "srch_destination_id        0.0030120031 -0.008081368 -0.147545694 ...\n",
       "srch_destination_type_id   0.0045489043 -0.017930746 -0.228205454 ...\n",
       "is_booking                 0.0018200655 -0.030753657 -0.076346734 ...\n",
       "cnt                       -0.0003802867  0.004940033  0.126928686 ...\n",
       "hotel_continent            0.0037750158 -0.021120720  0.111825687 ...\n",
       "hotel_country              0.0094957084 -0.025717530 -0.038909230 ...\n",
       "hotel_market              -0.0040970072  0.007820163 -0.015780188 ...\n",
       "hotel_cluster              0.0010515764  0.008411534  0.038732546 ...\n",
       "                          srch_children_cnt srch_rm_cnt   srch_destination_id\n",
       "date_time                 -0.0569476694      2.251120e-03  0.009343890       \n",
       "site_name                 -0.0322340837      1.566116e-02  0.029020346       \n",
       "posa_continent             0.0337225437     -3.160024e-02 -0.012436347       \n",
       "user_location_country      0.0369011877     -2.119819e-04  0.009075177       \n",
       "user_location_region       0.0123497071      2.709867e-04  0.022109917       \n",
       "user_location_city         0.0090415562     -6.816773e-05  0.002158661       \n",
       "orig_destination_distance            NA                NA           NA       \n",
       "user_id                   -0.0002214843      1.217887e-03  0.003012003       \n",
       "is_mobile                  0.0204365745     -2.239111e-02 -0.008081368       \n",
       "is_package                -0.0335062468     -3.909765e-02 -0.147545694       \n",
       "channel                    0.0065329751      6.843025e-03  0.001718635       \n",
       "srch_ci                              NA                NA           NA       \n",
       "srch_co                              NA                NA           NA       \n",
       "srch_adults_cnt            0.1091399811      5.119841e-01  0.004148665       \n",
       "srch_children_cnt          1.0000000000      8.941868e-02 -0.008384189       \n",
       "srch_rm_cnt                0.0894186826      1.000000e+00  0.012377489       \n",
       "srch_destination_id       -0.0083841893      1.237749e-02  1.000000000       \n",
       "srch_destination_type_id  -0.0084330429      1.121121e-02  0.437665075       \n",
       "is_booking                -0.0222719630      1.083952e-02  0.024956759       \n",
       "cnt                        0.0178175542     -1.918458e-04 -0.021312702       \n",
       "hotel_continent           -0.0580978050      1.733480e-02  0.027696777       \n",
       "hotel_country             -0.0441895232      8.317462e-03  0.053835290       \n",
       "hotel_market               0.0018942299     -2.502463e-04  0.083953755       \n",
       "hotel_cluster              0.0162605523     -5.954061e-03 -0.011711701       \n",
       "                          srch_destination_type_id is_booking   cnt          \n",
       "date_time                 -0.0347182015            -0.028597776 -0.0732874493\n",
       "site_name                 -0.0106931926            -0.010379133  0.0200283609\n",
       "posa_continent             0.0425902130             0.009724367 -0.0148476525\n",
       "user_location_country      0.0305558417             0.007526149  0.0027608315\n",
       "user_location_region       0.0098602845             0.006351664 -0.0088894870\n",
       "user_location_city         0.0005084964             0.002227601 -0.0012013452\n",
       "orig_destination_distance            NA                      NA            NA\n",
       "user_id                    0.0045489043             0.001820066 -0.0003802867\n",
       "is_mobile                 -0.0179307465            -0.030753657  0.0049400335\n",
       "is_package                -0.2282054541            -0.076346734  0.1269286856\n",
       "channel                    0.0271470544             0.024437870 -0.0119804027\n",
       "srch_ci                              NA                      NA            NA\n",
       "srch_co                              NA                      NA            NA\n",
       "srch_adults_cnt           -0.0103418117            -0.049045003  0.0143207899\n",
       "srch_children_cnt         -0.0084330429            -0.022271963  0.0178175542\n",
       "srch_rm_cnt                0.0112112101             0.010839523 -0.0001918458\n",
       "srch_destination_id        0.4376650754             0.024956759 -0.0213127016\n",
       "srch_destination_type_id   1.0000000000             0.040472873 -0.0255622234\n",
       "is_booking                 0.0404728725             1.000000000 -0.1129065138\n",
       "cnt                       -0.0255622234            -0.112906514  1.0000000000\n",
       "hotel_continent           -0.0378828342            -0.026127983  0.0176651280\n",
       "hotel_country             -0.0223301467            -0.003948081 -0.0010979542\n",
       "hotel_market               0.0324633909             0.011957612 -0.0112453118\n",
       "hotel_cluster             -0.0328496823            -0.021548066  0.0029438662\n",
       "                          hotel_continent hotel_country hotel_market \n",
       "date_time                 -0.001056695    -0.008399435   0.0054296853\n",
       "site_name                  0.202756329     0.261030775  -0.0670971656\n",
       "posa_continent            -0.333604963    -0.156397995   0.0505709952\n",
       "user_location_country     -0.067252562     0.094648928   0.0182121272\n",
       "user_location_region       0.045928849    -0.054500347   0.0449874393\n",
       "user_location_city         0.005356410    -0.009396294   0.0094464122\n",
       "orig_destination_distance           NA              NA             NA\n",
       "user_id                    0.003775016     0.009495708  -0.0040970072\n",
       "is_mobile                 -0.021120720    -0.025717530   0.0078201628\n",
       "is_package                 0.111825687    -0.038909230  -0.0157801875\n",
       "channel                   -0.021296728    -0.001918422   0.0050257330\n",
       "srch_ci                             NA              NA             NA\n",
       "srch_co                             NA              NA             NA\n",
       "srch_adults_cnt           -0.016305529    -0.019680876   0.0063847235\n",
       "srch_children_cnt         -0.058097805    -0.044189523   0.0018942299\n",
       "srch_rm_cnt                0.017334800     0.008317462  -0.0002502463\n",
       "srch_destination_id        0.027696777     0.053835290   0.0839537551\n",
       "srch_destination_type_id  -0.037882834    -0.022330147   0.0324633909\n",
       "is_booking                -0.026127983    -0.003948081   0.0119576116\n",
       "cnt                        0.017665128    -0.001097954  -0.0112453118\n",
       "hotel_continent            1.000000000     0.298871981  -0.0925976258\n",
       "hotel_country              0.298871981     1.000000000   0.0211167593\n",
       "hotel_market              -0.092597626     0.021116759   1.0000000000\n",
       "hotel_cluster             -0.013963295    -0.024288551   0.0342053590\n",
       "                          hotel_cluster\n",
       "date_time                 -0.0010495786\n",
       "site_name                 -0.0224084561\n",
       "posa_continent             0.0149381747\n",
       "user_location_country     -0.0104772971\n",
       "user_location_region       0.0074534610\n",
       "user_location_city         0.0008305327\n",
       "orig_destination_distance            NA\n",
       "user_id                    0.0010515764\n",
       "is_mobile                  0.0084115344\n",
       "is_package                 0.0387325456\n",
       "channel                    0.0007070207\n",
       "srch_ci                              NA\n",
       "srch_co                              NA\n",
       "srch_adults_cnt            0.0123092102\n",
       "srch_children_cnt          0.0162605523\n",
       "srch_rm_cnt               -0.0059540615\n",
       "srch_destination_id       -0.0117117007\n",
       "srch_destination_type_id  -0.0328496823\n",
       "is_booking                -0.0215480657\n",
       "cnt                        0.0029438662\n",
       "hotel_continent           -0.0139632953\n",
       "hotel_country             -0.0242885512\n",
       "hotel_market               0.0342053590\n",
       "hotel_cluster              1.0000000000"
      ]
     },
     "metadata": {},
     "output_type": "display_data"
    }
   ],
   "source": [
    "# display correlation matrix\n",
    "train.cor"
   ]
  }
 ],
 "metadata": {
  "kernelspec": {
   "display_name": "R",
   "language": "R",
   "name": "ir"
  },
  "language_info": {
   "codemirror_mode": "r",
   "file_extension": ".r",
   "mimetype": "text/x-r-source",
   "name": "R",
   "pygments_lexer": "r",
   "version": "3.6.1"
  }
 },
 "nbformat": 4,
 "nbformat_minor": 2
}
