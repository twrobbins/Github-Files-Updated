{
 "cells": [
  {
   "cell_type": "code",
   "execution_count": 15,
   "metadata": {},
   "outputs": [
    {
     "name": "stderr",
     "output_type": "stream",
     "text": [
      "\n",
      "Attaching package: 'dplyr'\n",
      "\n",
      "The following objects are masked from 'package:stats':\n",
      "\n",
      "    filter, lag\n",
      "\n",
      "The following objects are masked from 'package:base':\n",
      "\n",
      "    intersect, setdiff, setequal, union\n",
      "\n"
     ]
    }
   ],
   "source": [
    "library(dplyr)\n",
    "library(ggplot2)\n"
   ]
  },
  {
   "cell_type": "code",
   "execution_count": 18,
   "metadata": {},
   "outputs": [],
   "source": [
    "train <- read.csv(\"dsc630_7.3_train_sample.csv\")\n",
    "test <- read.csv(\"dsc630_7.3_test_sample.csv\")\n",
    "dest <- read.csv(\"destinations.csv\")\n",
    "\n",
    "# , stringsAsFactors=TRUE)"
   ]
  },
  {
   "cell_type": "code",
   "execution_count": 19,
   "metadata": {},
   "outputs": [
    {
     "name": "stdout",
     "output_type": "stream",
     "text": [
      "'data.frame':\t10000 obs. of  25 variables:\n",
      " $ X                        : int  1 2 3 4 5 6 7 8 9 10 ...\n",
      " $ date_time                : int  2014 2014 2014 2014 2014 2013 2013 2014 2013 2014 ...\n",
      " $ site_name                : int  2 2 2 2 2 2 2 2 2 2 ...\n",
      " $ posa_continent           : int  3 3 3 3 3 3 3 3 3 3 ...\n",
      " $ user_location_country    : int  66 66 66 66 66 66 66 66 66 66 ...\n",
      " $ user_location_region     : int  184 348 348 337 174 348 335 348 174 174 ...\n",
      " $ user_location_city       : int  2037 18146 48862 7321 32977 24562 44080 48862 16634 18012 ...\n",
      " $ orig_destination_distance: int  11 1473 1551 1546 8344 1089 409 187 6260 68 ...\n",
      " $ user_id                  : int  595810 341196 91549 244626 269947 217070 922452 243460 224593 588227 ...\n",
      " $ is_mobile                : int  0 0 0 0 0 0 0 1 0 0 ...\n",
      " $ is_package               : int  0 0 1 1 0 0 1 1 0 0 ...\n",
      " $ channel                  : int  1 3 0 1 2 9 9 2 1 9 ...\n",
      " $ srch_ci                  : int  2014 2014 2014 2015 2014 2013 2013 2014 2013 2014 ...\n",
      " $ srch_co                  : int  2014 2014 2014 2015 2014 2013 2013 2014 2013 2014 ...\n",
      " $ srch_adults_cnt          : int  2 2 2 2 2 1 1 2 2 2 ...\n",
      " $ srch_children_cnt        : int  0 0 0 0 0 3 0 0 2 0 ...\n",
      " $ srch_rm_cnt              : int  1 1 1 1 1 1 1 1 1 1 ...\n",
      " $ srch_destination_id      : int  12195 25086 11439 12188 468 11373 8219 8223 8746 8837 ...\n",
      " $ srch_destination_type_id : int  6 6 1 6 1 1 1 1 1 1 ...\n",
      " $ is_booking               : int  0 0 0 1 0 0 0 0 0 0 ...\n",
      " $ cnt                      : int  1 1 2 1 1 1 1 2 1 1 ...\n",
      " $ hotel_continent          : int  2 2 4 4 3 4 2 2 6 2 ...\n",
      " $ hotel_country            : int  50 50 163 8 48 128 50 50 105 50 ...\n",
      " $ hotel_market             : int  656 650 1503 110 153 1455 688 690 29 360 ...\n",
      " $ hotel_cluster            : int  47 38 52 65 46 26 18 69 3 42 ...\n"
     ]
    }
   ],
   "source": [
    "str(train)"
   ]
  },
  {
   "cell_type": "code",
   "execution_count": 21,
   "metadata": {},
   "outputs": [
    {
     "data": {
      "text/plain": [
       "\n",
       "Call:\n",
       "lm(formula = hotel_cluster ~ hotel_country + hotel_market, data = train)\n",
       "\n",
       "Residuals:\n",
       "   Min     1Q Median     3Q    Max \n",
       "-52.42 -24.55  -0.61  22.89  51.61 \n",
       "\n",
       "Coefficients:\n",
       "                Estimate Std. Error t value Pr(>|t|)    \n",
       "(Intercept)   50.6601175  0.6012030  84.265  < 2e-16 ***\n",
       "hotel_country -0.0161893  0.0051211  -3.161  0.00158 ** \n",
       "hotel_market   0.0012309  0.0005623   2.189  0.02863 *  \n",
       "---\n",
       "Signif. codes:  0 '***' 0.001 '**' 0.01 '*' 0.05 '.' 0.1 ' ' 1\n",
       "\n",
       "Residual standard error: 28.8 on 9997 degrees of freedom\n",
       "Multiple R-squared:  0.001438,\tAdjusted R-squared:  0.001238 \n",
       "F-statistic: 7.198 on 2 and 9997 DF,  p-value: 0.0007517\n"
      ]
     },
     "metadata": {},
     "output_type": "display_data"
    }
   ],
   "source": [
    "model.fit <- lm(hotel_cluster ~ hotel_country + hotel_market, data = train)\n",
    "summary(model.fit)"
   ]
  },
  {
   "cell_type": "code",
   "execution_count": 23,
   "metadata": {},
   "outputs": [
    {
     "data": {
      "text/plain": [
       "\n",
       "Call:\n",
       "lm(formula = orig_destination_distance ~ user_location_country + \n",
       "    user_location_region + user_location_city, data = train)\n",
       "\n",
       "Residuals:\n",
       "    Min      1Q  Median      3Q     Max \n",
       "-3485.7 -1530.4  -794.8   725.5  9341.9 \n",
       "\n",
       "Coefficients:\n",
       "                        Estimate Std. Error t value Pr(>|t|)    \n",
       "(Intercept)            1.140e+03  8.612e+01  13.233  < 2e-16 ***\n",
       "user_location_country  2.296e+00  4.998e-01   4.593 4.45e-06 ***\n",
       "user_location_region   2.057e+00  1.881e-01  10.938  < 2e-16 ***\n",
       "user_location_city    -1.336e-03  1.705e-03  -0.784    0.433    \n",
       "---\n",
       "Signif. codes:  0 '***' 0.001 '**' 0.01 '*' 0.05 '.' 0.1 ' ' 1\n",
       "\n",
       "Residual standard error: 2201 on 6341 degrees of freedom\n",
       "  (3655 observations deleted due to missingness)\n",
       "Multiple R-squared:  0.02203,\tAdjusted R-squared:  0.02157 \n",
       "F-statistic: 47.62 on 3 and 6341 DF,  p-value: < 2.2e-16\n"
      ]
     },
     "metadata": {},
     "output_type": "display_data"
    }
   ],
   "source": [
    "model.fit <- lm(orig_destination_distance ~ user_location_country + user_location_region + user_location_city, data = train)\n",
    "summary(model.fit)"
   ]
  }
 ],
 "metadata": {
  "kernelspec": {
   "display_name": "R",
   "language": "R",
   "name": "ir"
  },
  "language_info": {
   "codemirror_mode": "r",
   "file_extension": ".r",
   "mimetype": "text/x-r-source",
   "name": "R",
   "pygments_lexer": "r",
   "version": "3.6.1"
  }
 },
 "nbformat": 4,
 "nbformat_minor": 2
}
